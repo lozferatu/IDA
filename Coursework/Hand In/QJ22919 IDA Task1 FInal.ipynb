{
 "cells": [
  {
   "cell_type": "markdown",
   "metadata": {
    "tags": []
   },
   "source": [
    "# Coursework IDA\n",
    "\n",
    "## Task 1\n",
    "\n",
    "## 1.1. \n",
    "Implement and train a method for automatically classifying texts in the FiQA sentiment analysis\n",
    "dataset as positive, neutral or negative. Refer to the labs, lecture materials and textbook to identify\n",
    "a suitable method. In your report:\n",
    "• Briefly explain how your chosen method works and its main strengths and limitations;\n",
    "• Describe the preprocessing steps and the features you use to represent each text instance;\n",
    "• Explain why you chose those features and preprocessing steps and hypothesise how they\n",
    "will affect your results;\n",
    "• Briefly describe your software implementation.\n",
    "(10 marks)\n",
    "\n"
   ]
  },
  {
   "cell_type": "code",
   "execution_count": 8,
   "metadata": {
    "ExecuteTime": {
     "end_time": "2023-05-24T10:30:13.086929400Z",
     "start_time": "2023-05-24T10:30:11.727624500Z"
    }
   },
   "outputs": [
    {
     "name": "stdout",
     "output_type": "stream",
     "text": [
      "The autoreload extension is already loaded. To reload it, use:\n",
      "  %reload_ext autoreload\n"
     ]
    }
   ],
   "source": [
    "%load_ext autoreload\n",
    "%autoreload 2\n",
    "\n",
    "# Use HuggingFace's datasets library to access the financial_phrasebank dataset\n",
    "from datasets import load_dataset\n",
    "import pandas as pd\n",
    "import numpy as np\n",
    "import json\n",
    "\n",
    "from sklearn import metrics\n",
    "from sklearn.model_selection import train_test_split\n",
    "from sklearn.linear_model import LogisticRegression\n",
    "from sklearn.feature_extraction.text import CountVectorizer\n",
    "from sklearn.naive_bayes import MultinomialNB\n",
    "\n",
    "from nltk import word_tokenize\n",
    "from nltk.corpus import stopwords\n",
    "from nltk.classify import NaiveBayesClassifier\n",
    "from nltk.corpus import subjectivity\n",
    "from nltk.sentiment import SentimentAnalyzer\n",
    "from nltk.sentiment.util import *\n",
    "\n",
    "# pre trained analyser for comparison\n",
    "from nltk.sentiment import SentimentIntensityAnalyzer\n",
    "\n",
    "import matplotlib.pyplot as plt\n",
    "\n",
    "# for negation\n",
    "import re\n"
   ]
  },
  {
   "cell_type": "code",
   "execution_count": 8,
   "outputs": [],
   "source": [],
   "metadata": {
    "collapsed": false,
    "ExecuteTime": {
     "end_time": "2023-05-24T10:30:13.086929400Z",
     "start_time": "2023-05-24T10:30:11.958675400Z"
    }
   }
  },
  {
   "cell_type": "code",
   "execution_count": 9,
   "outputs": [],
   "source": [
    "# nltk.download('punkt')"
   ],
   "metadata": {
    "collapsed": false,
    "ExecuteTime": {
     "end_time": "2023-05-24T10:30:13.265969200Z",
     "start_time": "2023-05-24T10:30:11.974680Z"
    }
   }
  },
  {
   "cell_type": "code",
   "execution_count": 10,
   "metadata": {
    "ExecuteTime": {
     "end_time": "2023-05-24T10:30:13.467018800Z",
     "start_time": "2023-05-24T10:30:12.212732900Z"
    }
   },
   "outputs": [],
   "source": [
    "train_files = [\n",
    "    'data_cache/FiQA_ABSA_task1/task1_headline_ABSA_train.json',\n",
    "    'data_cache/FiQA_ABSA_task1/task1_post_ABSA_train.json'\n",
    "]"
   ]
  },
  {
   "cell_type": "code",
   "execution_count": 11,
   "metadata": {
    "ExecuteTime": {
     "end_time": "2023-05-24T10:30:13.467018800Z",
     "start_time": "2023-05-24T10:30:12.473792300Z"
    }
   },
   "outputs": [
    {
     "name": "stdout",
     "output_type": "stream",
     "text": [
      "Number of instances: 1111\n",
      "Number of labels: 1111\n",
      "Number of negative labels: 283\n",
      "Number of neutral labels: 359\n",
      "Number of positive labels: 469\n"
     ]
    }
   ],
   "source": [
    "\n",
    "\n",
    "def load_fiqa_sa_from_json(json_files):\n",
    "    train_text = []\n",
    "    train_labels = []\n",
    "\n",
    "    # iterate through each tweet file\n",
    "    for file in json_files:\n",
    "        # open file in read mode, with method closes file after getting data stream\n",
    "        with open(file, 'r', encoding = 'utf8') as handle:\n",
    "            # load file object and convert into json object\n",
    "            dataf = json.load(handle)\n",
    "        \n",
    "        \n",
    "        dataf_text = [dataf[k][\"sentence\"] for k in dataf.keys()]\n",
    "        # print(len(dataf_text))\n",
    "        train_text.extend(dataf_text)\n",
    "\n",
    "        dataf_labels = [float(dataf[k][\"info\"][0][\"sentiment_score\"]) for k in dataf.keys()]\n",
    "        # print(len(dataf_labels))\n",
    "        train_labels.extend(dataf_labels)\n",
    "\n",
    "    train_text = np.array(train_text)\n",
    "    train_labels = np.array(train_labels)\n",
    "    \n",
    "    return train_text, train_labels\n",
    "\n",
    "\n",
    "def threshold_scores(scores):\n",
    "    \"\"\"\n",
    "    Convert sentiment scores to discrete labels.\n",
    "    0 = negative.\n",
    "    1 = neutral.\n",
    "    2 = positive.\n",
    "    \"\"\"\n",
    "    labels = []\n",
    "    for score in scores:\n",
    "        if score < -0.25:\n",
    "            labels.append(0)\n",
    "        elif score > 0.32:\n",
    "            labels.append(2)\n",
    "        else:\n",
    "            labels.append(1)\n",
    "            \n",
    "    return np.array(labels)\n",
    "\n",
    "\n",
    "all_text, all_labels = load_fiqa_sa_from_json(train_files)\n",
    "    \n",
    "print(f'Number of instances: {len(all_text)}')\n",
    "print(f'Number of labels: {len(all_labels)}')\n",
    "\n",
    "all_labels = threshold_scores(all_labels)\n",
    "print(f'Number of negative labels: {np.sum(all_labels==0)}')\n",
    "print(f'Number of neutral labels: {np.sum(all_labels==1)}')\n",
    "print(f'Number of positive labels: {np.sum(all_labels==2)}')"
   ]
  },
  {
   "cell_type": "code",
   "execution_count": 11,
   "outputs": [],
   "source": [],
   "metadata": {
    "collapsed": false,
    "ExecuteTime": {
     "end_time": "2023-05-24T10:30:13.467018800Z",
     "start_time": "2023-05-24T10:30:12.707844Z"
    }
   }
  },
  {
   "cell_type": "code",
   "execution_count": 12,
   "metadata": {
    "ExecuteTime": {
     "end_time": "2023-05-24T10:30:13.468019600Z",
     "start_time": "2023-05-24T10:30:12.723847600Z"
    }
   },
   "outputs": [
    {
     "name": "stdout",
     "output_type": "stream",
     "text": [
      "0\n"
     ]
    }
   ],
   "source": [
    "print(all_labels[0])"
   ]
  },
  {
   "cell_type": "code",
   "execution_count": 13,
   "metadata": {
    "ExecuteTime": {
     "end_time": "2023-05-24T10:30:13.545037300Z",
     "start_time": "2023-05-24T10:30:12.962902400Z"
    }
   },
   "outputs": [
    {
     "data": {
      "text/plain": "tuple"
     },
     "execution_count": 13,
     "metadata": {},
     "output_type": "execute_result"
    }
   ],
   "source": [
    "type(load_fiqa_sa_from_json(train_files))"
   ]
  },
  {
   "cell_type": "code",
   "execution_count": 14,
   "metadata": {
    "ExecuteTime": {
     "end_time": "2023-05-24T10:30:13.545037300Z",
     "start_time": "2023-05-24T10:30:13.200954800Z"
    }
   },
   "outputs": [
    {
     "name": "stdout",
     "output_type": "stream",
     "text": [
      "1111\n"
     ]
    }
   ],
   "source": [
    "print(len(load_fiqa_sa_from_json(train_files)[0]))"
   ]
  },
  {
   "cell_type": "code",
   "execution_count": 15,
   "metadata": {
    "ExecuteTime": {
     "end_time": "2023-05-24T10:30:13.693069300Z",
     "start_time": "2023-05-24T10:30:13.442014200Z"
    }
   },
   "outputs": [
    {
     "name": "stdout",
     "output_type": "stream",
     "text": [
      "Number of training instances = 754\n",
      "Number of validation instances = 134\n",
      "Number of test instances = 223\n"
     ]
    }
   ],
   "source": [
    "\n",
    "# Split test data from training data\n",
    "train_documents, test_documents, train_labels, test_labels = train_test_split(\n",
    "    all_text, \n",
    "    all_labels, \n",
    "    test_size=0.2, \n",
    "    stratify=all_labels  # make sure the same proportion of labels is in the test set and training set\n",
    ")\n",
    "\n",
    "# Split validation data from training data\n",
    "train_documents, val_documents, train_labels, val_labels = train_test_split(\n",
    "    train_documents, \n",
    "    train_labels, \n",
    "    test_size=0.15, \n",
    "    stratify=train_labels  # make sure the same proportion of labels is in the test set and training set\n",
    ")\n",
    "\n",
    "print(f'Number of training instances = {len(train_documents)}')\n",
    "print(f'Number of validation instances = {len(val_documents)}')\n",
    "print(f'Number of test instances = {len(test_documents)}')\n"
   ]
  },
  {
   "cell_type": "code",
   "execution_count": 16,
   "metadata": {
    "ExecuteTime": {
     "end_time": "2023-05-24T10:30:13.916119800Z",
     "start_time": "2023-05-24T10:30:13.694069500Z"
    }
   },
   "outputs": [
    {
     "name": "stdout",
     "output_type": "stream",
     "text": [
      "What does one instance look like from the training set? \n",
      "\n",
      "$CSX is up today to report.  Wall Street is expecting EPS to be at $0.37, and revenues at $2,732B.\n",
      "...and here is its corresponding label \n",
      "\n",
      "2\n"
     ]
    }
   ],
   "source": [
    "print(f'What does one instance look like from the training set? \\n\\n{train_documents[233]}')\n",
    "print(f'...and here is its corresponding label \\n\\n{train_labels[233]}')"
   ]
  },
  {
   "cell_type": "code",
   "execution_count": 17,
   "metadata": {
    "ExecuteTime": {
     "end_time": "2023-05-24T10:30:14.463243100Z",
     "start_time": "2023-05-24T10:30:13.919121400Z"
    }
   },
   "outputs": [
    {
     "name": "stderr",
     "output_type": "stream",
     "text": [
      "C:\\Users\\loz\\anaconda3\\envs\\data_analytics\\lib\\site-packages\\sklearn\\feature_extraction\\text.py:516: UserWarning: The parameter 'token_pattern' will not be used since 'tokenizer' is not None'\n",
      "  warnings.warn(\n"
     ]
    }
   ],
   "source": [
    "\n",
    "\n",
    "# CountVectorizer can do its own tokenization, but for consistency we want to\n",
    "# carry on using WordNetTokenizer. We write a small wrapper class to enable this:\n",
    "class Tokenizer(object):\n",
    "    def __call__(self, tweets):\n",
    "        return word_tokenize(tweets)\n",
    "\n",
    "    \n",
    "# create stopwords function from nltk\n",
    "stop_words = set(stopwords.words('english'))\n",
    "vectorizer = CountVectorizer(tokenizer=Tokenizer())  # construct the vectorizer\n",
    "# with stop word removal\n",
    "#vectorizer = CountVectorizer(tokenizer=Tokenizer(), stop_words=stop_words)  # construct the vectorizer\n",
    "\n",
    "vectorizer.fit(train_documents)  # Learn the vocabulary\n",
    "X_train = vectorizer.transform(train_documents)  # extract training set bags of words\n",
    "X_val = vectorizer.transform(val_documents)  # extract test set bags of words\n",
    "X_test = vectorizer.transform(test_documents)  # extract test set bags of words"
   ]
  },
  {
   "cell_type": "code",
   "execution_count": 18,
   "metadata": {
    "ExecuteTime": {
     "end_time": "2023-05-24T10:30:14.701296600Z",
     "start_time": "2023-05-24T10:30:14.462242500Z"
    }
   },
   "outputs": [],
   "source": [
    "# print(nltk.data.path)"
   ]
  },
  {
   "cell_type": "code",
   "execution_count": 19,
   "metadata": {
    "jupyter": {
     "source_hidden": true
    },
    "tags": [],
    "ExecuteTime": {
     "end_time": "2023-05-24T10:30:14.938360900Z",
     "start_time": "2023-05-24T10:30:14.703297200Z"
    }
   },
   "outputs": [],
   "source": [
    "# see count vector from training set\n",
    "counts = pd.DataFrame(X_train.toarray(), columns = vectorizer.get_feature_names_out())"
   ]
  },
  {
   "cell_type": "code",
   "execution_count": 20,
   "metadata": {
    "ExecuteTime": {
     "end_time": "2023-05-24T10:30:15.161410700Z",
     "start_time": "2023-05-24T10:30:14.939360700Z"
    }
   },
   "outputs": [
    {
     "data": {
      "text/plain": "<754x3314 sparse matrix of type '<class 'numpy.int64'>'\n\twith 10449 stored elements in Compressed Sparse Row format>"
     },
     "execution_count": 20,
     "metadata": {},
     "output_type": "execute_result"
    }
   ],
   "source": [
    "X_train"
   ]
  },
  {
   "cell_type": "code",
   "execution_count": 21,
   "metadata": {
    "ExecuteTime": {
     "end_time": "2023-05-24T10:30:15.385461200Z",
     "start_time": "2023-05-24T10:30:15.162410900Z"
    }
   },
   "outputs": [
    {
     "data": {
      "text/plain": "Index(['!', '#', '$', '%', '&', ''', '''', ''15', ''breached', ''challenging',\n       ...\n       'â£22', 'â£250m', 'â£30m', 'â£347', 'â£90m', 'â€', '’', '“', '”', '📈'],\n      dtype='object', length=3314)"
     },
     "execution_count": 21,
     "metadata": {},
     "output_type": "execute_result"
    }
   ],
   "source": [
    "counts.columns\n"
   ]
  },
  {
   "cell_type": "markdown",
   "metadata": {
    "tags": []
   },
   "source": [
    "## Naive Bayes Classifier"
   ]
  },
  {
   "cell_type": "code",
   "execution_count": 22,
   "metadata": {
    "ExecuteTime": {
     "end_time": "2023-05-24T10:30:15.609511400Z",
     "start_time": "2023-05-24T10:30:15.386461400Z"
    }
   },
   "outputs": [
    {
     "data": {
      "text/plain": "MultinomialNB()"
     },
     "execution_count": 22,
     "metadata": {},
     "output_type": "execute_result"
    }
   ],
   "source": [
    "# WRITE YOUR CODE HERE\n",
    "classifier = MultinomialNB()\n",
    "classifier.fit(X_train, train_labels)"
   ]
  },
  {
   "cell_type": "code",
   "execution_count": 23,
   "metadata": {
    "ExecuteTime": {
     "end_time": "2023-05-24T10:30:15.836566700Z",
     "start_time": "2023-05-24T10:30:15.610511700Z"
    }
   },
   "outputs": [],
   "source": [
    "y_val_pred = classifier.predict(X_val)"
   ]
  },
  {
   "cell_type": "code",
   "execution_count": 23,
   "metadata": {
    "ExecuteTime": {
     "end_time": "2023-05-24T10:30:15.852575900Z",
     "start_time": "2023-05-24T10:30:15.834567100Z"
    }
   },
   "outputs": [],
   "source": []
  },
  {
   "cell_type": "code",
   "execution_count": 24,
   "metadata": {
    "ExecuteTime": {
     "end_time": "2023-05-24T10:30:16.075634100Z",
     "start_time": "2023-05-24T10:30:15.850575400Z"
    }
   },
   "outputs": [],
   "source": [
    "cm = metrics.confusion_matrix(val_labels, y_val_pred)\n"
   ]
  },
  {
   "cell_type": "code",
   "execution_count": 25,
   "metadata": {
    "ExecuteTime": {
     "end_time": "2023-05-24T10:30:16.303685200Z",
     "start_time": "2023-05-24T10:30:16.075634100Z"
    }
   },
   "outputs": [],
   "source": [
    "# Define class labels\n",
    "classes = ['0', '1', '2']\n"
   ]
  },
  {
   "cell_type": "code",
   "execution_count": 26,
   "metadata": {
    "ExecuteTime": {
     "end_time": "2023-05-24T10:30:16.699773Z",
     "start_time": "2023-05-24T10:30:16.301684700Z"
    }
   },
   "outputs": [
    {
     "data": {
      "text/plain": "<Figure size 640x480 with 2 Axes>",
      "image/png": "[encoded data removed]"
     },
     "metadata": {},
     "output_type": "display_data"
    }
   ],
   "source": [
    "# Plot confusion matrix\n",
    "fig, ax = plt.subplots()\n",
    "im = ax.imshow(cm, interpolation='nearest', cmap=plt.cm.Blues)\n",
    "ax.figure.colorbar(im, ax=ax)\n",
    "ax.set(xticks=np.arange(cm.shape[1]),\n",
    "       yticks=np.arange(cm.shape[0]),\n",
    "       xticklabels=classes, yticklabels=classes,\n",
    "       xlabel='Predicted label', ylabel='True label',\n",
    "       title='Confusion matrix')\n",
    "plt.setp(ax.get_xticklabels(), rotation=45, ha=\"right\",\n",
    "         rotation_mode=\"anchor\")\n",
    "\n",
    "# Add counts to each cell\n",
    "for i in range(cm.shape[0]):\n",
    "    for j in range(cm.shape[1]):\n",
    "        ax.text(j, i, format(cm[i, j], 'd'),\n",
    "                ha=\"center\", va=\"center\",\n",
    "                color=\"white\" if cm[i, j] > cm.max() / 2. else \"black\")\n",
    "\n",
    "# Show plot\n",
    "plt.show()"
   ]
  },
  {
   "cell_type": "code",
   "execution_count": 26,
   "metadata": {
    "ExecuteTime": {
     "end_time": "2023-05-24T10:30:16.712775800Z",
     "start_time": "2023-05-24T10:30:16.699773Z"
    }
   },
   "outputs": [],
   "source": []
  },
  {
   "cell_type": "code",
   "execution_count": 27,
   "metadata": {
    "ExecuteTime": {
     "end_time": "2023-05-24T10:30:16.953831700Z",
     "start_time": "2023-05-24T10:30:16.714776600Z"
    }
   },
   "outputs": [
    {
     "name": "stdout",
     "output_type": "stream",
     "text": [
      "Accuracy = 0.5671641791044776\n",
      "Precision (macro average) = 0.642512077294686\n",
      "Recall (macro average) = 0.5181278549771602\n",
      "F1 score (macro average) = 0.5233740121756719\n",
      "              precision    recall  f1-score   support\n",
      "\n",
      "           0       0.75      0.26      0.39        34\n",
      "           1       0.67      0.47      0.55        43\n",
      "           2       0.51      0.82      0.63        57\n",
      "\n",
      "    accuracy                           0.57       134\n",
      "   macro avg       0.64      0.52      0.52       134\n",
      "weighted avg       0.62      0.57      0.54       134\n",
      "\n"
     ]
    }
   ],
   "source": [
    "# WRITE YOUR CODE HERE\n",
    "from sklearn.metrics import accuracy_score, precision_score, recall_score, f1_score, classification_report\n",
    "\n",
    "acc = accuracy_score(val_labels, y_val_pred)\n",
    "print(f'Accuracy = {acc}')\n",
    "\n",
    "prec = precision_score(val_labels, y_val_pred, average='macro')\n",
    "print(f'Precision (macro average) = {prec}')\n",
    "\n",
    "rec = recall_score(val_labels, y_val_pred, average='macro')\n",
    "print(f'Recall (macro average) = {rec}')\n",
    "\n",
    "f1 = f1_score(val_labels, y_val_pred, average='macro')\n",
    "print(f'F1 score (macro average) = {f1}')\n",
    "\n",
    "# We can get all of these with a per-class breakdown using classification_report:\n",
    "print(classification_report(val_labels, y_val_pred))"
   ]
  },
  {
   "cell_type": "code",
   "execution_count": 28,
   "metadata": {
    "ExecuteTime": {
     "end_time": "2023-05-24T10:30:17.196702Z",
     "start_time": "2023-05-24T10:30:16.955831900Z"
    }
   },
   "outputs": [
    {
     "name": "stdout",
     "output_type": "stream",
     "text": [
      "[0.0043881  0.00523713 0.00751787]\n",
      "[0.00308792 0.00349142 0.00184866]\n"
     ]
    }
   ],
   "source": [
    "vocabulary = vectorizer.vocabulary_\n",
    "\n",
    "### CHANGE THE NAME OF THE CLASSIFIER VARIABLE BELOW TO USE YOUR TRAINED CLASSIFIER\n",
    "feat_likelihoods = np.exp(classifier.feature_log_prob_)  # Use exponential to convert the logs back to probabilities\n",
    "###\n",
    "\n",
    "# WRITE YOUR CODE HERE\n",
    "print(feat_likelihoods[:, vocabulary['a']])\n",
    "print(feat_likelihoods[:, vocabulary['it']])"
   ]
  },
  {
   "cell_type": "code",
   "execution_count": 28,
   "metadata": {
    "ExecuteTime": {
     "end_time": "2023-05-24T10:30:17.237556200Z",
     "start_time": "2023-05-24T10:30:17.195701400Z"
    }
   },
   "outputs": [],
   "source": []
  },
  {
   "cell_type": "markdown",
   "metadata": {
    "pycharm": {
     "name": "#%% md\n"
    }
   },
   "source": [
    "# Logistic Regression Classifier\n",
    "\n"
   ]
  },
  {
   "cell_type": "markdown",
   "metadata": {},
   "source": []
  },
  {
   "cell_type": "code",
   "execution_count": 29,
   "metadata": {
    "ExecuteTime": {
     "end_time": "2023-05-24T10:30:17.514618200Z",
     "start_time": "2023-05-24T10:30:17.209551500Z"
    }
   },
   "outputs": [
    {
     "data": {
      "text/plain": "LogisticRegression()"
     },
     "execution_count": 29,
     "metadata": {},
     "output_type": "execute_result"
    }
   ],
   "source": [
    "\n",
    "\n",
    "classifier = LogisticRegression()\n",
    "classifier.fit(X_train, train_labels)"
   ]
  },
  {
   "cell_type": "code",
   "execution_count": 29,
   "metadata": {
    "ExecuteTime": {
     "end_time": "2023-05-24T10:30:17.529621600Z",
     "start_time": "2023-05-24T10:30:17.515618500Z"
    }
   },
   "outputs": [],
   "source": []
  },
  {
   "cell_type": "code",
   "execution_count": 30,
   "metadata": {
    "ExecuteTime": {
     "end_time": "2023-05-24T10:30:17.769689500Z",
     "start_time": "2023-05-24T10:30:17.530621800Z"
    }
   },
   "outputs": [],
   "source": [
    "y_val_pred = classifier.predict(X_val)"
   ]
  },
  {
   "cell_type": "code",
   "execution_count": 30,
   "metadata": {
    "ExecuteTime": {
     "end_time": "2023-05-24T10:30:17.785695900Z",
     "start_time": "2023-05-24T10:30:17.769689500Z"
    }
   },
   "outputs": [],
   "source": []
  },
  {
   "cell_type": "code",
   "execution_count": 30,
   "metadata": {
    "ExecuteTime": {
     "end_time": "2023-05-24T10:30:17.812705600Z",
     "start_time": "2023-05-24T10:30:17.785695900Z"
    }
   },
   "outputs": [],
   "source": []
  },
  {
   "cell_type": "code",
   "execution_count": 31,
   "metadata": {
    "ExecuteTime": {
     "end_time": "2023-05-24T10:30:18.025756400Z",
     "start_time": "2023-05-24T10:30:17.801702800Z"
    }
   },
   "outputs": [],
   "source": [
    "cm = metrics.confusion_matrix(val_labels, y_val_pred)\n"
   ]
  },
  {
   "cell_type": "code",
   "execution_count": 31,
   "metadata": {
    "ExecuteTime": {
     "end_time": "2023-05-24T10:30:18.039761400Z",
     "start_time": "2023-05-24T10:30:18.025756400Z"
    }
   },
   "outputs": [],
   "source": []
  },
  {
   "cell_type": "code",
   "execution_count": 32,
   "metadata": {
    "ExecuteTime": {
     "end_time": "2023-05-24T10:30:18.455593700Z",
     "start_time": "2023-05-24T10:30:18.043761700Z"
    }
   },
   "outputs": [
    {
     "data": {
      "text/plain": "<Figure size 640x480 with 2 Axes>",
      "image/png": "[encoded data removed]"
     },
     "metadata": {},
     "output_type": "display_data"
    }
   ],
   "source": [
    "\n",
    "# Define class labels\n",
    "classes = ['0', '1', '2']\n",
    "\n",
    "# Plot confusion matrix\n",
    "fig, ax = plt.subplots()\n",
    "im = ax.imshow(cm, interpolation='nearest', cmap=plt.cm.Blues)\n",
    "ax.figure.colorbar(im, ax=ax)\n",
    "ax.set(xticks=np.arange(cm.shape[1]),\n",
    "       yticks=np.arange(cm.shape[0]),\n",
    "       xticklabels=classes, yticklabels=classes,\n",
    "       xlabel='Predicted label', ylabel='True label',\n",
    "       title='Confusion matrix')\n",
    "plt.setp(ax.get_xticklabels(), rotation=45, ha=\"right\",\n",
    "         rotation_mode=\"anchor\")\n",
    "\n",
    "# Add counts to each cell\n",
    "for i in range(cm.shape[0]):\n",
    "    for j in range(cm.shape[1]):\n",
    "        ax.text(j, i, format(cm[i, j], 'd'),\n",
    "                ha=\"center\", va=\"center\",\n",
    "                color=\"white\" if cm[i, j] > cm.max() / 2. else \"black\")\n",
    "\n",
    "# Show plot\n",
    "plt.show()"
   ]
  },
  {
   "cell_type": "code",
   "execution_count": 32,
   "metadata": {
    "ExecuteTime": {
     "end_time": "2023-05-24T10:30:18.515626Z",
     "start_time": "2023-05-24T10:30:18.457595100Z"
    }
   },
   "outputs": [],
   "source": []
  },
  {
   "cell_type": "code",
   "execution_count": 32,
   "metadata": {
    "ExecuteTime": {
     "end_time": "2023-05-24T10:30:18.518627300Z",
     "start_time": "2023-05-24T10:30:18.473609100Z"
    }
   },
   "outputs": [],
   "source": []
  },
  {
   "cell_type": "code",
   "execution_count": 32,
   "metadata": {
    "ExecuteTime": {
     "end_time": "2023-05-24T10:30:18.518627300Z",
     "start_time": "2023-05-24T10:30:18.488612700Z"
    }
   },
   "outputs": [],
   "source": []
  },
  {
   "cell_type": "markdown",
   "metadata": {},
   "source": [
    "## 1.2. Evaluate Method\n",
    "\n",
    "Evaluate your method, then interpret and discuss your results. Include the following points:\n",
    "• Define your performance metrics and state their limitations;\n",
    "• Describe the testing procedure (e.g., how you used each split of the dataset);\n",
    "• Show your results using suitable plots or tables;\n",
    "• How could you improve the method or experimental process? Consider the errors that your\n",
    "method makes.  \n",
    "(9 marks)\n"
   ]
  },
  {
   "cell_type": "code",
   "execution_count": 32,
   "metadata": {
    "ExecuteTime": {
     "end_time": "2023-05-24T10:30:18.523629Z",
     "start_time": "2023-05-24T10:30:18.515626Z"
    }
   },
   "outputs": [],
   "source": []
  },
  {
   "cell_type": "code",
   "execution_count": 33,
   "metadata": {
    "ExecuteTime": {
     "end_time": "2023-05-24T10:30:18.758597700Z",
     "start_time": "2023-05-24T10:30:18.521628300Z"
    }
   },
   "outputs": [
    {
     "name": "stdout",
     "output_type": "stream",
     "text": [
      "Accuracy = 0.6343283582089553\n",
      "Precision (macro average) = 0.6676923076923077\n",
      "Recall (macro average) = 0.6041631666946664\n",
      "F1 score (macro average) = 0.6168459664394624\n",
      "              precision    recall  f1-score   support\n",
      "\n",
      "           0       0.80      0.47      0.59        34\n",
      "           1       0.59      0.53      0.56        43\n",
      "           2       0.61      0.81      0.70        57\n",
      "\n",
      "    accuracy                           0.63       134\n",
      "   macro avg       0.67      0.60      0.62       134\n",
      "weighted avg       0.65      0.63      0.63       134\n",
      "\n"
     ]
    }
   ],
   "source": [
    "# WRITE YOUR CODE HERE\n",
    "from sklearn.metrics import accuracy_score, precision_score, recall_score, f1_score, classification_report\n",
    "\n",
    "acc = accuracy_score(val_labels, y_val_pred)\n",
    "print(f'Accuracy = {acc}')\n",
    "\n",
    "prec = precision_score(val_labels, y_val_pred, average='macro')\n",
    "print(f'Precision (macro average) = {prec}')\n",
    "\n",
    "rec = recall_score(val_labels, y_val_pred, average='macro')\n",
    "print(f'Recall (macro average) = {rec}')\n",
    "\n",
    "f1 = f1_score(val_labels, y_val_pred, average='macro')\n",
    "print(f'F1 score (macro average) = {f1}')\n",
    "\n",
    "# We can get all of these with a per-class breakdown using classification_report:\n",
    "print(classification_report(val_labels, y_val_pred))"
   ]
  },
  {
   "cell_type": "code",
   "execution_count": 33,
   "metadata": {
    "ExecuteTime": {
     "end_time": "2023-05-24T10:30:18.801358900Z",
     "start_time": "2023-05-24T10:30:18.759597100Z"
    }
   },
   "outputs": [],
   "source": []
  },
  {
   "cell_type": "markdown",
   "metadata": {},
   "source": [
    "## With Data Processing"
   ]
  },
  {
   "cell_type": "code",
   "execution_count": 34,
   "metadata": {
    "tags": [],
    "ExecuteTime": {
     "end_time": "2023-05-24T10:30:19.020425500Z",
     "start_time": "2023-05-24T10:30:18.781354900Z"
    }
   },
   "outputs": [],
   "source": [
    "def add_negation(sentence):\n",
    "    # define regex pattern to match words after \"not\", \"n't\", or \"never\"\n",
    "    pattern = r\"(?:(?:(?:not)|(?:n't)|(?:never))\\s+)(\\w+)\"\n",
    "    \n",
    "    # use regex to find and replace words with negation prefix\n",
    "    result = re.sub(pattern, r\" not_\\1\", sentence)\n",
    "    \n",
    "    return result"
   ]
  },
  {
   "cell_type": "code",
   "execution_count": 35,
   "metadata": {
    "ExecuteTime": {
     "end_time": "2023-05-24T10:30:19.254425800Z",
     "start_time": "2023-05-24T10:30:19.015425400Z"
    }
   },
   "outputs": [],
   "source": [
    "# apply add_negation to each tweet in the array using a list comprehension\n",
    "all_text_negated = np.array([add_negation(text) for text in all_text])\n"
   ]
  },
  {
   "cell_type": "code",
   "execution_count": 36,
   "metadata": {
    "tags": [],
    "ExecuteTime": {
     "end_time": "2023-05-24T10:30:19.492048700Z",
     "start_time": "2023-05-24T10:30:19.253425500Z"
    }
   },
   "outputs": [],
   "source": [
    "# convert all tweets to lower case\n",
    "all_text_negated = np.char.lower(all_text_negated)"
   ]
  },
  {
   "cell_type": "code",
   "execution_count": 36,
   "metadata": {
    "ExecuteTime": {
     "end_time": "2023-05-24T10:30:19.504580100Z",
     "start_time": "2023-05-24T10:30:19.492048700Z"
    }
   },
   "outputs": [],
   "source": []
  },
  {
   "cell_type": "code",
   "execution_count": 37,
   "metadata": {
    "ExecuteTime": {
     "end_time": "2023-05-24T10:30:19.729630100Z",
     "start_time": "2023-05-24T10:30:19.506580600Z"
    }
   },
   "outputs": [
    {
     "name": "stdout",
     "output_type": "stream",
     "text": [
      "Number of training instances = 754\n",
      "Number of validation instances = 134\n",
      "Number of test instances = 223\n"
     ]
    }
   ],
   "source": [
    "\n",
    "# Split test data from training data\n",
    "train_documents, test_documents, train_labels, test_labels = train_test_split(\n",
    "    all_text_negated, \n",
    "    all_labels, \n",
    "    test_size=0.2, \n",
    "    stratify=all_labels  # make sure the same proportion of labels is in the test set and training set\n",
    ")\n",
    "\n",
    "# Split validation data from training data\n",
    "train_documents, val_documents, train_labels, val_labels = train_test_split(\n",
    "    train_documents, \n",
    "    train_labels, \n",
    "    test_size=0.15, \n",
    "    stratify=train_labels  # make sure the same proportion of labels is in the test set and training set\n",
    ")\n",
    "\n",
    "print(f'Number of training instances = {len(train_documents)}')\n",
    "print(f'Number of validation instances = {len(val_documents)}')\n",
    "print(f'Number of test instances = {len(test_documents)}')\n"
   ]
  },
  {
   "cell_type": "code",
   "execution_count": 38,
   "metadata": {
    "ExecuteTime": {
     "end_time": "2023-05-24T10:30:19.952680600Z",
     "start_time": "2023-05-24T10:30:19.730630400Z"
    }
   },
   "outputs": [
    {
     "name": "stdout",
     "output_type": "stream",
     "text": [
      "What does one instance look like from the training set? \n",
      "\n",
      "$tsla you have to love these types of articles. ss interest rose on 12/15 on day before we hit our lows. http://stks.co/c1qkr\n",
      "...and here is its corresponding label \n",
      "\n",
      "0\n"
     ]
    }
   ],
   "source": [
    "print(f'What does one instance look like from the training set? \\n\\n{train_documents[233]}')\n",
    "print(f'...and here is its corresponding label \\n\\n{train_labels[233]}')"
   ]
  },
  {
   "cell_type": "code",
   "execution_count": 39,
   "metadata": {
    "ExecuteTime": {
     "end_time": "2023-05-24T10:30:20.489801400Z",
     "start_time": "2023-05-24T10:30:19.954681100Z"
    }
   },
   "outputs": [
    {
     "name": "stderr",
     "output_type": "stream",
     "text": [
      "C:\\Users\\loz\\anaconda3\\envs\\data_analytics\\lib\\site-packages\\sklearn\\feature_extraction\\text.py:516: UserWarning: The parameter 'token_pattern' will not be used since 'tokenizer' is not None'\n",
      "  warnings.warn(\n",
      "C:\\Users\\loz\\anaconda3\\envs\\data_analytics\\lib\\site-packages\\sklearn\\feature_extraction\\text.py:396: UserWarning: Your stop_words may be inconsistent with your preprocessing. Tokenizing the stop words generated tokens [\"'d\", \"'ll\", \"'re\", \"'s\", \"'ve\", 'could', 'might', 'must', \"n't\", 'need', 'sha', 'wo', 'would'] not in stop_words.\n",
      "  warnings.warn(\n"
     ]
    }
   ],
   "source": [
    "\n",
    "\n",
    "# CountVectorizer can do its own tokenization, but for consistency we want to\n",
    "# carry on using WordNetTokenizer. We write a small wrapper class to enable this:\n",
    "class Tokenizer(object):\n",
    "    def __call__(self, tweets):\n",
    "        return word_tokenize(tweets)\n",
    "\n",
    "    \n",
    "# create stopwords function from nltk\n",
    "stop_words = set(stopwords.words('english'))\n",
    "#vectorizer = CountVectorizer(tokenizer=Tokenizer())  # construct the vectorizer\n",
    "\n",
    "# with stop word removal\n",
    "vectorizer = CountVectorizer(tokenizer=Tokenizer(), stop_words=stop_words)  # construct the vectorizer\n",
    "\n",
    "vectorizer.fit(train_documents)  # Learn the vocabulary\n",
    "X_train = vectorizer.transform(train_documents)  # extract training set bags of words\n",
    "X_val = vectorizer.transform(val_documents)  # extract test set bags of words\n",
    "X_test = vectorizer.transform(test_documents)  # extract test set bags of words"
   ]
  },
  {
   "cell_type": "code",
   "execution_count": 39,
   "metadata": {
    "ExecuteTime": {
     "end_time": "2023-05-24T10:30:20.500803400Z",
     "start_time": "2023-05-24T10:30:20.482799800Z"
    }
   },
   "outputs": [],
   "source": []
  },
  {
   "cell_type": "code",
   "execution_count": 39,
   "metadata": {
    "ExecuteTime": {
     "end_time": "2023-05-24T10:30:20.513807Z",
     "start_time": "2023-05-24T10:30:20.497804100Z"
    }
   },
   "outputs": [],
   "source": []
  },
  {
   "cell_type": "code",
   "execution_count": 40,
   "metadata": {
    "jupyter": {
     "source_hidden": true
    },
    "tags": [],
    "ExecuteTime": {
     "end_time": "2023-05-24T10:30:20.756467800Z",
     "start_time": "2023-05-24T10:30:20.513807Z"
    }
   },
   "outputs": [],
   "source": [
    "# see count vector from training set\n",
    "counts = pd.DataFrame(X_train.toarray(), columns = vectorizer.get_feature_names_out())"
   ]
  },
  {
   "cell_type": "code",
   "execution_count": 41,
   "metadata": {
    "ExecuteTime": {
     "end_time": "2023-05-24T10:30:20.994477400Z",
     "start_time": "2023-05-24T10:30:20.754467300Z"
    }
   },
   "outputs": [
    {
     "data": {
      "text/plain": "<754x3228 sparse matrix of type '<class 'numpy.int64'>'\n\twith 8335 stored elements in Compressed Sparse Row format>"
     },
     "execution_count": 41,
     "metadata": {},
     "output_type": "execute_result"
    }
   ],
   "source": [
    "X_train"
   ]
  },
  {
   "cell_type": "code",
   "execution_count": 42,
   "metadata": {
    "ExecuteTime": {
     "end_time": "2023-05-24T10:30:21.234532200Z",
     "start_time": "2023-05-24T10:30:20.991476700Z"
    }
   },
   "outputs": [
    {
     "data": {
      "text/plain": "Index(['!', '#', '$', '%', '&', ''', '''', ''15', ''best', ''breached',\n       ...\n       'â£180m', 'â£22', 'â£3.5bn', 'â£30m', 'â£347', 'â£90m', 'â€', '’', '“',\n       '”'],\n      dtype='object', length=3228)"
     },
     "execution_count": 42,
     "metadata": {},
     "output_type": "execute_result"
    }
   ],
   "source": [
    "counts.columns\n"
   ]
  },
  {
   "cell_type": "markdown",
   "metadata": {
    "tags": []
   },
   "source": [
    "## Naive Bayes Classifier"
   ]
  },
  {
   "cell_type": "code",
   "execution_count": 43,
   "metadata": {
    "ExecuteTime": {
     "end_time": "2023-05-24T10:30:21.475585500Z",
     "start_time": "2023-05-24T10:30:21.233531900Z"
    }
   },
   "outputs": [
    {
     "data": {
      "text/plain": "MultinomialNB()"
     },
     "execution_count": 43,
     "metadata": {},
     "output_type": "execute_result"
    }
   ],
   "source": [
    "# WRITE YOUR CODE HERE\n",
    "classifier = MultinomialNB()\n",
    "classifier.fit(X_train, train_labels)"
   ]
  },
  {
   "cell_type": "code",
   "execution_count": 44,
   "metadata": {
    "ExecuteTime": {
     "end_time": "2023-05-24T10:30:21.715123100Z",
     "start_time": "2023-05-24T10:30:21.471584700Z"
    }
   },
   "outputs": [],
   "source": [
    "y_val_pred = classifier.predict(X_val)"
   ]
  },
  {
   "cell_type": "code",
   "execution_count": 44,
   "metadata": {
    "ExecuteTime": {
     "end_time": "2023-05-24T10:30:21.751725800Z",
     "start_time": "2023-05-24T10:30:21.710121200Z"
    }
   },
   "outputs": [],
   "source": []
  },
  {
   "cell_type": "code",
   "execution_count": 45,
   "metadata": {
    "ExecuteTime": {
     "end_time": "2023-05-24T10:30:21.950775900Z",
     "start_time": "2023-05-24T10:30:21.725124400Z"
    }
   },
   "outputs": [],
   "source": [
    "cm = metrics.confusion_matrix(val_labels, y_val_pred)\n"
   ]
  },
  {
   "cell_type": "code",
   "execution_count": 46,
   "metadata": {
    "ExecuteTime": {
     "end_time": "2023-05-24T10:30:22.189829800Z",
     "start_time": "2023-05-24T10:30:21.949775600Z"
    }
   },
   "outputs": [],
   "source": [
    "# Define class labels\n",
    "classes = ['0', '1', '2']\n"
   ]
  },
  {
   "cell_type": "code",
   "execution_count": 47,
   "metadata": {
    "ExecuteTime": {
     "end_time": "2023-05-24T10:30:22.587925700Z",
     "start_time": "2023-05-24T10:30:22.191831Z"
    }
   },
   "outputs": [
    {
     "data": {
      "text/plain": "<Figure size 640x480 with 2 Axes>",
      "image/png": "[encoded data removed]"
     },
     "metadata": {},
     "output_type": "display_data"
    }
   ],
   "source": [
    "# Plot confusion matrix\n",
    "fig, ax = plt.subplots()\n",
    "im = ax.imshow(cm, interpolation='nearest', cmap=plt.cm.Blues)\n",
    "ax.figure.colorbar(im, ax=ax)\n",
    "ax.set(xticks=np.arange(cm.shape[1]),\n",
    "       yticks=np.arange(cm.shape[0]),\n",
    "       xticklabels=classes, yticklabels=classes,\n",
    "       xlabel='Predicted label', ylabel='True label',\n",
    "       title='Confusion matrix')\n",
    "plt.setp(ax.get_xticklabels(), rotation=45, ha=\"right\",\n",
    "         rotation_mode=\"anchor\")\n",
    "\n",
    "# Add counts to each cell\n",
    "for i in range(cm.shape[0]):\n",
    "    for j in range(cm.shape[1]):\n",
    "        ax.text(j, i, format(cm[i, j], 'd'),\n",
    "                ha=\"center\", va=\"center\",\n",
    "                color=\"white\" if cm[i, j] > cm.max() / 2. else \"black\")\n",
    "\n",
    "# Show plot\n",
    "plt.show()"
   ]
  },
  {
   "cell_type": "code",
   "execution_count": 47,
   "metadata": {
    "ExecuteTime": {
     "end_time": "2023-05-24T10:30:22.625934600Z",
     "start_time": "2023-05-24T10:30:22.588926700Z"
    }
   },
   "outputs": [],
   "source": []
  },
  {
   "cell_type": "code",
   "execution_count": 48,
   "metadata": {
    "ExecuteTime": {
     "end_time": "2023-05-24T10:30:22.846985800Z",
     "start_time": "2023-05-24T10:30:22.606930200Z"
    }
   },
   "outputs": [
    {
     "name": "stdout",
     "output_type": "stream",
     "text": [
      "Accuracy = 0.5447761194029851\n",
      "Precision (macro average) = 0.5611215538847117\n",
      "Recall (macro average) = 0.5086439308485532\n",
      "F1 score (macro average) = 0.5140352921650263\n",
      "              precision    recall  f1-score   support\n",
      "\n",
      "           0       0.63      0.35      0.45        34\n",
      "           1       0.51      0.42      0.46        43\n",
      "           2       0.54      0.75      0.63        57\n",
      "\n",
      "    accuracy                           0.54       134\n",
      "   macro avg       0.56      0.51      0.51       134\n",
      "weighted avg       0.55      0.54      0.53       134\n",
      "\n"
     ]
    }
   ],
   "source": [
    "# WRITE YOUR CODE HERE\n",
    "from sklearn.metrics import accuracy_score, precision_score, recall_score, f1_score, classification_report\n",
    "\n",
    "acc = accuracy_score(val_labels, y_val_pred)\n",
    "print(f'Accuracy = {acc}')\n",
    "\n",
    "prec = precision_score(val_labels, y_val_pred, average='macro')\n",
    "print(f'Precision (macro average) = {prec}')\n",
    "\n",
    "rec = recall_score(val_labels, y_val_pred, average='macro')\n",
    "print(f'Recall (macro average) = {rec}')\n",
    "\n",
    "f1 = f1_score(val_labels, y_val_pred, average='macro')\n",
    "print(f'F1 score (macro average) = {f1}')\n",
    "\n",
    "# We can get all of these with a per-class breakdown using classification_report:\n",
    "print(classification_report(val_labels, y_val_pred))"
   ]
  },
  {
   "cell_type": "code",
   "execution_count": 49,
   "metadata": {
    "ExecuteTime": {
     "end_time": "2023-05-24T10:30:23.068035800Z",
     "start_time": "2023-05-24T10:30:22.843985500Z"
    }
   },
   "outputs": [],
   "source": [
    "vocabulary = vectorizer.vocabulary_\n",
    "\n",
    "### CHANGE THE NAME OF THE CLASSIFIER VARIABLE BELOW TO USE YOUR TRAINED CLASSIFIER\n",
    "feat_likelihoods = np.exp(classifier.feature_log_prob_)  # Use exponential to convert the logs back to probabilities\n",
    "###\n",
    "\n",
    "# WRITE YOUR CODE HERE\n",
    "#print(feat_likelihoods[:, vocabulary['a']])\n",
    "#print(feat_likelihoods[:, vocabulary['it']])"
   ]
  },
  {
   "cell_type": "code",
   "execution_count": 49,
   "metadata": {
    "ExecuteTime": {
     "end_time": "2023-05-24T10:30:23.083042400Z",
     "start_time": "2023-05-24T10:30:23.069036400Z"
    }
   },
   "outputs": [],
   "source": []
  },
  {
   "cell_type": "markdown",
   "metadata": {
    "pycharm": {
     "name": "#%% md\n"
    }
   },
   "source": [
    "# Logistic Regression Classifier\n",
    "\n"
   ]
  },
  {
   "cell_type": "markdown",
   "metadata": {},
   "source": []
  },
  {
   "cell_type": "code",
   "execution_count": 50,
   "metadata": {
    "ExecuteTime": {
     "end_time": "2023-05-24T10:30:23.391111900Z",
     "start_time": "2023-05-24T10:30:23.084042Z"
    }
   },
   "outputs": [
    {
     "data": {
      "text/plain": "LogisticRegression()"
     },
     "execution_count": 50,
     "metadata": {},
     "output_type": "execute_result"
    }
   ],
   "source": [
    "\n",
    "\n",
    "classifier = LogisticRegression()\n",
    "classifier.fit(X_train, train_labels)"
   ]
  },
  {
   "cell_type": "code",
   "execution_count": 50,
   "metadata": {
    "ExecuteTime": {
     "end_time": "2023-05-24T10:30:23.431120200Z",
     "start_time": "2023-05-24T10:30:23.389111700Z"
    }
   },
   "outputs": [],
   "source": []
  },
  {
   "cell_type": "code",
   "execution_count": 51,
   "metadata": {
    "ExecuteTime": {
     "end_time": "2023-05-24T10:30:23.647128700Z",
     "start_time": "2023-05-24T10:30:23.404114500Z"
    }
   },
   "outputs": [],
   "source": [
    "y_val_pred = classifier.predict(X_val)"
   ]
  },
  {
   "cell_type": "code",
   "execution_count": 51,
   "metadata": {
    "ExecuteTime": {
     "end_time": "2023-05-24T10:30:23.663105400Z",
     "start_time": "2023-05-24T10:30:23.645128600Z"
    }
   },
   "outputs": [],
   "source": []
  },
  {
   "cell_type": "code",
   "execution_count": 51,
   "metadata": {
    "ExecuteTime": {
     "end_time": "2023-05-24T10:30:23.686112700Z",
     "start_time": "2023-05-24T10:30:23.660105100Z"
    }
   },
   "outputs": [],
   "source": []
  },
  {
   "cell_type": "code",
   "execution_count": 52,
   "metadata": {
    "ExecuteTime": {
     "end_time": "2023-05-24T10:30:23.905162400Z",
     "start_time": "2023-05-24T10:30:23.676111200Z"
    }
   },
   "outputs": [],
   "source": [
    "cm = metrics.confusion_matrix(val_labels, y_val_pred)\n"
   ]
  },
  {
   "cell_type": "code",
   "execution_count": 52,
   "metadata": {
    "ExecuteTime": {
     "end_time": "2023-05-24T10:30:23.920168200Z",
     "start_time": "2023-05-24T10:30:23.905162400Z"
    }
   },
   "outputs": [],
   "source": []
  },
  {
   "cell_type": "code",
   "execution_count": 53,
   "metadata": {
    "ExecuteTime": {
     "end_time": "2023-05-24T10:30:24.316258300Z",
     "start_time": "2023-05-24T10:30:23.918168200Z"
    }
   },
   "outputs": [
    {
     "data": {
      "text/plain": "<Figure size 640x480 with 2 Axes>",
      "image/png": "[encoded data removed]"
     },
     "metadata": {},
     "output_type": "display_data"
    }
   ],
   "source": [
    "\n",
    "# Define class labels\n",
    "classes = ['0', '1', '2']\n",
    "\n",
    "# Plot confusion matrix\n",
    "fig, ax = plt.subplots()\n",
    "im = ax.imshow(cm, interpolation='nearest', cmap=plt.cm.Blues)\n",
    "ax.figure.colorbar(im, ax=ax)\n",
    "ax.set(xticks=np.arange(cm.shape[1]),\n",
    "       yticks=np.arange(cm.shape[0]),\n",
    "       xticklabels=classes, yticklabels=classes,\n",
    "       xlabel='Predicted label', ylabel='True label',\n",
    "       title='Confusion matrix')\n",
    "plt.setp(ax.get_xticklabels(), rotation=45, ha=\"right\",\n",
    "         rotation_mode=\"anchor\")\n",
    "\n",
    "# Add counts to each cell\n",
    "for i in range(cm.shape[0]):\n",
    "    for j in range(cm.shape[1]):\n",
    "        ax.text(j, i, format(cm[i, j], 'd'),\n",
    "                ha=\"center\", va=\"center\",\n",
    "                color=\"white\" if cm[i, j] > cm.max() / 2. else \"black\")\n",
    "\n",
    "# Show plot\n",
    "plt.show()"
   ]
  },
  {
   "cell_type": "code",
   "execution_count": 53,
   "metadata": {
    "ExecuteTime": {
     "end_time": "2023-05-24T10:30:24.352266500Z",
     "start_time": "2023-05-24T10:30:24.317258200Z"
    }
   },
   "outputs": [],
   "source": []
  },
  {
   "cell_type": "markdown",
   "source": [
    "## Multi Logistic Regression"
   ],
   "metadata": {
    "collapsed": false
   }
  },
  {
   "cell_type": "code",
   "execution_count": 71,
   "outputs": [],
   "source": [
    "\n",
    "classifier = LogisticRegression( multi_class= 'multinomial')\n",
    "classifier.fit(X_train, train_labels)\n",
    "y_val_pred = classifier.predict(X_val)"
   ],
   "metadata": {
    "collapsed": false,
    "ExecuteTime": {
     "end_time": "2023-05-24T10:35:51.903296800Z",
     "start_time": "2023-05-24T10:35:51.606231500Z"
    }
   }
  },
  {
   "cell_type": "code",
   "execution_count": 72,
   "outputs": [],
   "source": [
    "cm = metrics.confusion_matrix(val_labels, y_val_pred)"
   ],
   "metadata": {
    "collapsed": false,
    "ExecuteTime": {
     "end_time": "2023-05-24T10:35:53.109503400Z",
     "start_time": "2023-05-24T10:35:52.866443Z"
    }
   }
  },
  {
   "cell_type": "code",
   "execution_count": 73,
   "outputs": [
    {
     "data": {
      "text/plain": "<Figure size 640x480 with 2 Axes>",
      "image/png": "[encoded data removed]"
     },
     "metadata": {},
     "output_type": "display_data"
    }
   ],
   "source": [
    "\n",
    "# Define class labels\n",
    "classes = ['0', '1', '2']\n",
    "\n",
    "# Plot confusion matrix\n",
    "fig, ax = plt.subplots()\n",
    "im = ax.imshow(cm, interpolation='nearest', cmap=plt.cm.Blues)\n",
    "ax.figure.colorbar(im, ax=ax)\n",
    "ax.set(xticks=np.arange(cm.shape[1]),\n",
    "       yticks=np.arange(cm.shape[0]),\n",
    "       xticklabels=classes, yticklabels=classes,\n",
    "       xlabel='Predicted label', ylabel='True label',\n",
    "       title='Confusion matrix')\n",
    "plt.setp(ax.get_xticklabels(), rotation=45, ha=\"right\",\n",
    "         rotation_mode=\"anchor\")\n",
    "\n",
    "# Add counts to each cell\n",
    "for i in range(cm.shape[0]):\n",
    "    for j in range(cm.shape[1]):\n",
    "        ax.text(j, i, format(cm[i, j], 'd'),\n",
    "                ha=\"center\", va=\"center\",\n",
    "                color=\"white\" if cm[i, j] > cm.max() / 2. else \"black\")\n",
    "\n",
    "# Show plot\n",
    "plt.show()"
   ],
   "metadata": {
    "collapsed": false,
    "ExecuteTime": {
     "end_time": "2023-05-24T10:36:02.049988500Z",
     "start_time": "2023-05-24T10:36:01.634895400Z"
    }
   }
  },
  {
   "cell_type": "markdown",
   "metadata": {},
   "source": [
    "## 1.2. Evaluate Method\n",
    "\n",
    "Evaluate your method, then interpret and discuss your results. Include the following points:\n",
    "• Define your performance metrics and state their limitations;\n",
    "• Describe the testing procedure (e.g., how you used each split of the dataset);\n",
    "• Show your results using suitable plots or tables;\n",
    "• How could you improve the method or experimental process? Consider the errors that your\n",
    "method makes.  \n",
    "(9 marks)\n"
   ]
  },
  {
   "cell_type": "code",
   "execution_count": 56,
   "metadata": {
    "ExecuteTime": {
     "end_time": "2023-05-24T10:30:25.507703Z",
     "start_time": "2023-05-24T10:30:25.481692Z"
    }
   },
   "outputs": [],
   "source": []
  },
  {
   "cell_type": "code",
   "execution_count": 57,
   "metadata": {
    "ExecuteTime": {
     "end_time": "2023-05-24T10:30:25.734770700Z",
     "start_time": "2023-05-24T10:30:25.497700500Z"
    }
   },
   "outputs": [
    {
     "name": "stdout",
     "output_type": "stream",
     "text": [
      "Accuracy = 0.5447761194029851\n",
      "Precision (macro average) = 0.5673567977915804\n",
      "Recall (macro average) = 0.5162598699210407\n",
      "F1 score (macro average) = 0.5233645707856094\n",
      "              precision    recall  f1-score   support\n",
      "\n",
      "           0       0.67      0.35      0.46        34\n",
      "           1       0.48      0.51      0.49        43\n",
      "           2       0.56      0.68      0.61        57\n",
      "\n",
      "    accuracy                           0.54       134\n",
      "   macro avg       0.57      0.52      0.52       134\n",
      "weighted avg       0.56      0.54      0.54       134\n",
      "\n"
     ]
    }
   ],
   "source": [
    "# WRITE YOUR CODE HERE\n",
    "from sklearn.metrics import accuracy_score, precision_score, recall_score, f1_score, classification_report\n",
    "\n",
    "acc = accuracy_score(val_labels, y_val_pred)\n",
    "print(f'Accuracy = {acc}')\n",
    "\n",
    "prec = precision_score(val_labels, y_val_pred, average='macro')\n",
    "print(f'Precision (macro average) = {prec}')\n",
    "\n",
    "rec = recall_score(val_labels, y_val_pred, average='macro')\n",
    "print(f'Recall (macro average) = {rec}')\n",
    "\n",
    "f1 = f1_score(val_labels, y_val_pred, average='macro')\n",
    "print(f'F1 score (macro average) = {f1}')\n",
    "\n",
    "# We can get all of these with a per-class breakdown using classification_report:\n",
    "print(classification_report(val_labels, y_val_pred))"
   ]
  },
  {
   "cell_type": "code",
   "execution_count": 57,
   "metadata": {
    "ExecuteTime": {
     "end_time": "2023-05-24T10:30:25.795462400Z",
     "start_time": "2023-05-24T10:30:25.735771700Z"
    }
   },
   "outputs": [],
   "source": []
  },
  {
   "cell_type": "markdown",
   "metadata": {},
   "source": [
    "# 1.3 Common Themes & Topics"
   ]
  },
  {
   "cell_type": "markdown",
   "metadata": {},
   "source": [
    "1.3. Can you identify common themes or topics associated with negative sentiment or positive\n",
    "sentiment in this dataset?\n",
    "• Explain the method you use to identify themes or topics;\n",
    "• Show your results (e.g., by listing or visualising example topics or themes);\n",
    "• Interpret the results and summarise the limitations of your approach.\n",
    "(12 marks) "
   ]
  },
  {
   "cell_type": "code",
   "execution_count": 58,
   "metadata": {
    "collapsed": false,
    "jupyter": {
     "outputs_hidden": false
    },
    "pycharm": {
     "name": "#%%\n"
    },
    "ExecuteTime": {
     "end_time": "2023-05-24T10:30:25.973503Z",
     "start_time": "2023-05-24T10:30:25.752452400Z"
    }
   },
   "outputs": [
    {
     "name": "stdout",
     "output_type": "stream",
     "text": [
      "\n",
      "Weights for class 0:\n",
      "\n",
      "hit with weight 0.6183600346140179\n",
      "downside with weight 0.6831145522994894\n",
      "bhp with weight 0.7208800839239721\n",
      "drop with weight 0.7251829041979487\n",
      "bearish with weight 0.8020438060636808\n",
      "weak with weight 0.8075168453755912\n",
      "falls with weight 0.8693027123846081\n",
      "fall with weight 1.0454175096724598\n",
      "lower with weight 1.2004839464887798\n",
      "short with weight 1.2470257303321775\n",
      "\n",
      "Weights for class 1:\n",
      "\n",
      "cnp with weight 0.5546022992296046\n",
      "goog with weight 0.5653582448491392\n",
      "today with weight 0.5764660636634573\n",
      "barclays with weight 0.5867845378402736\n",
      "bg with weight 0.6238286664471016\n",
      "china with weight 0.6349414676397738\n",
      "shell with weight 0.6407997470619636\n",
      "uk with weight 0.7877765170570482\n",
      "sells with weight 0.866385718014921\n",
      "ceo with weight 0.9181355147593747\n",
      "\n",
      "Weights for class 2:\n",
      "\n",
      "higher with weight 0.6851168257783069\n",
      "line with weight 0.6934591020026657\n",
      "highs with weight 0.6950541242497945\n",
      "outperform with weight 0.6997330981041223\n",
      "rise with weight 0.7431874773986458\n",
      "breakout with weight 0.7954827801210193\n",
      "jumps with weight 0.8335707646943017\n",
      "strong with weight 0.954609002487444\n",
      "buy with weight 1.0774768382957418\n",
      "long with weight 1.7502437123443144\n"
     ]
    }
   ],
   "source": [
    "n_feats_to_show = 10\n",
    "\n",
    "# Flip the index so that values are keys and keys are values:\n",
    "keys = vectorizer.vocabulary_.values()\n",
    "values = vectorizer.vocabulary_.keys()\n",
    "vocab_inverted = dict(zip(keys, values))\n",
    "\n",
    "for c, weights_c in enumerate(classifier.coef_):\n",
    "    print(f'\\nWeights for class {c}:\\n')\n",
    "    strongest_idxs = np.argsort(weights_c)[-n_feats_to_show:]\n",
    "\n",
    "    for idx in strongest_idxs:\n",
    "        print(f'{vocab_inverted[idx]} with weight {weights_c[idx]}')"
   ]
  },
  {
   "cell_type": "code",
   "execution_count": 58,
   "metadata": {
    "ExecuteTime": {
     "end_time": "2023-05-24T10:30:25.988487800Z",
     "start_time": "2023-05-24T10:30:25.973503Z"
    }
   },
   "outputs": [],
   "source": []
  },
  {
   "cell_type": "markdown",
   "metadata": {},
   "source": [
    "### Topics"
   ]
  },
  {
   "cell_type": "code",
   "execution_count": 58,
   "metadata": {
    "ExecuteTime": {
     "end_time": "2023-05-24T10:30:26.033507600Z",
     "start_time": "2023-05-24T10:30:25.989488200Z"
    }
   },
   "outputs": [],
   "source": []
  },
  {
   "cell_type": "code",
   "execution_count": 59,
   "metadata": {
    "ExecuteTime": {
     "end_time": "2023-05-24T10:30:26.230560600Z",
     "start_time": "2023-05-24T10:30:26.006502Z"
    }
   },
   "outputs": [],
   "source": [
    "pos_index = all_labels == 2  # compare predictions to gold labels\n",
    "neg_index = all_labels == 0  # compare predictions to gold labels\n",
    "# get the text of tweets where the classifier made an error:\n",
    "pos_tweets = np.array(all_text)[pos_index]\n",
    "neg_tweets = np.array(all_text)[neg_index]"
   ]
  },
  {
   "cell_type": "code",
   "execution_count": 60,
   "metadata": {
    "ExecuteTime": {
     "end_time": "2023-05-24T10:30:26.453610700Z",
     "start_time": "2023-05-24T10:30:26.230560600Z"
    }
   },
   "outputs": [
    {
     "name": "stdout",
     "output_type": "stream",
     "text": [
      "Primark racks up a happy Christmas after strong sales\n",
      "Royal Mail chairman Donald Brydon set to step down\n"
     ]
    }
   ],
   "source": [
    "#type(pos_tweets)\n",
    "print(pos_tweets[0])\n",
    "print(neg_tweets[0])"
   ]
  },
  {
   "cell_type": "code",
   "execution_count": 61,
   "metadata": {
    "ExecuteTime": {
     "end_time": "2023-05-24T10:30:26.677661300Z",
     "start_time": "2023-05-24T10:30:26.454611Z"
    }
   },
   "outputs": [],
   "source": [
    "processed_pos = []\n",
    "processed_neg = []"
   ]
  },
  {
   "cell_type": "code",
   "execution_count": 62,
   "metadata": {
    "ExecuteTime": {
     "end_time": "2023-05-24T10:30:28.442057800Z",
     "start_time": "2023-05-24T10:30:26.680661700Z"
    }
   },
   "outputs": [],
   "source": [
    "from nltk.stem import WordNetLemmatizer \n",
    "from gensim.utils import simple_preprocess\n",
    "from gensim.parsing.preprocessing import STOPWORDS # find stopwords\n",
    "\n",
    "np.random.seed(400)  # We fix the random seed to ensure we get consistent results when we repeat the lab.\n",
    "\n",
    "# Tokenize and lemmatize\n",
    "def preprocess(text):\n",
    "    result=[]\n",
    "    for token in simple_preprocess(text) :  # Tokenize, remove very short and very long words, convert to lower case, remove words containing non-letter characters\n",
    "        if token not in STOPWORDS:\n",
    "            result.append(WordNetLemmatizer().lemmatize(token, 'v'))\n",
    "            \n",
    "    return result\n",
    "\n",
    "# Create lists of preprocessed documents\n",
    "for tweet in pos_tweets:\n",
    "    processed_pos.append(preprocess(tweet))\n",
    "    \n",
    "for tweet in neg_tweets:\n",
    "    processed_neg.append(preprocess(tweet))"
   ]
  },
  {
   "cell_type": "code",
   "execution_count": 63,
   "outputs": [],
   "source": [
    "# nltk.download('wordnet')"
   ],
   "metadata": {
    "collapsed": false,
    "ExecuteTime": {
     "end_time": "2023-05-24T10:30:28.683114500Z",
     "start_time": "2023-05-24T10:30:28.440057700Z"
    }
   }
  },
  {
   "cell_type": "code",
   "execution_count": 64,
   "metadata": {
    "ExecuteTime": {
     "end_time": "2023-05-24T10:30:28.915173Z",
     "start_time": "2023-05-24T10:30:28.679113800Z"
    }
   },
   "outputs": [
    {
     "name": "stdout",
     "output_type": "stream",
     "text": [
      "['primark', 'rack', 'happy', 'christmas', 'strong', 'sales']\n",
      "['royal', 'mail', 'chairman', 'donald', 'brydon', 'set', 'step']\n"
     ]
    }
   ],
   "source": [
    "print(processed_pos[0])\n",
    "print(processed_neg[0])"
   ]
  },
  {
   "cell_type": "code",
   "execution_count": 64,
   "metadata": {
    "ExecuteTime": {
     "end_time": "2023-05-24T10:30:28.976192900Z",
     "start_time": "2023-05-24T10:30:28.918172600Z"
    }
   },
   "outputs": [],
   "source": []
  },
  {
   "cell_type": "code",
   "execution_count": 65,
   "metadata": {
    "ExecuteTime": {
     "end_time": "2023-05-24T10:30:29.193241200Z",
     "start_time": "2023-05-24T10:30:28.933184Z"
    }
   },
   "outputs": [
    {
     "name": "stdout",
     "output_type": "stream",
     "text": [
      "Dictionary(1633 unique tokens: ['christmas', 'happy', 'primark', 'rack', 'sales']...)\n",
      "Dictionary(1155 unique tokens: ['brydon', 'chairman', 'donald', 'mail', 'royal']...)\n"
     ]
    }
   ],
   "source": [
    "from gensim.corpora import Dictionary\n",
    "\n",
    "dictionary_pos = Dictionary(processed_pos) # construct word<->id mappings - it does it in alphabetical order\n",
    "print(dictionary_pos)\n",
    "\n",
    "pos_bow_corpus = [dictionary_pos.doc2bow(tweet) for tweet in processed_pos]\n",
    "\n",
    "dictionary_neg = Dictionary(processed_neg) # construct word<->id mappings - it does it in alphabetical order\n",
    "print(dictionary_neg)\n",
    "\n",
    "neg_bow_corpus = [dictionary_neg.doc2bow(tweet) for tweet in processed_neg]"
   ]
  },
  {
   "cell_type": "code",
   "execution_count": 66,
   "metadata": {
    "ExecuteTime": {
     "end_time": "2023-05-24T10:30:29.429297800Z",
     "start_time": "2023-05-24T10:30:29.190240700Z"
    }
   },
   "outputs": [
    {
     "data": {
      "text/plain": "469"
     },
     "execution_count": 66,
     "metadata": {},
     "output_type": "execute_result"
    }
   ],
   "source": [
    "len(pos_bow_corpus)"
   ]
  },
  {
   "cell_type": "code",
   "execution_count": 67,
   "metadata": {
    "ExecuteTime": {
     "end_time": "2023-05-24T10:30:29.669352800Z",
     "start_time": "2023-05-24T10:30:29.429297800Z"
    }
   },
   "outputs": [
    {
     "data": {
      "text/plain": "283"
     },
     "execution_count": 67,
     "metadata": {},
     "output_type": "execute_result"
    }
   ],
   "source": [
    "len(neg_bow_corpus)"
   ]
  },
  {
   "cell_type": "code",
   "execution_count": 68,
   "metadata": {
    "ExecuteTime": {
     "end_time": "2023-05-24T10:30:32.152913900Z",
     "start_time": "2023-05-24T10:30:29.670353600Z"
    }
   },
   "outputs": [],
   "source": [
    "from gensim.models import LdaModel\n",
    "\n",
    "lda_pos_model =  LdaModel(pos_bow_corpus, \n",
    "                      num_topics=10, \n",
    "                      id2word=dictionary_pos,                                    \n",
    "                      passes=10,\n",
    "                    ) \n",
    "\n",
    "lda_neg_model =  LdaModel(neg_bow_corpus, \n",
    "                      num_topics=10, \n",
    "                      id2word=dictionary_neg,                                    \n",
    "                      passes=10,\n",
    "                    ) "
   ]
  },
  {
   "cell_type": "code",
   "execution_count": 69,
   "metadata": {
    "ExecuteTime": {
     "end_time": "2023-05-24T10:30:32.388756600Z",
     "start_time": "2023-05-24T10:30:32.150914300Z"
    }
   },
   "outputs": [
    {
     "name": "stdout",
     "output_type": "stream",
     "text": [
      "Pos Topic: 0 \n",
      "Words: 0.016*\"buy\" + 0.015*\"https\" + 0.012*\"aapl\" + 0.012*\"look\" + 0.012*\"stks\" + 0.012*\"http\" + 0.010*\"good\" + 0.008*\"high\" + 0.008*\"dividend\" + 0.008*\"call\"\n",
      "\n",
      "\n",
      "Pos Topic: 1 \n",
      "Words: 0.015*\"price\" + 0.015*\"share\" + 0.014*\"day\" + 0.010*\"higher\" + 0.010*\"growth\" + 0.009*\"earn\" + 0.008*\"climb\" + 0.008*\"end\" + 0.008*\"run\" + 0.008*\"dividend\"\n",
      "\n",
      "\n",
      "Pos Topic: 2 \n",
      "Words: 0.022*\"https\" + 0.015*\"profit\" + 0.014*\"buy\" + 0.013*\"astrazeneca\" + 0.011*\"look\" + 0.011*\"tsla\" + 0.009*\"rise\" + 0.008*\"break\" + 0.008*\"continue\" + 0.008*\"sales\"\n",
      "\n",
      "\n",
      "Pos Topic: 3 \n",
      "Words: 0.039*\"long\" + 0.037*\"http\" + 0.037*\"stks\" + 0.013*\"https\" + 0.011*\"aapl\" + 0.009*\"market\" + 0.009*\"sales\" + 0.008*\"position\" + 0.008*\"go\" + 0.008*\"amzn\"\n",
      "\n",
      "\n",
      "Pos Topic: 4 \n",
      "Words: 0.011*\"higher\" + 0.011*\"astrazeneca\" + 0.011*\"https\" + 0.010*\"ftse\" + 0.008*\"approval\" + 0.008*\"support\" + 0.006*\"tesco\" + 0.006*\"billion\" + 0.006*\"steady\" + 0.006*\"buy\"\n",
      "\n",
      "\n",
      "Pos Topic: 5 \n",
      "Words: 0.018*\"stock\" + 0.010*\"new\" + 0.010*\"resistance\" + 0.008*\"watch\" + 0.008*\"bbry\" + 0.008*\"tomorrow\" + 0.008*\"chart\" + 0.007*\"breakout\" + 0.006*\"buy\" + 0.006*\"stks\"\n",
      "\n",
      "\n",
      "Pos Topic: 6 \n",
      "Words: 0.022*\"buy\" + 0.010*\"https\" + 0.009*\"break\" + 0.009*\"aapl\" + 0.009*\"tsla\" + 0.009*\"http\" + 0.007*\"outperform\" + 0.007*\"chart\" + 0.007*\"stock\" + 0.007*\"gain\"\n",
      "\n",
      "\n",
      "Pos Topic: 7 \n",
      "Words: 0.017*\"long\" + 0.013*\"share\" + 0.011*\"price\" + 0.009*\"dividend\" + 0.009*\"trade\" + 0.009*\"breakout\" + 0.009*\"endp\" + 0.009*\"astrazeneca\" + 0.007*\"sell\" + 0.007*\"good\"\n",
      "\n",
      "\n",
      "Pos Topic: 8 \n",
      "Words: 0.023*\"buy\" + 0.016*\"https\" + 0.016*\"share\" + 0.016*\"fb\" + 0.014*\"today\" + 0.013*\"long\" + 0.011*\"plc\" + 0.008*\"call\" + 0.008*\"tsla\" + 0.008*\"price\"\n",
      "\n",
      "\n",
      "Pos Topic: 9 \n",
      "Words: 0.049*\"http\" + 0.046*\"stks\" + 0.010*\"look\" + 0.009*\"break\" + 0.009*\"setup\" + 0.009*\"breakout\" + 0.008*\"share\" + 0.007*\"report\" + 0.007*\"volume\" + 0.006*\"strong\"\n",
      "\n",
      "\n",
      "Neg Topic: 0 \n",
      "Words: 0.015*\"fb\" + 0.015*\"fall\" + 0.013*\"support\" + 0.013*\"sell\" + 0.010*\"https\" + 0.010*\"short\" + 0.010*\"big\" + 0.010*\"market\" + 0.008*\"spy\" + 0.008*\"dividend\"\n",
      "\n",
      "\n",
      "Neg Topic: 1 \n",
      "Words: 0.014*\"short\" + 0.011*\"close\" + 0.011*\"price\" + 0.011*\"share\" + 0.011*\"red\" + 0.010*\"cut\" + 0.007*\"look\" + 0.007*\"spy\" + 0.007*\"drop\" + 0.007*\"break\"\n",
      "\n",
      "\n",
      "Neg Topic: 2 \n",
      "Words: 0.030*\"short\" + 0.013*\"look\" + 0.013*\"https\" + 0.010*\"come\" + 0.010*\"earn\" + 0.009*\"aapl\" + 0.007*\"fear\" + 0.006*\"trade\" + 0.006*\"weak\" + 0.006*\"chart\"\n",
      "\n",
      "\n",
      "Neg Topic: 3 \n",
      "Words: 0.016*\"stks\" + 0.016*\"http\" + 0.012*\"spy\" + 0.012*\"glencore\" + 0.012*\"slump\" + 0.008*\"million\" + 0.008*\"post\" + 0.008*\"sales\" + 0.008*\"windows\" + 0.008*\"matthey\"\n",
      "\n",
      "\n",
      "Neg Topic: 4 \n",
      "Words: 0.014*\"tsla\" + 0.011*\"https\" + 0.010*\"lower\" + 0.010*\"min\" + 0.010*\"stks\" + 0.010*\"want\" + 0.010*\"http\" + 0.010*\"chart\" + 0.007*\"market\" + 0.007*\"revenue\"\n",
      "\n",
      "\n",
      "Neg Topic: 5 \n",
      "Words: 0.022*\"price\" + 0.016*\"short\" + 0.016*\"share\" + 0.012*\"fall\" + 0.010*\"lower\" + 0.010*\"head\" + 0.010*\"rejoice\" + 0.006*\"chart\" + 0.006*\"hit\" + 0.006*\"say\"\n",
      "\n",
      "\n",
      "Neg Topic: 6 \n",
      "Words: 0.047*\"tsla\" + 0.044*\"https\" + 0.038*\"recall\" + 0.033*\"model\" + 0.029*\"tesla\" + 0.013*\"aapl\" + 0.013*\"seat\" + 0.011*\"motor\" + 0.011*\"suvs\" + 0.009*\"short\"\n",
      "\n",
      "\n",
      "Neg Topic: 7 \n",
      "Words: 0.020*\"sbux\" + 0.017*\"downgrade\" + 0.015*\"https\" + 0.014*\"starbucks\" + 0.010*\"day\" + 0.010*\"price\" + 0.010*\"bhp\" + 0.010*\"share\" + 0.010*\"short\" + 0.010*\"slump\"\n",
      "\n",
      "\n",
      "Neg Topic: 8 \n",
      "Words: 0.025*\"stks\" + 0.025*\"http\" + 0.020*\"short\" + 0.013*\"time\" + 0.010*\"sales\" + 0.010*\"bearish\" + 0.008*\"market\" + 0.008*\"year\" + 0.008*\"slide\" + 0.008*\"sink\"\n",
      "\n",
      "\n",
      "Neg Topic: 9 \n",
      "Words: 0.025*\"stks\" + 0.025*\"http\" + 0.012*\"https\" + 0.011*\"spy\" + 0.011*\"rat\" + 0.009*\"buy\" + 0.009*\"sell\" + 0.009*\"barclays\" + 0.009*\"short\" + 0.008*\"update\"\n",
      "\n",
      "\n"
     ]
    }
   ],
   "source": [
    "'''\n",
    "For each topic, we will explore the words occuring in that topic and its relative weight\n",
    "'''\n",
    "for idx, topic in lda_pos_model.print_topics(-1):\n",
    "    print(\"Pos Topic: {} \\nWords: {}\".format(idx, topic ))\n",
    "    print(\"\\n\")\n",
    "    \n",
    "for idx, topic in lda_neg_model.print_topics(-1):\n",
    "    print(\"Neg Topic: {} \\nWords: {}\".format(idx, topic ))\n",
    "    print(\"\\n\")"
   ]
  },
  {
   "cell_type": "markdown",
   "metadata": {},
   "source": [
    "### Individual Topic Distribution"
   ]
  },
  {
   "cell_type": "code",
   "execution_count": 70,
   "metadata": {
    "ExecuteTime": {
     "end_time": "2023-05-24T10:30:32.681827Z",
     "start_time": "2023-05-24T10:30:32.389756700Z"
    }
   },
   "outputs": [
    {
     "name": "stdout",
     "output_type": "stream",
     "text": [
      "ARM Royalties Accelerate as Smartphone Market Regains Strength\n"
     ]
    },
    {
     "ename": "NameError",
     "evalue": "name 'dictionary' is not defined",
     "output_type": "error",
     "traceback": [
      "\u001B[1;31m---------------------------------------------------------------------------\u001B[0m",
      "\u001B[1;31mNameError\u001B[0m                                 Traceback (most recent call last)",
      "Cell \u001B[1;32mIn[70], line 8\u001B[0m\n\u001B[0;32m      3\u001B[0m \u001B[38;5;28mprint\u001B[39m(unseen_document)\n\u001B[0;32m      5\u001B[0m \u001B[38;5;66;03m#print(f' This document is from newsgroup {newsgroups_test.target_names[newsgroups_test.target[test_document_idx]]}')\u001B[39;00m\n\u001B[0;32m      6\u001B[0m \n\u001B[0;32m      7\u001B[0m \u001B[38;5;66;03m# Data preprocessing step for the unseen document - It is the same preprocessing we have performed for the training data\u001B[39;00m\n\u001B[1;32m----> 8\u001B[0m bow_vector \u001B[38;5;241m=\u001B[39m \u001B[43mdictionary\u001B[49m\u001B[38;5;241m.\u001B[39mdoc2bow(preprocess(unseen_document))\n\u001B[0;32m     10\u001B[0m \u001B[38;5;28;01mfor\u001B[39;00m idx, count \u001B[38;5;129;01min\u001B[39;00m bow_vector:\n\u001B[0;32m     11\u001B[0m     \u001B[38;5;28mprint\u001B[39m(\u001B[38;5;124mf\u001B[39m\u001B[38;5;124m'\u001B[39m\u001B[38;5;132;01m{\u001B[39;00mdictionary[idx]\u001B[38;5;132;01m}\u001B[39;00m\u001B[38;5;124m: \u001B[39m\u001B[38;5;132;01m{\u001B[39;00mcount\u001B[38;5;132;01m}\u001B[39;00m\u001B[38;5;124m'\u001B[39m)\n",
      "\u001B[1;31mNameError\u001B[0m: name 'dictionary' is not defined"
     ]
    }
   ],
   "source": [
    "test_document_idx = 10\n",
    "unseen_document = pos_tweets[test_document_idx]\n",
    "print(unseen_document)\n",
    "\n",
    "#print(f' This document is from newsgroup {newsgroups_test.target_names[newsgroups_test.target[test_document_idx]]}')\n",
    "\n",
    "# Data preprocessing step for the unseen document - It is the same preprocessing we have performed for the training data\n",
    "bow_vector = dictionary.doc2bow(preprocess(unseen_document))\n",
    "\n",
    "for idx, count in bow_vector:\n",
    "    print(f'{dictionary[idx]}: {count}')"
   ]
  },
  {
   "cell_type": "code",
   "execution_count": null,
   "metadata": {
    "ExecuteTime": {
     "start_time": "2023-05-24T10:30:32.679827100Z"
    }
   },
   "outputs": [],
   "source": [
    "topic_distribution = lda_model[bow_vector]\n",
    "\n",
    "for index, probability in sorted(topic_distribution, key=lambda tup: -1*tup[1]):\n",
    "    print(\"Index: {}\\nProbability: {}\\t Topic: {}\".format(index, probability, lda_model.print_topic(index, 5)))"
   ]
  },
  {
   "cell_type": "code",
   "execution_count": null,
   "metadata": {},
   "outputs": [],
   "source": [
    "# make list of tuples ready for model training\n",
    "\n",
    "train_set = list(zip(list_a, list_b))"
   ]
  },
  {
   "cell_type": "code",
   "execution_count": null,
   "metadata": {},
   "outputs": [],
   "source": []
  },
  {
   "cell_type": "code",
   "execution_count": null,
   "metadata": {},
   "outputs": [],
   "source": []
  },
  {
   "cell_type": "code",
   "execution_count": null,
   "metadata": {},
   "outputs": [],
   "source": []
  },
  {
   "cell_type": "code",
   "execution_count": null,
   "metadata": {},
   "outputs": [],
   "source": []
  },
  {
   "cell_type": "markdown",
   "metadata": {},
   "source": [
    "## Task 2: Named Entity Recognition (max. 19%)  \n",
    "\n",
    "In scientific research, information extraction can help researchers to discover relevant findings from\n",
    "across a wide body of literature. As a first step, your task is to build a tool for named entity\n",
    "recognition in scientific journal article abstracts. We will be working with the BioNLP 2004 dataset of\n",
    "abstracts from MEDLINE, a database containing journal articles from fields including medicine and\n",
    "pharmacy. The data was collected by searching for the terms ‘human’, ‘blood cells’ and\n",
    "‘transcription factors’, and then annotated with five entity types: DNA, protein, cell type, cell line,\n",
    "RNA. \n",
    "\n",
    "More information can be found in the paper: https://aclanthology.org/W04-1213.pdf .\n",
    "We provide a cache of the data and code for loading the data in ‘data_loader_demo’ in our Github\n",
    "repository, https://github.com/uob-TextAnalytics/intro-labs-public. This script downloaded the data\n",
    "from HuggingFace, where you can also find more information about the dataset:\n",
    "https://huggingface.co/datasets/tner/bionlp2004 .\n",
    "\n",
    "\n",
    "The data is presented in this paper:\n",
    "Nigel Collier, Tomoko Ohta, Yoshimasa Tsuruoka, Yuka Tateisi, and Jin-Dong Kim. 2004. Introduction\n",
    "to the Bio-entity Recognition Task at JNLPBA. In Proceedings of the International Joint Workshop on\n",
    "Natural Language Processing in Biomedicine and its Applications (NLPBA/BioNLP), pages 73–78,\n",
    "Geneva, Switzerland. COLING."
   ]
  },
  {
   "cell_type": "code",
   "execution_count": null,
   "metadata": {},
   "outputs": [],
   "source": []
  },
  {
   "cell_type": "code",
   "execution_count": null,
   "metadata": {},
   "outputs": [],
   "source": []
  },
  {
   "cell_type": "code",
   "execution_count": null,
   "metadata": {},
   "outputs": [],
   "source": []
  }
 ],
 "metadata": {
  "kernelspec": {
   "display_name": "data_analytics",
   "language": "python",
   "name": "data_analytics"
  },
  "language_info": {
   "codemirror_mode": {
    "name": "ipython",
    "version": 3
   },
   "file_extension": ".py",
   "mimetype": "text/x-python",
   "name": "python",
   "nbconvert_exporter": "python",
   "pygments_lexer": "ipython3",
   "version": "3.9.16"
  }
 },
 "nbformat": 4,
 "nbformat_minor": 4
}
