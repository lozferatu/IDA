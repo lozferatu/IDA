{
 "cells": [
  {
   "cell_type": "markdown",
   "metadata": {
    "tags": []
   },
   "source": [
    "# Coursework IDA\n",
    "\n",
    "## Task 1\n",
    "\n",
    "## 1.1. \n",
    "Implement and train a method for automatically classifying texts in the FiQA sentiment analysis\n",
    "dataset as positive, neutral or negative. Refer to the labs, lecture materials and textbook to identify\n",
    "a suitable method. In your report:\n",
    "• Briefly explain how your chosen method works and its main strengths and limitations;\n",
    "• Describe the preprocessing steps and the features you use to represent each text instance;\n",
    "• Explain why you chose those features and preprocessing steps and hypothesise how they\n",
    "will affect your results;\n",
    "• Briefly describe your software implementation.\n",
    "(10 marks)\n",
    "\n"
   ]
  },
  {
   "cell_type": "code",
   "execution_count": 113,
   "metadata": {
    "ExecuteTime": {
     "end_time": "2023-06-16T14:58:04.811174900Z",
     "start_time": "2023-06-16T14:58:03.407429800Z"
    }
   },
   "outputs": [
    {
     "name": "stdout",
     "output_type": "stream",
     "text": [
      "The autoreload extension is already loaded. To reload it, use:\n",
      "  %reload_ext autoreload\n"
     ]
    }
   ],
   "source": [
    "%load_ext autoreload\n",
    "%autoreload 2\n",
    "\n",
    "# Use HuggingFace's datasets library to access the financial_phrasebank dataset\n",
    "from datasets import load_dataset\n",
    "import pandas as pd\n",
    "import numpy as np\n",
    "import json\n",
    "\n",
    "from sklearn import metrics\n",
    "from sklearn.model_selection import train_test_split\n",
    "from sklearn.linear_model import LogisticRegression\n",
    "from sklearn.feature_extraction.text import CountVectorizer\n",
    "from sklearn.naive_bayes import MultinomialNB\n",
    "\n",
    "from nltk import word_tokenize\n",
    "from nltk.corpus import stopwords\n",
    "from nltk.classify import NaiveBayesClassifier\n",
    "from nltk.corpus import subjectivity\n",
    "from nltk.sentiment import SentimentAnalyzer\n",
    "from nltk.sentiment.util import *\n",
    "\n",
    "# pre trained analyser for comparison\n",
    "from nltk.sentiment import SentimentIntensityAnalyzer\n",
    "\n",
    "import matplotlib.pyplot as plt\n",
    "\n",
    "# for negation\n",
    "import re\n"
   ]
  },
  {
   "cell_type": "code",
   "execution_count": 113,
   "outputs": [],
   "source": [],
   "metadata": {
    "collapsed": false,
    "ExecuteTime": {
     "end_time": "2023-06-16T14:58:04.892689900Z",
     "start_time": "2023-06-16T14:58:03.652472700Z"
    }
   }
  },
  {
   "cell_type": "code",
   "execution_count": 114,
   "outputs": [],
   "source": [
    "# nltk.download('punkt')"
   ],
   "metadata": {
    "collapsed": false,
    "ExecuteTime": {
     "end_time": "2023-06-16T14:58:05.177740600Z",
     "start_time": "2023-06-16T14:58:03.666475400Z"
    }
   }
  },
  {
   "cell_type": "code",
   "execution_count": 115,
   "metadata": {
    "ExecuteTime": {
     "end_time": "2023-06-16T14:58:05.181240400Z",
     "start_time": "2023-06-16T14:58:03.917018500Z"
    }
   },
   "outputs": [],
   "source": [
    "train_files = [\n",
    "    'data_cache/FiQA_ABSA_task1/task1_headline_ABSA_train.json',\n",
    "    'data_cache/FiQA_ABSA_task1/task1_post_ABSA_train.json'\n",
    "]"
   ]
  },
  {
   "cell_type": "code",
   "execution_count": 116,
   "metadata": {
    "ExecuteTime": {
     "end_time": "2023-06-16T14:58:05.183740300Z",
     "start_time": "2023-06-16T14:58:04.214070600Z"
    }
   },
   "outputs": [
    {
     "name": "stdout",
     "output_type": "stream",
     "text": [
      "Number of instances: 1111\n",
      "Number of labels: 1111\n",
      "Number of negative labels: 283\n",
      "Number of neutral labels: 359\n",
      "Number of positive labels: 469\n"
     ]
    }
   ],
   "source": [
    "\n",
    "\n",
    "def load_fiqa_sa_from_json(json_files):\n",
    "    train_text = []\n",
    "    train_labels = []\n",
    "\n",
    "    # iterate through each tweet file\n",
    "    for file in json_files:\n",
    "        # open file in read mode, with method closes file after getting data stream\n",
    "        with open(file, 'r', encoding = 'utf8') as handle:\n",
    "            # load file object and convert into json object\n",
    "            dataf = json.load(handle)\n",
    "        \n",
    "        \n",
    "        dataf_text = [dataf[k][\"sentence\"] for k in dataf.keys()]\n",
    "        # print(len(dataf_text))\n",
    "        train_text.extend(dataf_text)\n",
    "\n",
    "        dataf_labels = [float(dataf[k][\"info\"][0][\"sentiment_score\"]) for k in dataf.keys()]\n",
    "        # print(len(dataf_labels))\n",
    "        train_labels.extend(dataf_labels)\n",
    "\n",
    "    train_text = np.array(train_text)\n",
    "    train_labels = np.array(train_labels)\n",
    "    \n",
    "    return train_text, train_labels\n",
    "\n",
    "\n",
    "def threshold_scores(scores):\n",
    "    \"\"\"\n",
    "    Convert sentiment scores to discrete labels.\n",
    "    0 = negative.\n",
    "    1 = neutral.\n",
    "    2 = positive.\n",
    "    \"\"\"\n",
    "    labels = []\n",
    "    for score in scores:\n",
    "        if score < -0.25:\n",
    "            labels.append(0)\n",
    "        elif score > 0.32:\n",
    "            labels.append(2)\n",
    "        else:\n",
    "            labels.append(1)\n",
    "            \n",
    "    return np.array(labels)\n",
    "\n",
    "\n",
    "all_text, all_labels = load_fiqa_sa_from_json(train_files)\n",
    "    \n",
    "print(f'Number of instances: {len(all_text)}')\n",
    "print(f'Number of labels: {len(all_labels)}')\n",
    "\n",
    "all_labels = threshold_scores(all_labels)\n",
    "print(f'Number of negative labels: {np.sum(all_labels==0)}')\n",
    "print(f'Number of neutral labels: {np.sum(all_labels==1)}')\n",
    "print(f'Number of positive labels: {np.sum(all_labels==2)}')"
   ]
  },
  {
   "cell_type": "code",
   "execution_count": 116,
   "outputs": [],
   "source": [],
   "metadata": {
    "collapsed": false,
    "ExecuteTime": {
     "end_time": "2023-06-16T14:58:05.183740300Z",
     "start_time": "2023-06-16T14:58:04.519623800Z"
    }
   }
  },
  {
   "cell_type": "code",
   "execution_count": 117,
   "metadata": {
    "ExecuteTime": {
     "end_time": "2023-06-16T14:58:05.183740300Z",
     "start_time": "2023-06-16T14:58:04.534626400Z"
    }
   },
   "outputs": [
    {
     "name": "stdout",
     "output_type": "stream",
     "text": [
      "0\n"
     ]
    }
   ],
   "source": [
    "print(all_labels[0])"
   ]
  },
  {
   "cell_type": "code",
   "execution_count": 118,
   "metadata": {
    "ExecuteTime": {
     "end_time": "2023-06-16T14:58:05.266254600Z",
     "start_time": "2023-06-16T14:58:04.830178500Z"
    }
   },
   "outputs": [
    {
     "data": {
      "text/plain": "tuple"
     },
     "execution_count": 118,
     "metadata": {},
     "output_type": "execute_result"
    }
   ],
   "source": [
    "type(load_fiqa_sa_from_json(train_files))"
   ]
  },
  {
   "cell_type": "code",
   "execution_count": 119,
   "metadata": {
    "ExecuteTime": {
     "end_time": "2023-06-16T14:58:05.402278700Z",
     "start_time": "2023-06-16T14:58:05.125730700Z"
    }
   },
   "outputs": [
    {
     "name": "stdout",
     "output_type": "stream",
     "text": [
      "1111\n"
     ]
    }
   ],
   "source": [
    "print(len(load_fiqa_sa_from_json(train_files)[0]))"
   ]
  },
  {
   "cell_type": "code",
   "execution_count": 120,
   "metadata": {
    "ExecuteTime": {
     "end_time": "2023-06-16T14:58:05.681327900Z",
     "start_time": "2023-06-16T14:58:05.406280400Z"
    }
   },
   "outputs": [
    {
     "name": "stdout",
     "output_type": "stream",
     "text": [
      "Number of training instances = 754\n",
      "Number of validation instances = 134\n",
      "Number of test instances = 223\n"
     ]
    }
   ],
   "source": [
    "\n",
    "# Split test data from training data\n",
    "train_documents, test_documents, train_labels, test_labels = train_test_split(\n",
    "    all_text, \n",
    "    all_labels, \n",
    "    test_size=0.2, \n",
    "    stratify=all_labels  # make sure the same proportion of labels is in the test set and training set\n",
    ")\n",
    "\n",
    "# Split validation data from training data\n",
    "train_documents, val_documents, train_labels, val_labels = train_test_split(\n",
    "    train_documents, \n",
    "    train_labels, \n",
    "    test_size=0.15, \n",
    "    stratify=train_labels  # make sure the same proportion of labels is in the test set and training set\n",
    ")\n",
    "\n",
    "print(f'Number of training instances = {len(train_documents)}')\n",
    "print(f'Number of validation instances = {len(val_documents)}')\n",
    "print(f'Number of test instances = {len(test_documents)}')\n"
   ]
  },
  {
   "cell_type": "code",
   "execution_count": 121,
   "metadata": {
    "ExecuteTime": {
     "end_time": "2023-06-16T14:58:05.960876800Z",
     "start_time": "2023-06-16T14:58:05.682827800Z"
    }
   },
   "outputs": [
    {
     "name": "stdout",
     "output_type": "stream",
     "text": [
      "What does one instance look like from the training set? \n",
      "\n",
      "Spain's Caixabank launches new takeover bid for Banco BPI\n",
      "...and here is its corresponding label \n",
      "\n",
      "1\n"
     ]
    }
   ],
   "source": [
    "print(f'What does one instance look like from the training set? \\n\\n{train_documents[233]}')\n",
    "print(f'...and here is its corresponding label \\n\\n{train_labels[233]}')"
   ]
  },
  {
   "cell_type": "code",
   "execution_count": 122,
   "metadata": {
    "ExecuteTime": {
     "end_time": "2023-06-16T14:58:06.528977400Z",
     "start_time": "2023-06-16T14:58:05.962878500Z"
    }
   },
   "outputs": [
    {
     "name": "stderr",
     "output_type": "stream",
     "text": [
      "C:\\Users\\loz\\anaconda3\\envs\\data_analytics\\lib\\site-packages\\sklearn\\feature_extraction\\text.py:516: UserWarning: The parameter 'token_pattern' will not be used since 'tokenizer' is not None'\n",
      "  warnings.warn(\n"
     ]
    }
   ],
   "source": [
    "\n",
    "\n",
    "# CountVectorizer can do its own tokenization, but for consistency we want to\n",
    "# carry on using WordNetTokenizer. We write a small wrapper class to enable this:\n",
    "class Tokenizer(object):\n",
    "    def __call__(self, tweets):\n",
    "        return word_tokenize(tweets)\n",
    "\n",
    "    \n",
    "# create stopwords function from nltk\n",
    "stop_words = set(stopwords.words('english'))\n",
    "vectorizer = CountVectorizer(tokenizer=Tokenizer())  # construct the vectorizer\n",
    "# with stop word removal\n",
    "#vectorizer = CountVectorizer(tokenizer=Tokenizer(), stop_words=stop_words)  # construct the vectorizer\n",
    "\n",
    "vectorizer.fit(train_documents)  # Learn the vocabulary\n",
    "X_train = vectorizer.transform(train_documents)  # extract training set bags of words\n",
    "X_val = vectorizer.transform(val_documents)  # extract test set bags of words\n",
    "X_test = vectorizer.transform(test_documents)  # extract test set bags of words"
   ]
  },
  {
   "cell_type": "code",
   "execution_count": 123,
   "metadata": {
    "ExecuteTime": {
     "end_time": "2023-06-16T14:58:06.812528100Z",
     "start_time": "2023-06-16T14:58:06.520475200Z"
    }
   },
   "outputs": [],
   "source": [
    "# print(nltk.data.path)"
   ]
  },
  {
   "cell_type": "code",
   "execution_count": 124,
   "metadata": {
    "jupyter": {
     "source_hidden": true
    },
    "tags": [],
    "ExecuteTime": {
     "end_time": "2023-06-16T14:58:07.077586900Z",
     "start_time": "2023-06-16T14:58:06.813527900Z"
    }
   },
   "outputs": [],
   "source": [
    "# see count vector from training set\n",
    "counts = pd.DataFrame(X_train.toarray(), columns = vectorizer.get_feature_names_out())"
   ]
  },
  {
   "cell_type": "code",
   "execution_count": 125,
   "metadata": {
    "ExecuteTime": {
     "end_time": "2023-06-16T14:58:07.331897600Z",
     "start_time": "2023-06-16T14:58:07.078587500Z"
    }
   },
   "outputs": [
    {
     "data": {
      "text/plain": "<754x3292 sparse matrix of type '<class 'numpy.int64'>'\n\twith 10477 stored elements in Compressed Sparse Row format>"
     },
     "execution_count": 125,
     "metadata": {},
     "output_type": "execute_result"
    }
   ],
   "source": [
    "X_train"
   ]
  },
  {
   "cell_type": "code",
   "execution_count": 126,
   "metadata": {
    "ExecuteTime": {
     "end_time": "2023-06-16T14:58:07.571943300Z",
     "start_time": "2023-06-16T14:58:07.324896600Z"
    }
   },
   "outputs": [
    {
     "data": {
      "text/plain": "Index(['!', '#', '$', '%', '&', ''', '''', ''15', ''breached', ''challenging',\n       ...\n       '~100pt', '~4.2', 'â£180m', 'â£250m', 'â£3.5bn', 'â£30m', 'â£347',\n       'â£90m', '’', '”'],\n      dtype='object', length=3292)"
     },
     "execution_count": 126,
     "metadata": {},
     "output_type": "execute_result"
    }
   ],
   "source": [
    "counts.columns\n"
   ]
  },
  {
   "cell_type": "markdown",
   "metadata": {
    "tags": []
   },
   "source": [
    "## Naive Bayes Classifier"
   ]
  },
  {
   "cell_type": "code",
   "execution_count": 127,
   "metadata": {
    "ExecuteTime": {
     "end_time": "2023-06-16T14:58:07.825487900Z",
     "start_time": "2023-06-16T14:58:07.573443700Z"
    }
   },
   "outputs": [
    {
     "data": {
      "text/plain": "MultinomialNB()"
     },
     "execution_count": 127,
     "metadata": {},
     "output_type": "execute_result"
    }
   ],
   "source": [
    "# WRITE YOUR CODE HERE\n",
    "classifier = MultinomialNB()\n",
    "classifier.fit(X_train, train_labels)"
   ]
  },
  {
   "cell_type": "code",
   "execution_count": 128,
   "metadata": {
    "ExecuteTime": {
     "end_time": "2023-06-16T14:58:08.073531400Z",
     "start_time": "2023-06-16T14:58:07.821487400Z"
    }
   },
   "outputs": [],
   "source": [
    "y_val_pred = classifier.predict(X_val)"
   ]
  },
  {
   "cell_type": "code",
   "execution_count": 128,
   "metadata": {
    "ExecuteTime": {
     "end_time": "2023-06-16T14:58:08.093034700Z",
     "start_time": "2023-06-16T14:58:08.070531Z"
    }
   },
   "outputs": [],
   "source": []
  },
  {
   "cell_type": "code",
   "execution_count": 129,
   "metadata": {
    "ExecuteTime": {
     "end_time": "2023-06-16T14:58:08.331766200Z",
     "start_time": "2023-06-16T14:58:08.085033300Z"
    }
   },
   "outputs": [],
   "source": [
    "cm = metrics.confusion_matrix(val_labels, y_val_pred)\n"
   ]
  },
  {
   "cell_type": "code",
   "execution_count": 130,
   "metadata": {
    "ExecuteTime": {
     "end_time": "2023-06-16T14:58:08.579767500Z",
     "start_time": "2023-06-16T14:58:08.333766400Z"
    }
   },
   "outputs": [],
   "source": [
    "# Define class labels\n",
    "classes = ['0', '1', '2']\n"
   ]
  },
  {
   "cell_type": "code",
   "execution_count": 131,
   "metadata": {
    "ExecuteTime": {
     "end_time": "2023-06-16T14:58:09.029350100Z",
     "start_time": "2023-06-16T14:58:08.583769300Z"
    }
   },
   "outputs": [
    {
     "data": {
      "text/plain": "<Figure size 640x480 with 2 Axes>",
      "image/png": "[encoded data removed]"
     },
     "metadata": {},
     "output_type": "display_data"
    }
   ],
   "source": [
    "# Plot confusion matrix\n",
    "fig, ax = plt.subplots()\n",
    "im = ax.imshow(cm, interpolation='nearest', cmap=plt.cm.Blues)\n",
    "ax.figure.colorbar(im, ax=ax)\n",
    "ax.set(xticks=np.arange(cm.shape[1]),\n",
    "       yticks=np.arange(cm.shape[0]),\n",
    "       xticklabels=classes, yticklabels=classes,\n",
    "       xlabel='Predicted label', ylabel='True label',\n",
    "       title='Confusion matrix')\n",
    "plt.setp(ax.get_xticklabels(), rotation=45, ha=\"right\",\n",
    "         rotation_mode=\"anchor\")\n",
    "\n",
    "# Add counts to each cell\n",
    "for i in range(cm.shape[0]):\n",
    "    for j in range(cm.shape[1]):\n",
    "        ax.text(j, i, format(cm[i, j], 'd'),\n",
    "                ha=\"center\", va=\"center\",\n",
    "                color=\"white\" if cm[i, j] > cm.max() / 2. else \"black\")\n",
    "\n",
    "# Show plot\n",
    "plt.show()"
   ]
  },
  {
   "cell_type": "code",
   "execution_count": 131,
   "metadata": {
    "ExecuteTime": {
     "end_time": "2023-06-16T14:58:09.066371300Z",
     "start_time": "2023-06-16T14:58:09.030351200Z"
    }
   },
   "outputs": [],
   "source": []
  },
  {
   "cell_type": "code",
   "execution_count": 132,
   "metadata": {
    "ExecuteTime": {
     "end_time": "2023-06-16T14:58:09.308425100Z",
     "start_time": "2023-06-16T14:58:09.047368900Z"
    }
   },
   "outputs": [
    {
     "name": "stdout",
     "output_type": "stream",
     "text": [
      "Accuracy = 0.5746268656716418\n",
      "Precision (macro average) = 0.5775798607339825\n",
      "Recall (macro average) = 0.5361397108823129\n",
      "F1 score (macro average) = 0.5378639509074291\n",
      "              precision    recall  f1-score   support\n",
      "\n",
      "           0       0.64      0.41      0.50        34\n",
      "           1       0.52      0.37      0.43        43\n",
      "           2       0.58      0.82      0.68        57\n",
      "\n",
      "    accuracy                           0.57       134\n",
      "   macro avg       0.58      0.54      0.54       134\n",
      "weighted avg       0.57      0.57      0.56       134\n",
      "\n"
     ]
    }
   ],
   "source": [
    "# WRITE YOUR CODE HERE\n",
    "from sklearn.metrics import accuracy_score, precision_score, recall_score, f1_score, classification_report\n",
    "\n",
    "acc = accuracy_score(val_labels, y_val_pred)\n",
    "print(f'Accuracy = {acc}')\n",
    "\n",
    "prec = precision_score(val_labels, y_val_pred, average='macro')\n",
    "print(f'Precision (macro average) = {prec}')\n",
    "\n",
    "rec = recall_score(val_labels, y_val_pred, average='macro')\n",
    "print(f'Recall (macro average) = {rec}')\n",
    "\n",
    "f1 = f1_score(val_labels, y_val_pred, average='macro')\n",
    "print(f'F1 score (macro average) = {f1}')\n",
    "\n",
    "# We can get all of these with a per-class breakdown using classification_report:\n",
    "print(classification_report(val_labels, y_val_pred))"
   ]
  },
  {
   "cell_type": "code",
   "execution_count": 133,
   "metadata": {
    "ExecuteTime": {
     "end_time": "2023-06-16T14:58:09.558484700Z",
     "start_time": "2023-06-16T14:58:09.310924300Z"
    }
   },
   "outputs": [
    {
     "name": "stdout",
     "output_type": "stream",
     "text": [
      "[0.00432    0.00417723 0.00760083]\n",
      "[0.0024     0.00328211 0.00159372]\n"
     ]
    }
   ],
   "source": [
    "vocabulary = vectorizer.vocabulary_\n",
    "\n",
    "### CHANGE THE NAME OF THE CLASSIFIER VARIABLE BELOW TO USE YOUR TRAINED CLASSIFIER\n",
    "feat_likelihoods = np.exp(classifier.feature_log_prob_)  # Use exponential to convert the logs back to probabilities\n",
    "###\n",
    "\n",
    "# WRITE YOUR CODE HERE\n",
    "print(feat_likelihoods[:, vocabulary['a']])\n",
    "print(feat_likelihoods[:, vocabulary['it']])"
   ]
  },
  {
   "cell_type": "code",
   "execution_count": 133,
   "metadata": {
    "ExecuteTime": {
     "end_time": "2023-06-16T14:58:09.615001700Z",
     "start_time": "2023-06-16T14:58:09.558484700Z"
    }
   },
   "outputs": [],
   "source": []
  },
  {
   "cell_type": "markdown",
   "metadata": {
    "pycharm": {
     "name": "#%% md\n"
    }
   },
   "source": [
    "# Logistic Regression Classifier\n",
    "\n"
   ]
  },
  {
   "cell_type": "markdown",
   "metadata": {},
   "source": []
  },
  {
   "cell_type": "code",
   "execution_count": 134,
   "metadata": {
    "ExecuteTime": {
     "end_time": "2023-06-16T14:58:10.129093Z",
     "start_time": "2023-06-16T14:58:09.572994100Z"
    }
   },
   "outputs": [
    {
     "data": {
      "text/plain": "LogisticRegression()"
     },
     "execution_count": 134,
     "metadata": {},
     "output_type": "execute_result"
    }
   ],
   "source": [
    "\n",
    "\n",
    "classifier = LogisticRegression()\n",
    "classifier.fit(X_train, train_labels)"
   ]
  },
  {
   "cell_type": "code",
   "execution_count": 134,
   "metadata": {
    "ExecuteTime": {
     "end_time": "2023-06-16T14:58:10.188603100Z",
     "start_time": "2023-06-16T14:58:10.138594900Z"
    }
   },
   "outputs": [],
   "source": []
  },
  {
   "cell_type": "code",
   "execution_count": 135,
   "metadata": {
    "ExecuteTime": {
     "end_time": "2023-06-16T14:58:10.395478900Z",
     "start_time": "2023-06-16T14:58:10.144595700Z"
    }
   },
   "outputs": [],
   "source": [
    "y_val_pred = classifier.predict(X_val)"
   ]
  },
  {
   "cell_type": "code",
   "execution_count": 135,
   "metadata": {
    "ExecuteTime": {
     "end_time": "2023-06-16T14:58:10.408482800Z",
     "start_time": "2023-06-16T14:58:10.394979400Z"
    }
   },
   "outputs": [],
   "source": []
  },
  {
   "cell_type": "code",
   "execution_count": 135,
   "metadata": {
    "ExecuteTime": {
     "end_time": "2023-06-16T14:58:10.449619800Z",
     "start_time": "2023-06-16T14:58:10.410483100Z"
    }
   },
   "outputs": [],
   "source": []
  },
  {
   "cell_type": "code",
   "execution_count": 136,
   "metadata": {
    "ExecuteTime": {
     "end_time": "2023-06-16T14:58:10.672868900Z",
     "start_time": "2023-06-16T14:58:10.424616400Z"
    }
   },
   "outputs": [],
   "source": [
    "cm = metrics.confusion_matrix(val_labels, y_val_pred)\n"
   ]
  },
  {
   "cell_type": "code",
   "execution_count": 136,
   "metadata": {
    "ExecuteTime": {
     "end_time": "2023-06-16T14:58:10.686022600Z",
     "start_time": "2023-06-16T14:58:10.673868800Z"
    }
   },
   "outputs": [],
   "source": []
  },
  {
   "cell_type": "code",
   "execution_count": 137,
   "metadata": {
    "ExecuteTime": {
     "end_time": "2023-06-16T14:58:11.105094600Z",
     "start_time": "2023-06-16T14:58:10.690023100Z"
    }
   },
   "outputs": [
    {
     "data": {
      "text/plain": "<Figure size 640x480 with 2 Axes>",
      "image/png": "[encoded data removed]"
     },
     "metadata": {},
     "output_type": "display_data"
    }
   ],
   "source": [
    "\n",
    "# Define class labels\n",
    "classes = ['0', '1', '2']\n",
    "\n",
    "# Plot confusion matrix\n",
    "fig, ax = plt.subplots()\n",
    "im = ax.imshow(cm, interpolation='nearest', cmap=plt.cm.Blues)\n",
    "ax.figure.colorbar(im, ax=ax)\n",
    "ax.set(xticks=np.arange(cm.shape[1]),\n",
    "       yticks=np.arange(cm.shape[0]),\n",
    "       xticklabels=classes, yticklabels=classes,\n",
    "       xlabel='Predicted label', ylabel='True label',\n",
    "       title='Confusion matrix')\n",
    "plt.setp(ax.get_xticklabels(), rotation=45, ha=\"right\",\n",
    "         rotation_mode=\"anchor\")\n",
    "\n",
    "# Add counts to each cell\n",
    "for i in range(cm.shape[0]):\n",
    "    for j in range(cm.shape[1]):\n",
    "        ax.text(j, i, format(cm[i, j], 'd'),\n",
    "                ha=\"center\", va=\"center\",\n",
    "                color=\"white\" if cm[i, j] > cm.max() / 2. else \"black\")\n",
    "\n",
    "# Show plot\n",
    "plt.show()"
   ]
  },
  {
   "cell_type": "code",
   "execution_count": 137,
   "metadata": {
    "ExecuteTime": {
     "end_time": "2023-06-16T14:58:11.143601800Z",
     "start_time": "2023-06-16T14:58:11.107596500Z"
    }
   },
   "outputs": [],
   "source": []
  },
  {
   "cell_type": "code",
   "execution_count": 137,
   "metadata": {
    "ExecuteTime": {
     "end_time": "2023-06-16T14:58:11.144602500Z",
     "start_time": "2023-06-16T14:58:11.123098600Z"
    }
   },
   "outputs": [],
   "source": []
  },
  {
   "cell_type": "code",
   "execution_count": 137,
   "metadata": {
    "ExecuteTime": {
     "end_time": "2023-06-16T14:58:11.159105200Z",
     "start_time": "2023-06-16T14:58:11.136601Z"
    }
   },
   "outputs": [],
   "source": []
  },
  {
   "cell_type": "markdown",
   "metadata": {},
   "source": [
    "## 1.2. Evaluate Method\n",
    "\n",
    "Evaluate your method, then interpret and discuss your results. Include the following points:\n",
    "• Define your performance metrics and state their limitations;\n",
    "• Describe the testing procedure (e.g., how you used each split of the dataset);\n",
    "• Show your results using suitable plots or tables;\n",
    "• How could you improve the method or experimental process? Consider the errors that your\n",
    "method makes.  \n",
    "(9 marks)\n"
   ]
  },
  {
   "cell_type": "code",
   "execution_count": 137,
   "metadata": {
    "ExecuteTime": {
     "end_time": "2023-06-16T14:58:11.199112300Z",
     "start_time": "2023-06-16T14:58:11.152604100Z"
    }
   },
   "outputs": [],
   "source": []
  },
  {
   "cell_type": "code",
   "execution_count": 138,
   "metadata": {
    "ExecuteTime": {
     "end_time": "2023-06-16T14:58:11.415149400Z",
     "start_time": "2023-06-16T14:58:11.170106700Z"
    }
   },
   "outputs": [
    {
     "name": "stdout",
     "output_type": "stream",
     "text": [
      "Accuracy = 0.6044776119402985\n",
      "Precision (macro average) = 0.5884468913702784\n",
      "Recall (macro average) = 0.5829713362293102\n",
      "F1 score (macro average) = 0.5841316111826089\n",
      "              precision    recall  f1-score   support\n",
      "\n",
      "           0       0.58      0.53      0.55        34\n",
      "           1       0.51      0.47      0.49        43\n",
      "           2       0.67      0.75      0.71        57\n",
      "\n",
      "    accuracy                           0.60       134\n",
      "   macro avg       0.59      0.58      0.58       134\n",
      "weighted avg       0.60      0.60      0.60       134\n",
      "\n"
     ]
    }
   ],
   "source": [
    "# WRITE YOUR CODE HERE\n",
    "from sklearn.metrics import accuracy_score, precision_score, recall_score, f1_score, classification_report\n",
    "\n",
    "acc = accuracy_score(val_labels, y_val_pred)\n",
    "print(f'Accuracy = {acc}')\n",
    "\n",
    "prec = precision_score(val_labels, y_val_pred, average='macro')\n",
    "print(f'Precision (macro average) = {prec}')\n",
    "\n",
    "rec = recall_score(val_labels, y_val_pred, average='macro')\n",
    "print(f'Recall (macro average) = {rec}')\n",
    "\n",
    "f1 = f1_score(val_labels, y_val_pred, average='macro')\n",
    "print(f'F1 score (macro average) = {f1}')\n",
    "\n",
    "# We can get all of these with a per-class breakdown using classification_report:\n",
    "print(classification_report(val_labels, y_val_pred))"
   ]
  },
  {
   "cell_type": "code",
   "execution_count": 138,
   "metadata": {
    "ExecuteTime": {
     "end_time": "2023-06-16T14:58:11.430669900Z",
     "start_time": "2023-06-16T14:58:11.417150400Z"
    }
   },
   "outputs": [],
   "source": []
  },
  {
   "cell_type": "markdown",
   "metadata": {},
   "source": [
    "## With Data Processing"
   ]
  },
  {
   "cell_type": "code",
   "execution_count": 139,
   "metadata": {
    "tags": [],
    "ExecuteTime": {
     "end_time": "2023-06-16T14:58:11.684229Z",
     "start_time": "2023-06-16T14:58:11.432169Z"
    }
   },
   "outputs": [],
   "source": [
    "def add_negation(sentence):\n",
    "    # define regex pattern to match words after \"not\", \"n't\", or \"never\"\n",
    "    pattern = r\"(?:(?:(?:not)|(?:n't)|(?:never))\\s+)(\\w+)\"\n",
    "    \n",
    "    # use regex to find and replace words with negation prefix\n",
    "    result = re.sub(pattern, r\" not_\\1\", sentence)\n",
    "    \n",
    "    return result"
   ]
  },
  {
   "cell_type": "code",
   "execution_count": 140,
   "metadata": {
    "ExecuteTime": {
     "end_time": "2023-06-16T14:58:11.932269400Z",
     "start_time": "2023-06-16T14:58:11.680729900Z"
    }
   },
   "outputs": [],
   "source": [
    "# apply add_negation to each tweet in the array using a list comprehension\n",
    "all_text_negated = np.array([add_negation(text) for text in all_text])\n"
   ]
  },
  {
   "cell_type": "code",
   "execution_count": 141,
   "metadata": {
    "tags": [],
    "ExecuteTime": {
     "end_time": "2023-06-16T14:58:12.205817900Z",
     "start_time": "2023-06-16T14:58:11.928770100Z"
    }
   },
   "outputs": [],
   "source": [
    "# convert all tweets to lower case\n",
    "all_text_negated = np.char.lower(all_text_negated)"
   ]
  },
  {
   "cell_type": "code",
   "execution_count": 141,
   "metadata": {
    "ExecuteTime": {
     "end_time": "2023-06-16T14:58:12.220821900Z",
     "start_time": "2023-06-16T14:58:12.207818600Z"
    }
   },
   "outputs": [],
   "source": []
  },
  {
   "cell_type": "code",
   "execution_count": 142,
   "metadata": {
    "ExecuteTime": {
     "end_time": "2023-06-16T14:58:12.505870600Z",
     "start_time": "2023-06-16T14:58:12.223321600Z"
    }
   },
   "outputs": [
    {
     "name": "stdout",
     "output_type": "stream",
     "text": [
      "Number of training instances = 754\n",
      "Number of validation instances = 134\n",
      "Number of test instances = 223\n"
     ]
    }
   ],
   "source": [
    "\n",
    "# Split test data from training data\n",
    "train_documents, test_documents, train_labels, test_labels = train_test_split(\n",
    "    all_text_negated, \n",
    "    all_labels, \n",
    "    test_size=0.2, \n",
    "    stratify=all_labels,  # make sure the same proportion of labels is in the test set and training set\n",
    "    random_state= 43\n",
    ")\n",
    "\n",
    "# Split validation data from training data\n",
    "train_documents, val_documents, train_labels, val_labels = train_test_split(\n",
    "    train_documents, \n",
    "    train_labels, \n",
    "    test_size=0.15, \n",
    "    stratify=train_labels,  # make sure the same proportion of labels is in the test set and training set\n",
    "    random_state= 43\n",
    ")\n",
    "\n",
    "print(f'Number of training instances = {len(train_documents)}')\n",
    "print(f'Number of validation instances = {len(val_documents)}')\n",
    "print(f'Number of test instances = {len(test_documents)}')\n"
   ]
  },
  {
   "cell_type": "code",
   "execution_count": 143,
   "metadata": {
    "ExecuteTime": {
     "end_time": "2023-06-16T14:58:12.783419800Z",
     "start_time": "2023-06-16T14:58:12.501870700Z"
    }
   },
   "outputs": [
    {
     "name": "stdout",
     "output_type": "stream",
     "text": [
      "What does one instance look like from the training set? \n",
      "\n",
      "sab's chairman digs in with board divided on inbev offer\n",
      "...and here is its corresponding label \n",
      "\n",
      "1\n"
     ]
    }
   ],
   "source": [
    "print(f'What does one instance look like from the training set? \\n\\n{train_documents[233]}')\n",
    "print(f'...and here is its corresponding label \\n\\n{train_labels[233]}')"
   ]
  },
  {
   "cell_type": "code",
   "execution_count": 144,
   "metadata": {
    "ExecuteTime": {
     "end_time": "2023-06-16T14:58:13.432533800Z",
     "start_time": "2023-06-16T14:58:12.782419900Z"
    }
   },
   "outputs": [
    {
     "name": "stderr",
     "output_type": "stream",
     "text": [
      "C:\\Users\\loz\\anaconda3\\envs\\data_analytics\\lib\\site-packages\\sklearn\\feature_extraction\\text.py:516: UserWarning: The parameter 'token_pattern' will not be used since 'tokenizer' is not None'\n",
      "  warnings.warn(\n",
      "C:\\Users\\loz\\anaconda3\\envs\\data_analytics\\lib\\site-packages\\sklearn\\feature_extraction\\text.py:396: UserWarning: Your stop_words may be inconsistent with your preprocessing. Tokenizing the stop words generated tokens [\"'d\", \"'ll\", \"'re\", \"'s\", \"'ve\", 'could', 'might', 'must', \"n't\", 'need', 'sha', 'wo', 'would'] not in stop_words.\n",
      "  warnings.warn(\n"
     ]
    }
   ],
   "source": [
    "\n",
    "\n",
    "# CountVectorizer can do its own tokenization, but for consistency we want to\n",
    "# carry on using WordNetTokenizer. We write a small wrapper class to enable this:\n",
    "class Tokenizer(object):\n",
    "    def __call__(self, tweets):\n",
    "        return word_tokenize(tweets)\n",
    "\n",
    "    \n",
    "# create stopwords function from nltk\n",
    "stop_words = set(stopwords.words('english'))\n",
    "#vectorizer = CountVectorizer(tokenizer=Tokenizer())  # construct the vectorizer\n",
    "\n",
    "# with stop word removal\n",
    "vectorizer = CountVectorizer(tokenizer=Tokenizer(), stop_words=stop_words)  # construct the vectorizer\n",
    "\n",
    "vectorizer.fit(train_documents)  # Learn the vocabulary\n",
    "X_train = vectorizer.transform(train_documents)  # extract training set bags of words\n",
    "X_val = vectorizer.transform(val_documents)  # extract test set bags of words\n",
    "X_test = vectorizer.transform(test_documents)  # extract test set bags of words"
   ]
  },
  {
   "cell_type": "code",
   "execution_count": 145,
   "metadata": {
    "jupyter": {
     "source_hidden": true
    },
    "tags": [],
    "ExecuteTime": {
     "end_time": "2023-06-16T14:58:13.755590600Z",
     "start_time": "2023-06-16T14:58:13.463539500Z"
    }
   },
   "outputs": [],
   "source": [
    "# see count vector from training set\n",
    "counts = pd.DataFrame(X_train.toarray(), columns = vectorizer.get_feature_names_out())"
   ]
  },
  {
   "cell_type": "code",
   "execution_count": 146,
   "metadata": {
    "ExecuteTime": {
     "end_time": "2023-06-16T14:58:14.035639800Z",
     "start_time": "2023-06-16T14:58:13.758090200Z"
    }
   },
   "outputs": [
    {
     "data": {
      "text/plain": "<754x3201 sparse matrix of type '<class 'numpy.int64'>'\n\twith 8338 stored elements in Compressed Sparse Row format>"
     },
     "execution_count": 146,
     "metadata": {},
     "output_type": "execute_result"
    }
   ],
   "source": [
    "X_train"
   ]
  },
  {
   "cell_type": "code",
   "execution_count": 147,
   "metadata": {
    "ExecuteTime": {
     "end_time": "2023-06-16T14:58:14.314688800Z",
     "start_time": "2023-06-16T14:58:14.036639100Z"
    }
   },
   "outputs": [
    {
     "data": {
      "text/plain": "Index(['!', '#', '$', '%', '&', ''', '''', ''15', ''breached', ''challenging',\n       ...\n       'â£180m', 'â£22', 'â£3.5bn', 'â£30m', 'â£90m', 'â€', '’', '“', '”',\n       '📈'],\n      dtype='object', length=3201)"
     },
     "execution_count": 147,
     "metadata": {},
     "output_type": "execute_result"
    }
   ],
   "source": [
    "counts.columns\n"
   ]
  },
  {
   "cell_type": "markdown",
   "metadata": {
    "tags": []
   },
   "source": [
    "## Naive Bayes Classifier With Data Processing"
   ]
  },
  {
   "cell_type": "code",
   "execution_count": 148,
   "metadata": {
    "ExecuteTime": {
     "end_time": "2023-06-16T14:58:14.577233900Z",
     "start_time": "2023-06-16T14:58:14.316189300Z"
    }
   },
   "outputs": [
    {
     "data": {
      "text/plain": "MultinomialNB()"
     },
     "execution_count": 148,
     "metadata": {},
     "output_type": "execute_result"
    }
   ],
   "source": [
    "# WRITE YOUR CODE HERE\n",
    "classifier = MultinomialNB()\n",
    "classifier.fit(X_train, train_labels)"
   ]
  },
  {
   "cell_type": "code",
   "execution_count": 149,
   "metadata": {
    "ExecuteTime": {
     "end_time": "2023-06-16T14:58:14.857783400Z",
     "start_time": "2023-06-16T14:58:14.578734Z"
    }
   },
   "outputs": [],
   "source": [
    "y_val_pred = classifier.predict(X_val)"
   ]
  },
  {
   "cell_type": "code",
   "execution_count": 149,
   "metadata": {
    "ExecuteTime": {
     "end_time": "2023-06-16T14:58:14.859283300Z",
     "start_time": "2023-06-16T14:58:14.843280800Z"
    }
   },
   "outputs": [],
   "source": []
  },
  {
   "cell_type": "code",
   "execution_count": 150,
   "metadata": {
    "ExecuteTime": {
     "end_time": "2023-06-16T14:58:15.125336500Z",
     "start_time": "2023-06-16T14:58:14.858283100Z"
    }
   },
   "outputs": [],
   "source": [
    "cm = metrics.confusion_matrix(val_labels, y_val_pred)\n"
   ]
  },
  {
   "cell_type": "code",
   "execution_count": 151,
   "metadata": {
    "ExecuteTime": {
     "end_time": "2023-06-16T14:58:15.368876500Z",
     "start_time": "2023-06-16T14:58:15.122837400Z"
    }
   },
   "outputs": [],
   "source": [
    "# Define class labels\n",
    "classes = ['0', '1', '2']\n"
   ]
  },
  {
   "cell_type": "code",
   "execution_count": 152,
   "metadata": {
    "ExecuteTime": {
     "end_time": "2023-06-16T14:58:15.760746Z",
     "start_time": "2023-06-16T14:58:15.372377700Z"
    }
   },
   "outputs": [
    {
     "data": {
      "text/plain": "<Figure size 640x480 with 2 Axes>",
      "image/png": "[encoded data removed]"
     },
     "metadata": {},
     "output_type": "display_data"
    }
   ],
   "source": [
    "# Plot confusion matrix\n",
    "fig, ax = plt.subplots()\n",
    "im = ax.imshow(cm, interpolation='nearest', cmap=plt.cm.Blues)\n",
    "ax.figure.colorbar(im, ax=ax)\n",
    "ax.set(xticks=np.arange(cm.shape[1]),\n",
    "       yticks=np.arange(cm.shape[0]),\n",
    "       xticklabels=classes, yticklabels=classes,\n",
    "       xlabel='Predicted label', ylabel='True label',\n",
    "       title='Confusion matrix')\n",
    "plt.setp(ax.get_xticklabels(), rotation=45, ha=\"right\",\n",
    "         rotation_mode=\"anchor\")\n",
    "\n",
    "# Add counts to each cell\n",
    "for i in range(cm.shape[0]):\n",
    "    for j in range(cm.shape[1]):\n",
    "        ax.text(j, i, format(cm[i, j], 'd'),\n",
    "                ha=\"center\", va=\"center\",\n",
    "                color=\"white\" if cm[i, j] > cm.max() / 2. else \"black\")\n",
    "\n",
    "# Show plot\n",
    "plt.show()"
   ]
  },
  {
   "cell_type": "code",
   "execution_count": 152,
   "metadata": {
    "ExecuteTime": {
     "end_time": "2023-06-16T14:58:15.794255Z",
     "start_time": "2023-06-16T14:58:15.756745800Z"
    }
   },
   "outputs": [],
   "source": []
  },
  {
   "cell_type": "code",
   "execution_count": 153,
   "metadata": {
    "ExecuteTime": {
     "end_time": "2023-06-16T14:58:16.019794800Z",
     "start_time": "2023-06-16T14:58:15.773251100Z"
    }
   },
   "outputs": [
    {
     "name": "stdout",
     "output_type": "stream",
     "text": [
      "Accuracy = 0.6119402985074627\n",
      "Precision (macro average) = 0.6226557773744706\n",
      "Recall (macro average) = 0.5848633210934312\n",
      "F1 score (macro average) = 0.5906432748538012\n",
      "              precision    recall  f1-score   support\n",
      "\n",
      "           0       0.59      0.50      0.54        34\n",
      "           1       0.69      0.47      0.56        43\n",
      "           2       0.59      0.79      0.68        57\n",
      "\n",
      "    accuracy                           0.61       134\n",
      "   macro avg       0.62      0.58      0.59       134\n",
      "weighted avg       0.62      0.61      0.60       134\n",
      "\n"
     ]
    }
   ],
   "source": [
    "# WRITE YOUR CODE HERE\n",
    "from sklearn.metrics import accuracy_score, precision_score, recall_score, f1_score, classification_report\n",
    "\n",
    "acc = accuracy_score(val_labels, y_val_pred)\n",
    "print(f'Accuracy = {acc}')\n",
    "\n",
    "prec = precision_score(val_labels, y_val_pred, average='macro')\n",
    "print(f'Precision (macro average) = {prec}')\n",
    "\n",
    "rec = recall_score(val_labels, y_val_pred, average='macro')\n",
    "print(f'Recall (macro average) = {rec}')\n",
    "\n",
    "f1 = f1_score(val_labels, y_val_pred, average='macro')\n",
    "print(f'F1 score (macro average) = {f1}')\n",
    "\n",
    "# We can get all of these with a per-class breakdown using classification_report:\n",
    "print(classification_report(val_labels, y_val_pred))"
   ]
  },
  {
   "cell_type": "code",
   "execution_count": 154,
   "metadata": {
    "ExecuteTime": {
     "end_time": "2023-06-16T14:58:16.268370600Z",
     "start_time": "2023-06-16T14:58:16.020794400Z"
    }
   },
   "outputs": [],
   "source": [
    "vocabulary = vectorizer.vocabulary_\n",
    "\n",
    "### CHANGE THE NAME OF THE CLASSIFIER VARIABLE BELOW TO USE YOUR TRAINED CLASSIFIER\n",
    "feat_likelihoods = np.exp(classifier.feature_log_prob_)  # Use exponential to convert the logs back to probabilities\n",
    "###\n",
    "\n",
    "# WRITE YOUR CODE HERE\n",
    "#print(feat_likelihoods[:, vocabulary['a']])\n",
    "#print(feat_likelihoods[:, vocabulary['it']])"
   ]
  },
  {
   "cell_type": "code",
   "execution_count": 154,
   "metadata": {
    "ExecuteTime": {
     "end_time": "2023-06-16T14:58:16.282386500Z",
     "start_time": "2023-06-16T14:58:16.268871200Z"
    }
   },
   "outputs": [],
   "source": []
  },
  {
   "cell_type": "markdown",
   "metadata": {
    "pycharm": {
     "name": "#%% md\n"
    }
   },
   "source": [
    "# Logistic Regression Classifier With Data Processing\n",
    "\n"
   ]
  },
  {
   "cell_type": "markdown",
   "metadata": {},
   "source": []
  },
  {
   "cell_type": "code",
   "execution_count": 155,
   "metadata": {
    "ExecuteTime": {
     "end_time": "2023-06-16T14:58:16.597940700Z",
     "start_time": "2023-06-16T14:58:16.284385800Z"
    }
   },
   "outputs": [
    {
     "data": {
      "text/plain": "LogisticRegression()"
     },
     "execution_count": 155,
     "metadata": {},
     "output_type": "execute_result"
    }
   ],
   "source": [
    "\n",
    "\n",
    "classifier = LogisticRegression()\n",
    "classifier.fit(X_train, train_labels)"
   ]
  },
  {
   "cell_type": "code",
   "execution_count": 155,
   "metadata": {
    "ExecuteTime": {
     "end_time": "2023-06-16T14:58:16.612443100Z",
     "start_time": "2023-06-16T14:58:16.595441400Z"
    }
   },
   "outputs": [],
   "source": []
  },
  {
   "cell_type": "code",
   "execution_count": 156,
   "metadata": {
    "ExecuteTime": {
     "end_time": "2023-06-16T14:58:16.877490Z",
     "start_time": "2023-06-16T14:58:16.609442600Z"
    }
   },
   "outputs": [],
   "source": [
    "y_val_pred = classifier.predict(X_val)"
   ]
  },
  {
   "cell_type": "code",
   "execution_count": 156,
   "metadata": {
    "ExecuteTime": {
     "end_time": "2023-06-16T14:58:16.895997100Z",
     "start_time": "2023-06-16T14:58:16.874989200Z"
    }
   },
   "outputs": [],
   "source": []
  },
  {
   "cell_type": "code",
   "execution_count": 156,
   "metadata": {
    "ExecuteTime": {
     "end_time": "2023-06-16T14:58:16.915504Z",
     "start_time": "2023-06-16T14:58:16.888496300Z"
    }
   },
   "outputs": [],
   "source": []
  },
  {
   "cell_type": "code",
   "execution_count": 157,
   "metadata": {
    "ExecuteTime": {
     "end_time": "2023-06-16T14:58:17.152049100Z",
     "start_time": "2023-06-16T14:58:16.905502600Z"
    }
   },
   "outputs": [],
   "source": [
    "cm = metrics.confusion_matrix(val_labels, y_val_pred)\n"
   ]
  },
  {
   "cell_type": "code",
   "execution_count": 157,
   "metadata": {
    "ExecuteTime": {
     "end_time": "2023-06-16T14:58:17.166564300Z",
     "start_time": "2023-06-16T14:58:17.154049200Z"
    }
   },
   "outputs": [],
   "source": []
  },
  {
   "cell_type": "code",
   "execution_count": 158,
   "metadata": {
    "ExecuteTime": {
     "end_time": "2023-06-16T14:58:17.554632500Z",
     "start_time": "2023-06-16T14:58:17.170565400Z"
    }
   },
   "outputs": [
    {
     "data": {
      "text/plain": "<Figure size 640x480 with 2 Axes>",
      "image/png": "[encoded data removed]"
     },
     "metadata": {},
     "output_type": "display_data"
    }
   ],
   "source": [
    "\n",
    "# Define class labels\n",
    "classes = ['0', '1', '2']\n",
    "\n",
    "# Plot confusion matrix\n",
    "fig, ax = plt.subplots()\n",
    "im = ax.imshow(cm, interpolation='nearest', cmap=plt.cm.Blues)\n",
    "ax.figure.colorbar(im, ax=ax)\n",
    "ax.set(xticks=np.arange(cm.shape[1]),\n",
    "       yticks=np.arange(cm.shape[0]),\n",
    "       xticklabels=classes, yticklabels=classes,\n",
    "       xlabel='Predicted label', ylabel='True label',\n",
    "       title='Confusion matrix')\n",
    "plt.setp(ax.get_xticklabels(), rotation=45, ha=\"right\",\n",
    "         rotation_mode=\"anchor\")\n",
    "\n",
    "# Add counts to each cell\n",
    "for i in range(cm.shape[0]):\n",
    "    for j in range(cm.shape[1]):\n",
    "        ax.text(j, i, format(cm[i, j], 'd'),\n",
    "                ha=\"center\", va=\"center\",\n",
    "                color=\"white\" if cm[i, j] > cm.max() / 2. else \"black\")\n",
    "\n",
    "# Show plot\n",
    "plt.show()"
   ]
  },
  {
   "cell_type": "code",
   "execution_count": 158,
   "metadata": {
    "ExecuteTime": {
     "end_time": "2023-06-16T14:58:17.592139500Z",
     "start_time": "2023-06-16T14:58:17.555633Z"
    }
   },
   "outputs": [],
   "source": []
  },
  {
   "cell_type": "markdown",
   "metadata": {},
   "source": [
    "## 1.2. Evaluate Method\n",
    "\n",
    "Evaluate your method, then interpret and discuss your results. Include the following points:\n",
    "• Define your performance metrics and state their limitations;\n",
    "• Describe the testing procedure (e.g., how you used each split of the dataset);\n",
    "• Show your results using suitable plots or tables;\n",
    "• How could you improve the method or experimental process? Consider the errors that your\n",
    "method makes.  \n",
    "(9 marks)\n"
   ]
  },
  {
   "cell_type": "code",
   "execution_count": 161,
   "metadata": {
    "ExecuteTime": {
     "end_time": "2023-06-16T14:58:18.573478800Z",
     "start_time": "2023-06-16T14:58:18.527470100Z"
    }
   },
   "outputs": [],
   "source": []
  },
  {
   "cell_type": "code",
   "execution_count": 162,
   "metadata": {
    "ExecuteTime": {
     "end_time": "2023-06-16T14:58:18.801025700Z",
     "start_time": "2023-06-16T14:58:18.531972300Z"
    }
   },
   "outputs": [
    {
     "name": "stdout",
     "output_type": "stream",
     "text": [
      "Accuracy = 0.664179104477612\n",
      "Precision (macro average) = 0.6575897221058512\n",
      "Recall (macro average) = 0.6449868401052793\n",
      "F1 score (macro average) = 0.6490041326133716\n",
      "              precision    recall  f1-score   support\n",
      "\n",
      "           0       0.64      0.53      0.58        34\n",
      "           1       0.64      0.65      0.64        43\n",
      "           2       0.69      0.75      0.72        57\n",
      "\n",
      "    accuracy                           0.66       134\n",
      "   macro avg       0.66      0.64      0.65       134\n",
      "weighted avg       0.66      0.66      0.66       134\n",
      "\n"
     ]
    }
   ],
   "source": [
    "# WRITE YOUR CODE HERE\n",
    "from sklearn.metrics import accuracy_score, precision_score, recall_score, f1_score, classification_report\n",
    "\n",
    "acc = accuracy_score(val_labels, y_val_pred)\n",
    "print(f'Accuracy = {acc}')\n",
    "\n",
    "prec = precision_score(val_labels, y_val_pred, average='macro')\n",
    "print(f'Precision (macro average) = {prec}')\n",
    "\n",
    "rec = recall_score(val_labels, y_val_pred, average='macro')\n",
    "print(f'Recall (macro average) = {rec}')\n",
    "\n",
    "f1 = f1_score(val_labels, y_val_pred, average='macro')\n",
    "print(f'F1 score (macro average) = {f1}')\n",
    "\n",
    "# We can get all of these with a per-class breakdown using classification_report:\n",
    "print(classification_report(val_labels, y_val_pred))"
   ]
  },
  {
   "cell_type": "code",
   "execution_count": 162,
   "metadata": {
    "ExecuteTime": {
     "end_time": "2023-06-16T14:58:18.837036100Z",
     "start_time": "2023-06-16T14:58:18.795524900Z"
    }
   },
   "outputs": [],
   "source": []
  },
  {
   "cell_type": "markdown",
   "metadata": {},
   "source": [
    "# 1.3 Common Themes & Topics"
   ]
  },
  {
   "cell_type": "markdown",
   "metadata": {},
   "source": [
    "1.3. Can you identify common themes or topics associated with negative sentiment or positive\n",
    "sentiment in this dataset?\n",
    "• Explain the method you use to identify themes or topics;\n",
    "• Show your results (e.g., by listing or visualising example topics or themes);\n",
    "• Interpret the results and summarise the limitations of your approach.\n",
    "(12 marks) "
   ]
  },
  {
   "cell_type": "code",
   "execution_count": 163,
   "metadata": {
    "collapsed": false,
    "jupyter": {
     "outputs_hidden": false
    },
    "pycharm": {
     "name": "#%%\n"
    },
    "ExecuteTime": {
     "end_time": "2023-06-16T14:58:19.057225600Z",
     "start_time": "2023-06-16T14:58:18.811031300Z"
    }
   },
   "outputs": [
    {
     "name": "stdout",
     "output_type": "stream",
     "text": [
      "\n",
      "Weights for class 0:\n",
      "\n",
      "..... with weight 0.5916719466765261\n",
      "trouble with weight 0.5983166160684635\n",
      "back with weight 0.6132615454200708\n",
      "get with weight 0.6239318965213034\n",
      "bearish with weight 0.652604569005573\n",
      "weak with weight 0.6634644773815404\n",
      "lower with weight 0.7248905296501765\n",
      "falls with weight 0.7897618885561779\n",
      "fall with weight 0.9627539369275024\n",
      "short with weight 1.4467269324941296\n",
      "\n",
      "Weights for class 1:\n",
      "\n",
      "resistance with weight 0.5722318644466635\n",
      "options with weight 0.5737432023527967\n",
      "bbry with weight 0.596465823209561\n",
      "may with weight 0.6242906771879131\n",
      "sells with weight 0.6511476331016585\n",
      "yhoo with weight 0.7128433333129802\n",
      "uk with weight 0.7327343391833665\n",
      "ipo with weight 0.768106839333167\n",
      "today with weight 0.8614781479680983\n",
      "ceo with weight 0.9043563572894592\n",
      "\n",
      "Weights for class 2:\n",
      "\n",
      "calls with weight 0.6735138961154467\n",
      "ftse with weight 0.697392746654618\n",
      "bullish with weight 0.697532594866687\n",
      "britain with weight 0.7310825490010373\n",
      "highs with weight 0.7559168909492504\n",
      "hod with weight 0.7561497843438278\n",
      "higher with weight 0.7600272105556661\n",
      "strong with weight 0.855803678642195\n",
      "buy with weight 0.968516605255891\n",
      "long with weight 1.4951244161295114\n"
     ]
    }
   ],
   "source": [
    "n_feats_to_show = 10\n",
    "\n",
    "# Flip the index so that values are keys and keys are values:\n",
    "keys = vectorizer.vocabulary_.values()\n",
    "values = vectorizer.vocabulary_.keys()\n",
    "vocab_inverted = dict(zip(keys, values))\n",
    "\n",
    "for c, weights_c in enumerate(classifier.coef_):\n",
    "    print(f'\\nWeights for class {c}:\\n')\n",
    "    strongest_idxs = np.argsort(weights_c)[-n_feats_to_show:]\n",
    "\n",
    "    for idx in strongest_idxs:\n",
    "        print(f'{vocab_inverted[idx]} with weight {weights_c[idx]}')"
   ]
  },
  {
   "cell_type": "code",
   "execution_count": 163,
   "metadata": {
    "ExecuteTime": {
     "end_time": "2023-06-16T14:58:19.115740Z",
     "start_time": "2023-06-16T14:58:19.059225800Z"
    }
   },
   "outputs": [],
   "source": []
  },
  {
   "cell_type": "markdown",
   "metadata": {},
   "source": [
    "### Topics"
   ]
  },
  {
   "cell_type": "code",
   "execution_count": 163,
   "metadata": {
    "ExecuteTime": {
     "end_time": "2023-06-16T14:58:19.120240500Z",
     "start_time": "2023-06-16T14:58:19.074232900Z"
    }
   },
   "outputs": [],
   "source": []
  },
  {
   "cell_type": "code",
   "execution_count": 164,
   "metadata": {
    "ExecuteTime": {
     "end_time": "2023-06-16T14:58:19.336278800Z",
     "start_time": "2023-06-16T14:58:19.089235600Z"
    }
   },
   "outputs": [],
   "source": [
    "pos_index = all_labels == 2  # compare predictions to gold labels\n",
    "neg_index = all_labels == 0  # compare predictions to gold labels\n",
    "# get the text of tweets where the classifier made an error:\n",
    "pos_tweets = np.array(all_text)[pos_index]\n",
    "neg_tweets = np.array(all_text)[neg_index]"
   ]
  },
  {
   "cell_type": "code",
   "execution_count": 165,
   "metadata": {
    "ExecuteTime": {
     "end_time": "2023-06-16T14:58:19.584322600Z",
     "start_time": "2023-06-16T14:58:19.344780100Z"
    }
   },
   "outputs": [
    {
     "name": "stdout",
     "output_type": "stream",
     "text": [
      "Primark racks up a happy Christmas after strong sales\n",
      "Royal Mail chairman Donald Brydon set to step down\n"
     ]
    }
   ],
   "source": [
    "#type(pos_tweets)\n",
    "print(pos_tweets[0])\n",
    "print(neg_tweets[0])"
   ]
  },
  {
   "cell_type": "code",
   "execution_count": 166,
   "metadata": {
    "ExecuteTime": {
     "end_time": "2023-06-16T14:58:19.833365900Z",
     "start_time": "2023-06-16T14:58:19.585822600Z"
    }
   },
   "outputs": [],
   "source": [
    "processed_pos = []\n",
    "processed_neg = []"
   ]
  },
  {
   "cell_type": "code",
   "execution_count": 167,
   "metadata": {
    "ExecuteTime": {
     "end_time": "2023-06-16T14:58:20.143919900Z",
     "start_time": "2023-06-16T14:58:19.835365800Z"
    }
   },
   "outputs": [],
   "source": [
    "from nltk.stem import WordNetLemmatizer \n",
    "from gensim.utils import simple_preprocess\n",
    "from gensim.parsing.preprocessing import STOPWORDS # find stopwords\n",
    "\n",
    "np.random.seed(400)  # We fix the random seed to ensure we get consistent results when we repeat the lab.\n",
    "\n",
    "# Tokenize and lemmatize\n",
    "def preprocess(text):\n",
    "    result=[]\n",
    "    for token in simple_preprocess(text) :  # Tokenize, remove very short and very long words, convert to lower case, remove words containing non-letter characters\n",
    "        if token not in STOPWORDS:\n",
    "            result.append(WordNetLemmatizer().lemmatize(token, 'v'))\n",
    "            \n",
    "    return result\n",
    "\n",
    "# Create lists of preprocessed documents\n",
    "for tweet in pos_tweets:\n",
    "    processed_pos.append(preprocess(tweet))\n",
    "    \n",
    "for tweet in neg_tweets:\n",
    "    processed_neg.append(preprocess(tweet))"
   ]
  },
  {
   "cell_type": "code",
   "execution_count": 168,
   "outputs": [],
   "source": [
    "# nltk.download('wordnet')"
   ],
   "metadata": {
    "collapsed": false,
    "ExecuteTime": {
     "end_time": "2023-06-16T14:58:20.422469200Z",
     "start_time": "2023-06-16T14:58:20.144920100Z"
    }
   }
  },
  {
   "cell_type": "code",
   "execution_count": 169,
   "metadata": {
    "ExecuteTime": {
     "end_time": "2023-06-16T14:58:20.685515500Z",
     "start_time": "2023-06-16T14:58:20.423469100Z"
    }
   },
   "outputs": [
    {
     "name": "stdout",
     "output_type": "stream",
     "text": [
      "['primark', 'rack', 'happy', 'christmas', 'strong', 'sales']\n",
      "['royal', 'mail', 'chairman', 'donald', 'brydon', 'set', 'step']\n"
     ]
    }
   ],
   "source": [
    "print(processed_pos[0])\n",
    "print(processed_neg[0])"
   ]
  },
  {
   "cell_type": "code",
   "execution_count": 169,
   "metadata": {
    "ExecuteTime": {
     "end_time": "2023-06-16T14:58:20.700018Z",
     "start_time": "2023-06-16T14:58:20.686515500Z"
    }
   },
   "outputs": [],
   "source": []
  },
  {
   "cell_type": "code",
   "execution_count": 170,
   "metadata": {
    "ExecuteTime": {
     "end_time": "2023-06-16T14:58:20.979567200Z",
     "start_time": "2023-06-16T14:58:20.701518200Z"
    }
   },
   "outputs": [
    {
     "name": "stdout",
     "output_type": "stream",
     "text": [
      "Dictionary(1633 unique tokens: ['christmas', 'happy', 'primark', 'rack', 'sales']...)\n",
      "Dictionary(1155 unique tokens: ['brydon', 'chairman', 'donald', 'mail', 'royal']...)\n"
     ]
    }
   ],
   "source": [
    "from gensim.corpora import Dictionary\n",
    "\n",
    "dictionary_pos = Dictionary(processed_pos) # construct word<->id mappings - it does it in alphabetical order\n",
    "print(dictionary_pos)\n",
    "\n",
    "pos_bow_corpus = [dictionary_pos.doc2bow(tweet) for tweet in processed_pos]\n",
    "\n",
    "dictionary_neg = Dictionary(processed_neg) # construct word<->id mappings - it does it in alphabetical order\n",
    "print(dictionary_neg)\n",
    "\n",
    "neg_bow_corpus = [dictionary_neg.doc2bow(tweet) for tweet in processed_neg]"
   ]
  },
  {
   "cell_type": "code",
   "execution_count": 171,
   "metadata": {
    "ExecuteTime": {
     "end_time": "2023-06-16T14:58:21.243113Z",
     "start_time": "2023-06-16T14:58:20.981567100Z"
    }
   },
   "outputs": [
    {
     "data": {
      "text/plain": "469"
     },
     "execution_count": 171,
     "metadata": {},
     "output_type": "execute_result"
    }
   ],
   "source": [
    "len(pos_bow_corpus)"
   ]
  },
  {
   "cell_type": "code",
   "execution_count": 172,
   "metadata": {
    "ExecuteTime": {
     "end_time": "2023-06-16T14:58:21.506659300Z",
     "start_time": "2023-06-16T14:58:21.244113Z"
    }
   },
   "outputs": [
    {
     "data": {
      "text/plain": "283"
     },
     "execution_count": 172,
     "metadata": {},
     "output_type": "execute_result"
    }
   ],
   "source": [
    "len(neg_bow_corpus)"
   ]
  },
  {
   "cell_type": "code",
   "execution_count": 173,
   "metadata": {
    "ExecuteTime": {
     "end_time": "2023-06-16T14:58:24.080609500Z",
     "start_time": "2023-06-16T14:58:21.508159700Z"
    }
   },
   "outputs": [],
   "source": [
    "from gensim.models import LdaModel\n",
    "\n",
    "lda_pos_model =  LdaModel(pos_bow_corpus, \n",
    "                      num_topics=10, \n",
    "                      id2word=dictionary_pos,                                    \n",
    "                      passes=10,\n",
    "                    ) \n",
    "\n",
    "lda_neg_model =  LdaModel(neg_bow_corpus, \n",
    "                      num_topics=10, \n",
    "                      id2word=dictionary_neg,                                    \n",
    "                      passes=10,\n",
    "                    ) "
   ]
  },
  {
   "cell_type": "code",
   "execution_count": 174,
   "metadata": {
    "ExecuteTime": {
     "end_time": "2023-06-16T14:58:24.340155400Z",
     "start_time": "2023-06-16T14:58:24.082609700Z"
    }
   },
   "outputs": [
    {
     "name": "stdout",
     "output_type": "stream",
     "text": [
      "Pos Topic: 0 \n",
      "Words: 0.016*\"buy\" + 0.015*\"https\" + 0.012*\"aapl\" + 0.012*\"look\" + 0.012*\"stks\" + 0.012*\"http\" + 0.010*\"good\" + 0.008*\"high\" + 0.008*\"dividend\" + 0.008*\"call\"\n",
      "\n",
      "\n",
      "Pos Topic: 1 \n",
      "Words: 0.015*\"price\" + 0.015*\"share\" + 0.014*\"day\" + 0.010*\"higher\" + 0.010*\"growth\" + 0.009*\"earn\" + 0.008*\"climb\" + 0.008*\"end\" + 0.008*\"run\" + 0.008*\"dividend\"\n",
      "\n",
      "\n",
      "Pos Topic: 2 \n",
      "Words: 0.022*\"https\" + 0.015*\"profit\" + 0.014*\"buy\" + 0.013*\"astrazeneca\" + 0.011*\"look\" + 0.011*\"tsla\" + 0.009*\"rise\" + 0.008*\"break\" + 0.008*\"continue\" + 0.008*\"sales\"\n",
      "\n",
      "\n",
      "Pos Topic: 3 \n",
      "Words: 0.039*\"long\" + 0.037*\"http\" + 0.037*\"stks\" + 0.013*\"https\" + 0.011*\"aapl\" + 0.009*\"market\" + 0.009*\"sales\" + 0.008*\"position\" + 0.008*\"go\" + 0.008*\"amzn\"\n",
      "\n",
      "\n",
      "Pos Topic: 4 \n",
      "Words: 0.011*\"higher\" + 0.011*\"astrazeneca\" + 0.011*\"https\" + 0.010*\"ftse\" + 0.008*\"approval\" + 0.008*\"support\" + 0.006*\"tesco\" + 0.006*\"billion\" + 0.006*\"steady\" + 0.006*\"buy\"\n",
      "\n",
      "\n",
      "Pos Topic: 5 \n",
      "Words: 0.018*\"stock\" + 0.010*\"new\" + 0.010*\"resistance\" + 0.008*\"watch\" + 0.008*\"bbry\" + 0.008*\"tomorrow\" + 0.008*\"chart\" + 0.007*\"breakout\" + 0.006*\"buy\" + 0.006*\"stks\"\n",
      "\n",
      "\n",
      "Pos Topic: 6 \n",
      "Words: 0.022*\"buy\" + 0.010*\"https\" + 0.009*\"break\" + 0.009*\"aapl\" + 0.009*\"tsla\" + 0.009*\"http\" + 0.007*\"outperform\" + 0.007*\"chart\" + 0.007*\"stock\" + 0.007*\"gain\"\n",
      "\n",
      "\n",
      "Pos Topic: 7 \n",
      "Words: 0.017*\"long\" + 0.013*\"share\" + 0.011*\"price\" + 0.009*\"dividend\" + 0.009*\"trade\" + 0.009*\"breakout\" + 0.009*\"endp\" + 0.009*\"astrazeneca\" + 0.007*\"sell\" + 0.007*\"good\"\n",
      "\n",
      "\n",
      "Pos Topic: 8 \n",
      "Words: 0.023*\"buy\" + 0.016*\"https\" + 0.016*\"share\" + 0.016*\"fb\" + 0.014*\"today\" + 0.013*\"long\" + 0.011*\"plc\" + 0.008*\"call\" + 0.008*\"tsla\" + 0.008*\"price\"\n",
      "\n",
      "\n",
      "Pos Topic: 9 \n",
      "Words: 0.049*\"http\" + 0.046*\"stks\" + 0.010*\"look\" + 0.009*\"break\" + 0.009*\"setup\" + 0.009*\"breakout\" + 0.008*\"share\" + 0.007*\"report\" + 0.007*\"volume\" + 0.006*\"strong\"\n",
      "\n",
      "\n",
      "Neg Topic: 0 \n",
      "Words: 0.015*\"fb\" + 0.015*\"fall\" + 0.013*\"support\" + 0.013*\"sell\" + 0.010*\"https\" + 0.010*\"short\" + 0.010*\"big\" + 0.010*\"market\" + 0.008*\"spy\" + 0.008*\"dividend\"\n",
      "\n",
      "\n",
      "Neg Topic: 1 \n",
      "Words: 0.014*\"short\" + 0.011*\"close\" + 0.011*\"price\" + 0.011*\"share\" + 0.011*\"red\" + 0.010*\"cut\" + 0.007*\"look\" + 0.007*\"spy\" + 0.007*\"drop\" + 0.007*\"break\"\n",
      "\n",
      "\n",
      "Neg Topic: 2 \n",
      "Words: 0.030*\"short\" + 0.013*\"look\" + 0.013*\"https\" + 0.010*\"come\" + 0.010*\"earn\" + 0.009*\"aapl\" + 0.007*\"fear\" + 0.006*\"trade\" + 0.006*\"weak\" + 0.006*\"chart\"\n",
      "\n",
      "\n",
      "Neg Topic: 3 \n",
      "Words: 0.016*\"stks\" + 0.016*\"http\" + 0.012*\"spy\" + 0.012*\"glencore\" + 0.012*\"slump\" + 0.008*\"million\" + 0.008*\"post\" + 0.008*\"sales\" + 0.008*\"windows\" + 0.008*\"matthey\"\n",
      "\n",
      "\n",
      "Neg Topic: 4 \n",
      "Words: 0.014*\"tsla\" + 0.011*\"https\" + 0.010*\"lower\" + 0.010*\"min\" + 0.010*\"stks\" + 0.010*\"want\" + 0.010*\"http\" + 0.010*\"chart\" + 0.007*\"market\" + 0.007*\"revenue\"\n",
      "\n",
      "\n",
      "Neg Topic: 5 \n",
      "Words: 0.022*\"price\" + 0.016*\"short\" + 0.016*\"share\" + 0.012*\"fall\" + 0.010*\"lower\" + 0.010*\"head\" + 0.010*\"rejoice\" + 0.006*\"chart\" + 0.006*\"hit\" + 0.006*\"say\"\n",
      "\n",
      "\n",
      "Neg Topic: 6 \n",
      "Words: 0.047*\"tsla\" + 0.044*\"https\" + 0.038*\"recall\" + 0.033*\"model\" + 0.029*\"tesla\" + 0.013*\"aapl\" + 0.013*\"seat\" + 0.011*\"motor\" + 0.011*\"suvs\" + 0.009*\"short\"\n",
      "\n",
      "\n",
      "Neg Topic: 7 \n",
      "Words: 0.020*\"sbux\" + 0.017*\"downgrade\" + 0.015*\"https\" + 0.014*\"starbucks\" + 0.010*\"day\" + 0.010*\"price\" + 0.010*\"bhp\" + 0.010*\"share\" + 0.010*\"short\" + 0.010*\"slump\"\n",
      "\n",
      "\n",
      "Neg Topic: 8 \n",
      "Words: 0.025*\"stks\" + 0.025*\"http\" + 0.020*\"short\" + 0.013*\"time\" + 0.010*\"sales\" + 0.010*\"bearish\" + 0.008*\"market\" + 0.008*\"year\" + 0.008*\"slide\" + 0.008*\"sink\"\n",
      "\n",
      "\n",
      "Neg Topic: 9 \n",
      "Words: 0.025*\"stks\" + 0.025*\"http\" + 0.012*\"https\" + 0.011*\"spy\" + 0.011*\"rat\" + 0.009*\"buy\" + 0.009*\"sell\" + 0.009*\"barclays\" + 0.009*\"short\" + 0.008*\"update\"\n",
      "\n",
      "\n"
     ]
    }
   ],
   "source": [
    "'''\n",
    "For each topic, we will explore the words occuring in that topic and its relative weight\n",
    "'''\n",
    "for idx, topic in lda_pos_model.print_topics(-1):\n",
    "    print(\"Pos Topic: {} \\nWords: {}\".format(idx, topic ))\n",
    "    print(\"\\n\")\n",
    "    \n",
    "for idx, topic in lda_neg_model.print_topics(-1):\n",
    "    print(\"Neg Topic: {} \\nWords: {}\".format(idx, topic ))\n",
    "    print(\"\\n\")"
   ]
  },
  {
   "cell_type": "markdown",
   "metadata": {},
   "source": [
    "### Individual Topic Distribution"
   ]
  },
  {
   "cell_type": "code",
   "execution_count": 175,
   "metadata": {
    "ExecuteTime": {
     "end_time": "2023-06-16T14:58:24.590698900Z",
     "start_time": "2023-06-16T14:58:24.331153800Z"
    }
   },
   "outputs": [
    {
     "name": "stdout",
     "output_type": "stream",
     "text": [
      "ARM Royalties Accelerate as Smartphone Market Regains Strength\n"
     ]
    },
    {
     "ename": "NameError",
     "evalue": "name 'dictionary' is not defined",
     "output_type": "error",
     "traceback": [
      "\u001B[1;31m---------------------------------------------------------------------------\u001B[0m",
      "\u001B[1;31mNameError\u001B[0m                                 Traceback (most recent call last)",
      "Cell \u001B[1;32mIn[175], line 8\u001B[0m\n\u001B[0;32m      3\u001B[0m \u001B[38;5;28mprint\u001B[39m(unseen_document)\n\u001B[0;32m      5\u001B[0m \u001B[38;5;66;03m#print(f' This document is from newsgroup {newsgroups_test.target_names[newsgroups_test.target[test_document_idx]]}')\u001B[39;00m\n\u001B[0;32m      6\u001B[0m \n\u001B[0;32m      7\u001B[0m \u001B[38;5;66;03m# Data preprocessing step for the unseen document - It is the same preprocessing we have performed for the training data\u001B[39;00m\n\u001B[1;32m----> 8\u001B[0m bow_vector \u001B[38;5;241m=\u001B[39m \u001B[43mdictionary\u001B[49m\u001B[38;5;241m.\u001B[39mdoc2bow(preprocess(unseen_document))\n\u001B[0;32m     10\u001B[0m \u001B[38;5;28;01mfor\u001B[39;00m idx, count \u001B[38;5;129;01min\u001B[39;00m bow_vector:\n\u001B[0;32m     11\u001B[0m     \u001B[38;5;28mprint\u001B[39m(\u001B[38;5;124mf\u001B[39m\u001B[38;5;124m'\u001B[39m\u001B[38;5;132;01m{\u001B[39;00mdictionary[idx]\u001B[38;5;132;01m}\u001B[39;00m\u001B[38;5;124m: \u001B[39m\u001B[38;5;132;01m{\u001B[39;00mcount\u001B[38;5;132;01m}\u001B[39;00m\u001B[38;5;124m'\u001B[39m)\n",
      "\u001B[1;31mNameError\u001B[0m: name 'dictionary' is not defined"
     ]
    }
   ],
   "source": [
    "test_document_idx = 10\n",
    "unseen_document = pos_tweets[test_document_idx]\n",
    "print(unseen_document)\n",
    "\n",
    "#print(f' This document is from newsgroup {newsgroups_test.target_names[newsgroups_test.target[test_document_idx]]}')\n",
    "\n",
    "# Data preprocessing step for the unseen document - It is the same preprocessing we have performed for the training data\n",
    "bow_vector = dictionary.doc2bow(preprocess(unseen_document))\n",
    "\n",
    "for idx, count in bow_vector:\n",
    "    print(f'{dictionary[idx]}: {count}')"
   ]
  },
  {
   "cell_type": "code",
   "execution_count": null,
   "metadata": {},
   "outputs": [],
   "source": [
    "topic_distribution = lda_model[bow_vector]\n",
    "\n",
    "for index, probability in sorted(topic_distribution, key=lambda tup: -1*tup[1]):\n",
    "    print(\"Index: {}\\nProbability: {}\\t Topic: {}\".format(index, probability, lda_model.print_topic(index, 5)))"
   ]
  },
  {
   "cell_type": "code",
   "execution_count": null,
   "metadata": {},
   "outputs": [],
   "source": [
    "# make list of tuples ready for model training\n",
    "\n",
    "train_set = list(zip(list_a, list_b))"
   ]
  },
  {
   "cell_type": "code",
   "execution_count": null,
   "metadata": {},
   "outputs": [],
   "source": []
  },
  {
   "cell_type": "code",
   "execution_count": null,
   "metadata": {},
   "outputs": [],
   "source": []
  },
  {
   "cell_type": "code",
   "execution_count": null,
   "metadata": {},
   "outputs": [],
   "source": []
  },
  {
   "cell_type": "code",
   "execution_count": null,
   "metadata": {},
   "outputs": [],
   "source": []
  },
  {
   "cell_type": "markdown",
   "metadata": {},
   "source": [
    "## Task 2: Named Entity Recognition (max. 19%)  \n",
    "\n",
    "In scientific research, information extraction can help researchers to discover relevant findings from\n",
    "across a wide body of literature. As a first step, your task is to build a tool for named entity\n",
    "recognition in scientific journal article abstracts. We will be working with the BioNLP 2004 dataset of\n",
    "abstracts from MEDLINE, a database containing journal articles from fields including medicine and\n",
    "pharmacy. The data was collected by searching for the terms ‘human’, ‘blood cells’ and\n",
    "‘transcription factors’, and then annotated with five entity types: DNA, protein, cell type, cell line,\n",
    "RNA. \n",
    "\n",
    "More information can be found in the paper: https://aclanthology.org/W04-1213.pdf .\n",
    "We provide a cache of the data and code for loading the data in ‘data_loader_demo’ in our Github\n",
    "repository, https://github.com/uob-TextAnalytics/intro-labs-public. This script downloaded the data\n",
    "from HuggingFace, where you can also find more information about the dataset:\n",
    "https://huggingface.co/datasets/tner/bionlp2004 .\n",
    "\n",
    "\n",
    "The data is presented in this paper:\n",
    "Nigel Collier, Tomoko Ohta, Yoshimasa Tsuruoka, Yuka Tateisi, and Jin-Dong Kim. 2004. Introduction\n",
    "to the Bio-entity Recognition Task at JNLPBA. In Proceedings of the International Joint Workshop on\n",
    "Natural Language Processing in Biomedicine and its Applications (NLPBA/BioNLP), pages 73–78,\n",
    "Geneva, Switzerland. COLING."
   ]
  },
  {
   "cell_type": "code",
   "execution_count": null,
   "metadata": {},
   "outputs": [],
   "source": []
  },
  {
   "cell_type": "code",
   "execution_count": null,
   "metadata": {},
   "outputs": [],
   "source": []
  },
  {
   "cell_type": "code",
   "execution_count": null,
   "metadata": {},
   "outputs": [],
   "source": []
  }
 ],
 "metadata": {
  "kernelspec": {
   "display_name": "data_analytics",
   "language": "python",
   "name": "data_analytics"
  },
  "language_info": {
   "codemirror_mode": {
    "name": "ipython",
    "version": 3
   },
   "file_extension": ".py",
   "mimetype": "text/x-python",
   "name": "python",
   "nbconvert_exporter": "python",
   "pygments_lexer": "ipython3",
   "version": "3.9.16"
  }
 },
 "nbformat": 4,
 "nbformat_minor": 4
}
