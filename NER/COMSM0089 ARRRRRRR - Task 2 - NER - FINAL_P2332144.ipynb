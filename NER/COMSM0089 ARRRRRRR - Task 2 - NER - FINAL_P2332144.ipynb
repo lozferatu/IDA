{
 "cells": [
  {
   "cell_type": "markdown",
   "id": "794243c0",
   "metadata": {},
   "source": [
    "# COMSM0089 - Task 2 - Named Entity Recognition"
   ]
  },
  {
   "cell_type": "code",
   "execution_count": 2,
   "id": "annoying-ethiopia",
   "metadata": {},
   "outputs": [],
   "source": [
    "%load_ext autoreload\n",
    "%autoreload 2\n",
    "\n",
    "# Use HuggingFace's datasets library to access the financial_phrasebank dataset\n",
    "from datasets import load_dataset\n",
    "\n",
    "import numpy as np"
   ]
  },
  {
   "cell_type": "markdown",
   "id": "8fd12a24-65ca-4093-af7f-c614ebbaf990",
   "metadata": {
    "tags": []
   },
   "source": [
    "# BIONLP 2004\n",
    "\n",
    "This dataset contains abstracts from MEDLINE, a database containing journal articles from fields including medicine and pharmacy. \n",
    "The data was collected by searching for the terms ‘human’, ‘blood cells’ and ‘transcription factors’, and then annotated with five entity types: DNA, protein, cell type, cell line, RNA. \n",
    "\n",
    "More information in the paper: https://aclanthology.org/W04-1213.pdf\n",
    "\n",
    "The data can be downloaded from HuggingFace: https://huggingface.co/datasets/tner/bionlp2004"
   ]
  },
  {
   "cell_type": "code",
   "execution_count": 3,
   "id": "0ecb90e7-ce86-4918-affa-d558fb70479c",
   "metadata": {},
   "outputs": [
    {
     "name": "stderr",
     "output_type": "stream",
     "text": [
      "Reusing dataset bio_nlp2004 (./data_cache\\tner___bio_nlp2004\\bionlp2004\\1.0.0\\9f41d3f0270b773c2762dee333ae36c29331e2216114a57081f77639fdb5e904)\n"
     ]
    },
    {
     "data": {
      "application/vnd.jupyter.widget-view+json": {
       "model_id": "945fffcab49548959c1d8738d78508f7",
       "version_major": 2,
       "version_minor": 0
      },
      "text/plain": [
       "  0%|          | 0/3 [00:00<?, ?it/s]"
      ]
     },
     "metadata": {},
     "output_type": "display_data"
    },
    {
     "name": "stdout",
     "output_type": "stream",
     "text": [
      "The dataset is a dictionary with 3 splits: \n",
      "\n",
      "DatasetDict({\n",
      "    train: Dataset({\n",
      "        features: ['tokens', 'tags'],\n",
      "        num_rows: 16619\n",
      "    })\n",
      "    validation: Dataset({\n",
      "        features: ['tokens', 'tags'],\n",
      "        num_rows: 1927\n",
      "    })\n",
      "    test: Dataset({\n",
      "        features: ['tokens', 'tags'],\n",
      "        num_rows: 3856\n",
      "    })\n",
      "})\n"
     ]
    }
   ],
   "source": [
    "dataset = load_dataset(\n",
    "    \"tner/bionlp2004\", \n",
    "    cache_dir='./data_cache'\n",
    ")\n",
    "\n",
    "print(f'The dataset is a dictionary with {len(dataset)} splits: \\n\\n{dataset}')"
   ]
  },
  {
   "cell_type": "markdown",
   "id": "7dee95f0-5616-488b-80ab-08b1bab9697f",
   "metadata": {},
   "source": [
    "The dataset is already split into train, validation and test. It may be useful to reformat the DatasetDict object into lists of sentences and tags:"
   ]
  },
  {
   "cell_type": "code",
   "execution_count": 4,
   "id": "83152215-e185-4ada-9218-5ae0b228b976",
   "metadata": {},
   "outputs": [],
   "source": [
    "train_sentences_ner = [item['tokens'] for item in dataset['train']]\n",
    "train_labels_ner = [[str(tag) for tag in item['tags']] for item in dataset['train']]\n",
    "\n",
    "val_sentences_ner = [item['tokens'] for item in dataset['validation']]\n",
    "val_labels_ner = [[str(tag) for tag in item['tags']] for item in dataset['validation']]\n",
    "\n",
    "test_sentences_ner = [item['tokens'] for item in dataset['test']]\n",
    "test_labels_ner = [[str(tag) for tag in item['tags']] for item in dataset['test']]"
   ]
  },
  {
   "cell_type": "code",
   "execution_count": 5,
   "id": "d7a18a4e-4b5f-4351-af50-9b639e2e217c",
   "metadata": {},
   "outputs": [
    {
     "name": "stdout",
     "output_type": "stream",
     "text": [
      "Number of training sentences = 16619\n",
      "Number of validation sentences = 1927\n",
      "Number of test sentences = 3856\n"
     ]
    }
   ],
   "source": [
    "print(f'Number of training sentences = {len(train_sentences_ner)}')\n",
    "print(f'Number of validation sentences = {len(val_sentences_ner)}')\n",
    "print(f'Number of test sentences = {len(test_sentences_ner)}')"
   ]
  },
  {
   "cell_type": "code",
   "execution_count": 5,
   "id": "ce168f47-af1c-4efb-b9a6-0e6f843b7a56",
   "metadata": {},
   "outputs": [
    {
     "name": "stdout",
     "output_type": "stream",
     "text": [
      "What does one instance look like from the training set? \n",
      "\n",
      "['Hence', ',', 'PPAR', 'can', 'positively', 'or', 'negatively', 'influence', 'TH', 'action', 'depending', 'on', 'TRE', 'structure', 'and', 'THR', 'isotype', '.']\n",
      "\n",
      "...and here is its corresponding label \n",
      "\n",
      "['0', '0', '3', '0', '0', '0', '0', '0', '0', '0', '0', '0', '1', '0', '0', '3', '4', '0']\n"
     ]
    }
   ],
   "source": [
    "print(f'What does one instance look like from the training set? \\n\\n{train_sentences_ner[234]}\\n')\n",
    "print(f'...and here is its corresponding label \\n\\n{train_labels_ner[234]}')"
   ]
  },
  {
   "cell_type": "code",
   "execution_count": 6,
   "id": "7e028d6d-42ae-405a-9dd5-27e019519887",
   "metadata": {},
   "outputs": [
    {
     "name": "stdout",
     "output_type": "stream",
     "text": [
      "Number of unique labels: ['0' '1' '10' '2' '3' '4' '5' '6' '7' '8' '9']\n"
     ]
    }
   ],
   "source": [
    "print(f'Number of unique labels: {np.unique(np.concatenate(train_labels_ner))}')"
   ]
  },
  {
   "cell_type": "markdown",
   "id": "2ba0964d",
   "metadata": {},
   "source": [
    "## NOTE THESE TAGS ARE 'NER TAGS' - DO NOT CONFUSE LATER WHEN ADDING POS_TAGS"
   ]
  },
  {
   "cell_type": "markdown",
   "id": "038e49b2-d139-48ae-8869-c7f2676e4aaf",
   "metadata": {},
   "source": [
    "These are the tags used to annotate the entities:"
   ]
  },
  {
   "cell_type": "code",
   "execution_count": 7,
   "id": "7311f679-7b10-49ff-a6a1-ef91b4940a24",
   "metadata": {},
   "outputs": [
    {
     "name": "stdout",
     "output_type": "stream",
     "text": [
      "{0: 'O', 1: 'B-DNA', 2: 'I-DNA', 3: 'B-protein', 4: 'I-protein', 5: 'B-cell_type', 6: 'I-cell_type', 7: 'B-cell_line', 8: 'I-cell_line', 9: 'B-RNA', 10: 'I-RNA'}\n"
     ]
    }
   ],
   "source": [
    "# mapping from labels to the tags\n",
    "# these are the named entities, NER tags, what we want \n",
    "\n",
    "id2label = {\n",
    "    \"O\": 0,\n",
    "    \"B-DNA\": 1,\n",
    "    \"I-DNA\": 2,\n",
    "    \"B-protein\": 3,\n",
    "    \"I-protein\": 4,\n",
    "    \"B-cell_type\": 5,\n",
    "    \"I-cell_type\": 6,\n",
    "    \"B-cell_line\": 7,\n",
    "    \"I-cell_line\": 8,\n",
    "    \"B-RNA\": 9,\n",
    "    \"I-RNA\": 10\n",
    "}\n",
    "\n",
    "label2id = {v:k for k, v in id2label.items()}\n",
    "print(label2id)"
   ]
  },
  {
   "cell_type": "code",
   "execution_count": 8,
   "id": "da8372d2",
   "metadata": {},
   "outputs": [],
   "source": [
    "ner_tag_mapping = {0: 'O', 1: 'B-DNA', 2: 'I-DNA', 3: 'B-protein', 4: 'I-protein', 5: 'B-cell_type', 6: 'I-cell_type', 7: 'B-cell_line', 8: 'I-cell_line', 9: 'B-RNA', 10: 'I-RNA'}"
   ]
  },
  {
   "cell_type": "code",
   "execution_count": 9,
   "id": "61fa7528",
   "metadata": {},
   "outputs": [
    {
     "name": "stdout",
     "output_type": "stream",
     "text": [
      "[('Since', 'O'), ('HUVECs', 'B-cell_line'), ('released', 'O'), ('superoxide', 'O'), ('anions', 'O'), ('in', 'O'), ('response', 'O'), ('to', 'O'), ('TNF', 'O'), (',', 'O'), ('and', 'O'), ('H2O2', 'O'), ('induces', 'O'), ('VCAM-1', 'B-protein'), (',', 'O'), ('PDTC', 'O'), ('may', 'O'), ('act', 'O'), ('as', 'O'), ('a', 'O'), ('radical', 'O'), ('scavenger', 'O'), ('.', 'O')] \n",
      "\n"
     ]
    }
   ],
   "source": [
    "# change the labels to the actual NER tags\n",
    "train_dataset=dataset['train']\n",
    "\n",
    "# want tuples for the CRF tagger\n",
    "train_set = [list(zip(s['tokens'], [ner_tag_mapping[tok] for tok in s['tags']])) for s in train_dataset][:-1]\n",
    "\n",
    "print(train_set[0], '\\n')"
   ]
  },
  {
   "cell_type": "code",
   "execution_count": 10,
   "id": "0f4f9ff2",
   "metadata": {},
   "outputs": [
    {
     "name": "stdout",
     "output_type": "stream",
     "text": [
      "[('IL-2', 'B-DNA'), ('gene', 'I-DNA'), ('expression', 'O'), ('and', 'O'), ('NF-kappa', 'B-protein'), ('B', 'I-protein'), ('activation', 'O'), ('through', 'O'), ('CD28', 'B-protein'), ('requires', 'O'), ('reactive', 'O'), ('oxygen', 'O'), ('production', 'O'), ('by', 'O'), ('5-lipoxygenase', 'B-protein'), ('.', 'O')] \n",
      "\n",
      "['IL-2', 'gene', 'expression', 'and', 'NF-kappa', 'B', 'activation', 'through', 'CD28', 'requires', 'reactive', 'oxygen', 'production', 'by', '5-lipoxygenase', '.'] \n",
      "\n",
      "['B-DNA', 'I-DNA', 'O', 'O', 'B-protein', 'I-protein', 'O', 'O', 'B-protein', 'O', 'O', 'O', 'O', 'O', 'B-protein', 'O'] \n",
      "\n"
     ]
    }
   ],
   "source": [
    "# using val set for development and crf tuning\n",
    "val_dataset=dataset['validation']\n",
    "val_set = [list(zip(s['tokens'], [ner_tag_mapping[tok] for tok in s['tags']])) for s in val_dataset][:-1]\n",
    "\n",
    "# words in the val sentences\n",
    "val_tokens = [s['tokens'] for s in val_dataset][:-1]\n",
    "\n",
    "# NER tags in the val sentences\n",
    "val_tags = [[ner_tag_mapping[tok] for tok in s['tags']] for s in val_dataset][:-1]\n",
    "\n",
    "print(val_set[0], '\\n')\n",
    "print(val_tokens[0], '\\n')\n",
    "print(val_tags[0], '\\n')"
   ]
  },
  {
   "cell_type": "code",
   "execution_count": 11,
   "id": "f49b0f34",
   "metadata": {},
   "outputs": [
    {
     "name": "stdout",
     "output_type": "stream",
     "text": [
      "[('Number', 'O'), ('of', 'O'), ('glucocorticoid', 'B-protein'), ('receptors', 'I-protein'), ('in', 'O'), ('lymphocytes', 'B-cell_type'), ('and', 'O'), ('their', 'O'), ('sensitivity', 'O'), ('to', 'O'), ('hormone', 'O'), ('action', 'O'), ('.', 'O')] \n",
      "\n",
      "['Number', 'of', 'glucocorticoid', 'receptors', 'in', 'lymphocytes', 'and', 'their', 'sensitivity', 'to', 'hormone', 'action', '.'] \n",
      "\n",
      "['O', 'O', 'B-protein', 'I-protein', 'O', 'B-cell_type', 'O', 'O', 'O', 'O', 'O', 'O', 'O'] \n",
      "\n"
     ]
    }
   ],
   "source": [
    "# saving test set for final generalised performance\n",
    "test_dataset=dataset['test']\n",
    "test_set = [list(zip(s['tokens'], [ner_tag_mapping[tok] for tok in s['tags']])) for s in test_dataset][:-1]\n",
    "\n",
    "# words in the test sentences\n",
    "test_tokens = [s['tokens'] for s in test_dataset][:-1]\n",
    "\n",
    "# NER tags in the test sentences\n",
    "test_tags = [[ner_tag_mapping[tok] for tok in s['tags']] for s in test_dataset][:-1]\n",
    "\n",
    "print(test_set[0], '\\n')\n",
    "print(test_tokens[0], '\\n')\n",
    "print(test_tags[0], '\\n')"
   ]
  },
  {
   "cell_type": "code",
   "execution_count": 12,
   "id": "cb82e8ac-66ff-4420-8b98-23c8c54bb230",
   "metadata": {},
   "outputs": [],
   "source": [
    "# plan: train a basic CRF model using the training data and labels \n",
    "# and calculate accuracy, recall etc. This should give a baseline\n",
    "\n",
    "# improve the CRF tagger by adding more features, such as suffix, prefix, capitals\n",
    "# use HMM to tag the data and add this as another feature\n",
    "# train an improved model, calculate the metrics and see what we have gained\n",
    "\n",
    "# use the validation set for to test each improvement & tuning CRF model, regularisation on weights in the signmo?\n",
    "\n",
    "# final test data for measuring general performance "
   ]
  },
  {
   "cell_type": "code",
   "execution_count": 13,
   "id": "e955268e",
   "metadata": {},
   "outputs": [
    {
     "name": "stdout",
     "output_type": "stream",
     "text": [
      "[('Since', 'O'), ('HUVECs', 'B-cell_line'), ('released', 'O'), ('superoxide', 'O'), ('anions', 'O'), ('in', 'O'), ('response', 'O'), ('to', 'O'), ('TNF', 'O'), (',', 'O'), ('and', 'O'), ('H2O2', 'O'), ('induces', 'O'), ('VCAM-1', 'B-protein'), (',', 'O'), ('PDTC', 'O'), ('may', 'O'), ('act', 'O'), ('as', 'O'), ('a', 'O'), ('radical', 'O'), ('scavenger', 'O'), ('.', 'O')] \n",
      "\n",
      "[('IL-2', 'B-DNA'), ('gene', 'I-DNA'), ('expression', 'O'), ('and', 'O'), ('NF-kappa', 'B-protein'), ('B', 'I-protein'), ('activation', 'O'), ('through', 'O'), ('CD28', 'B-protein'), ('requires', 'O'), ('reactive', 'O'), ('oxygen', 'O'), ('production', 'O'), ('by', 'O'), ('5-lipoxygenase', 'B-protein'), ('.', 'O')] \n",
      "\n",
      "[('Number', 'O'), ('of', 'O'), ('glucocorticoid', 'B-protein'), ('receptors', 'I-protein'), ('in', 'O'), ('lymphocytes', 'B-cell_type'), ('and', 'O'), ('their', 'O'), ('sensitivity', 'O'), ('to', 'O'), ('hormone', 'O'), ('action', 'O'), ('.', 'O')] \n",
      "\n"
     ]
    }
   ],
   "source": [
    "print(train_set[0], '\\n')\n",
    "print(val_set[0], '\\n')\n",
    "print(test_set[0], '\\n')"
   ]
  },
  {
   "cell_type": "code",
   "execution_count": 14,
   "id": "eb8cb7b5",
   "metadata": {},
   "outputs": [
    {
     "name": "stdout",
     "output_type": "stream",
     "text": [
      "Time taken to train CRF tagger: 110.46 seconds\n"
     ]
    }
   ],
   "source": [
    "import nltk\n",
    "import time\n",
    "from nltk.tag import CRFTagger\n",
    "\n",
    "# Train a CRF NER tagger\n",
    "def train_CRF_NER_tagger(train_set):\n",
    "    start_time = time.time()\n",
    "    crf_tagger = CRFTagger()\n",
    "    crf_tagger.train(train_set, 'model.crf.tagger')\n",
    "    end_time = time.time()\n",
    "    print(f\"Time taken to train CRF tagger: {end_time - start_time:.2f} seconds\")\n",
    "    return crf_tagger\n",
    "\n",
    "tagger = train_CRF_NER_tagger(train_set)"
   ]
  },
  {
   "cell_type": "code",
   "execution_count": 15,
   "id": "688d9532",
   "metadata": {},
   "outputs": [],
   "source": [
    "import numpy as np\n",
    "\n",
    "# extract a list of spans from the tagged sentences\n",
    "def extract_spans(tagged_sents):\n",
    "    \"\"\"\n",
    "    Extract a list of tagged spans for each named entity type, \n",
    "    where each span is represented by a tuple containing the \n",
    "    start token and end token indexes.\n",
    "    \n",
    "    returns: a dictionary containing a list of spans for each entity type.\n",
    "    \"\"\"\n",
    "    spans = {}\n",
    "        \n",
    "    for sidx, sent in enumerate(tagged_sents):\n",
    "        start = -1\n",
    "        entity_type = None\n",
    "        for i, (tok, lab) in enumerate(sent):\n",
    "            if 'B-' in lab:\n",
    "                start = i\n",
    "                end = i + 1\n",
    "                entity_type = lab[2:]\n",
    "            elif 'I-' in lab:\n",
    "                end = i + 1\n",
    "            elif lab == 'O' and start >= 0:\n",
    "                \n",
    "                if entity_type not in spans:\n",
    "                    spans[entity_type] = []\n",
    "                \n",
    "                spans[entity_type].append((start, end, sidx))\n",
    "                start = -1\n",
    "        # Sometimes an I-token is the last token in the sentence, so we still have to add the span to the list\n",
    "        if start >= 0:    \n",
    "            if entity_type not in spans:\n",
    "                spans[entity_type] = []\n",
    "                \n",
    "            spans[entity_type].append((start, end, sidx))    \n",
    "            \n",
    "    return spans\n",
    "\n",
    "\n",
    "def cal_span_level_f1(test_sents, test_sents_with_pred):\n",
    "    # get a list of spans from the test set labels\n",
    "    gold_spans = extract_spans(test_sents)\n",
    "\n",
    "    # get a list of spans predicted by our tagger\n",
    "    pred_spans = extract_spans(test_sents_with_pred)\n",
    "    \n",
    "    # compute the metrics for each class:\n",
    "    f1_per_class = []\n",
    "    \n",
    "    ne_types = gold_spans.keys()  # get the list of named entity types (not the tags)\n",
    "    \n",
    "    for ne_type in ne_types:\n",
    "        # compute the confusion matrix\n",
    "        true_pos = 0\n",
    "        false_pos = 0\n",
    "        \n",
    "        for span in pred_spans[ne_type]:\n",
    "            if span in gold_spans[ne_type]:\n",
    "                true_pos += 1\n",
    "            else:\n",
    "                false_pos += 1\n",
    "                \n",
    "        false_neg = 0\n",
    "        for span in gold_spans[ne_type]:\n",
    "            if span not in pred_spans[ne_type]:\n",
    "                false_neg += 1\n",
    "                \n",
    "        if true_pos + false_pos == 0:\n",
    "            precision = 0\n",
    "        else:\n",
    "            precision = true_pos / float(true_pos + false_pos)\n",
    "            \n",
    "        if true_pos + false_neg == 0:\n",
    "            recall = 0\n",
    "        else:\n",
    "            recall = true_pos / float(true_pos + false_neg)\n",
    "        \n",
    "        if precision + recall == 0:\n",
    "            f1 = 0\n",
    "        else:\n",
    "            f1 = 2 * precision * recall / (precision + recall)\n",
    "            \n",
    "        f1_per_class.append(f1)\n",
    "        print(f'F1 score for class {ne_type} = {f1}')\n",
    "        \n",
    "    print(f'Macro-average f1 score = {np.mean(f1_per_class)}')"
   ]
  },
  {
   "cell_type": "markdown",
   "id": "58a3f0e0",
   "metadata": {},
   "source": [
    "# Measuring Performance"
   ]
  },
  {
   "cell_type": "markdown",
   "id": "ef44b9d7",
   "metadata": {},
   "source": [
    "# Baseline measures - basic CRF tagger on validation data (save test data for generalised performance at the end)"
   ]
  },
  {
   "cell_type": "code",
   "execution_count": 16,
   "id": "dc1d2e10",
   "metadata": {},
   "outputs": [
    {
     "name": "stdout",
     "output_type": "stream",
     "text": [
      "[('IL-2', 'B-DNA'), ('gene', 'I-DNA'), ('expression', 'O'), ('and', 'O'), ('NF-kappa', 'B-protein'), ('B', 'I-protein'), ('activation', 'O'), ('through', 'O'), ('CD28', 'B-protein'), ('requires', 'O'), ('reactive', 'O'), ('oxygen', 'O'), ('production', 'O'), ('by', 'O'), ('5-lipoxygenase', 'B-protein'), ('.', 'O')] \n",
      "\n",
      "[('IL-2', 'B-DNA'), ('gene', 'I-DNA'), ('expression', 'O'), ('and', 'O'), ('NF-kappa', 'B-protein'), ('B', 'I-protein'), ('activation', 'O'), ('through', 'O'), ('CD28', 'B-protein'), ('requires', 'O'), ('reactive', 'O'), ('oxygen', 'O'), ('production', 'O'), ('by', 'O'), ('5-lipoxygenase', 'B-protein'), ('.', 'O')] \n",
      "\n",
      "F1 score for class DNA = 0.5799086757990868\n",
      "F1 score for class protein = 0.7286689419795221\n",
      "F1 score for class cell_type = 0.6307947019867549\n",
      "F1 score for class cell_line = 0.5387365911799762\n",
      "F1 score for class RNA = 0.6495726495726495\n",
      "Macro-average f1 score = 0.6255363121035978\n"
     ]
    }
   ],
   "source": [
    "predicted_tags = tagger.tag_sents(val_tokens)\n",
    "print(predicted_tags[0], '\\n')\n",
    "print(val_set[0], '\\n')\n",
    "\n",
    "cal_span_level_f1(val_set, predicted_tags)"
   ]
  },
  {
   "cell_type": "code",
   "execution_count": 17,
   "id": "07e94a88",
   "metadata": {},
   "outputs": [],
   "source": [
    "# looks pretty good for first example - how accurate are the predictions? Need to check entity labels only..."
   ]
  },
  {
   "cell_type": "markdown",
   "id": "329bff0b",
   "metadata": {},
   "source": [
    "## NEXT STEPS: 1) ADD CRF_TAG FEATURES 2) ADD POS_TAGS (USE HMM FOR THIS?)"
   ]
  },
  {
   "cell_type": "markdown",
   "id": "700b5cee",
   "metadata": {},
   "source": [
    "# 1) CRF TAGGER - ADD FEATURES (MATCH PAPER IF POSSIBLE)"
   ]
  },
  {
   "cell_type": "code",
   "execution_count": 18,
   "id": "31b690ea",
   "metadata": {},
   "outputs": [],
   "source": [
    "# lexical and n-grams captured in POS, will derive from lemma and POS_TAGS\n",
    "\n",
    "## CRF Additional Features\n",
    "# Current word\n",
    "# previous word\n",
    "# next word \n",
    "# (orthographics =or) is it capitalised?\n",
    "# (orthographics =or) Does it have punctuation?\n",
    "# (orthographics =or) Does it have a number?\n",
    "# (affix information = af) Suffixes & Preffixs up to length 3 \n",
    "# (worshape = sh) wordshape \n",
    "\n",
    "import re, unicodedata\n",
    "\n",
    "class CustomCRFTagger(nltk.tag.CRFTagger):\n",
    "    _current_tokens = None\n",
    "    \n",
    "    def _get_features(self, tokens, idx):\n",
    "\n",
    "            token = tokens[idx]\n",
    "\n",
    "            feature_list = []\n",
    "\n",
    "            if not token:\n",
    "                return feature_list\n",
    "\n",
    "            # Current word\n",
    "            feature_list.append(\"WORD_\" + token)\n",
    " \n",
    "            # Previous / Next Word\n",
    "            if idx > 0:\n",
    "                feature_list.append(\"PREVWORD_\" + tokens[idx-1]) # if first word there is no previous, so skip first word\n",
    "            if idx < len(tokens)-1:\n",
    "                feature_list.append(\"NEXTWORD_\" + tokens[idx+1]) # if last word there is no next, so don't go to last word \n",
    "            \n",
    "            # Capitalisation\n",
    "            if token[0].isupper():\n",
    "                feature_list.append(\"CAPITALIZATION\")\n",
    "\n",
    "            # Number\n",
    "            if re.search(self._pattern, token) is not None:\n",
    "                feature_list.append(\"HAS_NUM\")\n",
    "\n",
    "            # Punctuation\n",
    "            punc_cat = {\"Pc\", \"Pd\", \"Ps\", \"Pe\", \"Pi\", \"Pf\", \"Po\"}\n",
    "            if all(unicodedata.category(x) in punc_cat for x in token):\n",
    "                feature_list.append(\"PUNCTUATION\")\n",
    "\n",
    "            # new feature 'SUF_fix'\n",
    "            if len(token) > 1:\n",
    "                feature_list.append(\"SUF_\" + token[-1:])\n",
    "            if len(token) > 2:\n",
    "                feature_list.append(\"SUF_\" + token[-2:])\n",
    "            if len(token) > 3:\n",
    "                feature_list.append(\"SUF_\" + token[-3:])\n",
    "\n",
    "            # new feature 'PRE_fix'\n",
    "            if len(token) > 1:\n",
    "                feature_list.append(\"PRE_\" + token[:1])\n",
    "            if len(token) > 2:\n",
    "                feature_list.append(\"PRE_\" + token[:2])\n",
    "            if len(token) > 3:\n",
    "                feature_list.append(\"PRE_\" + token[:3])\n",
    "\n",
    "            # Wordshape\n",
    "            wordshape = \"\"\n",
    "            for char in token:\n",
    "                if char.isupper():\n",
    "                    wordshape += \"U\"\n",
    "                elif char.islower():\n",
    "                    wordshape += \"L\"\n",
    "                elif char.isdigit():\n",
    "                    wordshape += \"D\"\n",
    "                else:\n",
    "                    wordshape += \"P\"\n",
    "            feature_list.append(\"WORDSHAPE_\" + wordshape)\n",
    "\n",
    "            return feature_list\n",
    "                \n"
   ]
  },
  {
   "cell_type": "code",
   "execution_count": 19,
   "id": "16977c7c",
   "metadata": {},
   "outputs": [
    {
     "name": "stdout",
     "output_type": "stream",
     "text": [
      "Time taken to train custom CRF tagger: 213.16 seconds\n"
     ]
    }
   ],
   "source": [
    "import nltk\n",
    "import time\n",
    "from nltk.tag import CRFTagger\n",
    "\n",
    "# Train a CRF NER tagger\n",
    "def train_CustomCRF_NER_tagger(train_set):\n",
    "    start_time = time.time()\n",
    "    tagger = CustomCRFTagger()\n",
    "    tagger.train(train_set, 'model.crf.tagger')\n",
    "    end_time = time.time()\n",
    "    print(f\"Time taken to train custom CRF tagger: {end_time - start_time:.2f} seconds\")\n",
    "    return tagger\n",
    "\n",
    "tagger = train_CustomCRF_NER_tagger(train_set)"
   ]
  },
  {
   "cell_type": "code",
   "execution_count": 20,
   "id": "fb9aed5c",
   "metadata": {},
   "outputs": [
    {
     "name": "stdout",
     "output_type": "stream",
     "text": [
      "[('IL-2', 'B-protein'), ('gene', 'O'), ('expression', 'O'), ('and', 'O'), ('NF-kappa', 'B-protein'), ('B', 'I-protein'), ('activation', 'O'), ('through', 'O'), ('CD28', 'B-protein'), ('requires', 'O'), ('reactive', 'O'), ('oxygen', 'O'), ('production', 'O'), ('by', 'O'), ('5-lipoxygenase', 'B-protein'), ('.', 'O')] \n",
      "\n",
      "[('IL-2', 'B-DNA'), ('gene', 'I-DNA'), ('expression', 'O'), ('and', 'O'), ('NF-kappa', 'B-protein'), ('B', 'I-protein'), ('activation', 'O'), ('through', 'O'), ('CD28', 'B-protein'), ('requires', 'O'), ('reactive', 'O'), ('oxygen', 'O'), ('production', 'O'), ('by', 'O'), ('5-lipoxygenase', 'B-protein'), ('.', 'O')] \n",
      "\n",
      "F1 score for class DNA = 0.6684280052840159\n",
      "F1 score for class protein = 0.793580331227591\n",
      "F1 score for class cell_type = 0.7623682076236821\n",
      "F1 score for class cell_line = 0.6629464285714286\n",
      "F1 score for class RNA = 0.6694214876033057\n",
      "Macro-average f1 score = 0.7113488920620047\n"
     ]
    }
   ],
   "source": [
    "predicted_tags = tagger.tag_sents(val_tokens)\n",
    "print(predicted_tags[0], '\\n')\n",
    "print(val_set[0], '\\n')\n",
    "\n",
    "cal_span_level_f1(val_set, predicted_tags)"
   ]
  },
  {
   "cell_type": "code",
   "execution_count": 21,
   "id": "6a8fe6c4",
   "metadata": {},
   "outputs": [],
   "source": [
    "## In the paper it explains some of the features used by the best models:  PENNTREEBANK, MEDLINE, BRITISH"
   ]
  },
  {
   "cell_type": "markdown",
   "id": "1f95cc9e",
   "metadata": {},
   "source": [
    "# 2) ADD POS_TAGS (LOOK BACK TO HMM TO IMPROVE TAGS...)"
   ]
  },
  {
   "cell_type": "code",
   "execution_count": 22,
   "id": "8f6b568f",
   "metadata": {},
   "outputs": [],
   "source": [
    "# Improve the Customer CRF NER tagger using POS\n",
    "class CRFTaggerWithPOS(CustomCRFTagger): # starts with the customCRFtagger from previous, \n",
    "    _current_tokens = None\n",
    "    \n",
    "    def _get_features(self, tokens, index):\n",
    "        \"\"\"\n",
    "        Extract the features for a token and append the POS tag as an additional feature.\n",
    "        \"\"\"\n",
    "        basic_features = super()._get_features(tokens, index)\n",
    "        \n",
    "        # Get the pos tags for the current sentence and save it\n",
    "        if tokens != self._current_tokens:\n",
    "            self._pos_tagged_tokens = nltk.pos_tag(tokens) # want to use a domain-specific tagger e.g. GENIA? MEDLINE?\n",
    "            self._current_tokens = tokens\n",
    "            \n",
    "        basic_features.append(self._pos_tagged_tokens[index][1])\n",
    "        \n",
    "        return basic_features"
   ]
  },
  {
   "cell_type": "code",
   "execution_count": 23,
   "id": "fdcfd602",
   "metadata": {},
   "outputs": [
    {
     "name": "stdout",
     "output_type": "stream",
     "text": [
      "Time taken to train custom CRF tagger: 262.02 seconds\n"
     ]
    }
   ],
   "source": [
    "import nltk\n",
    "import time\n",
    "from nltk.tag import CRFTagger\n",
    "\n",
    "# Train a CRF NER tagger\n",
    "def train_CRF_NER_tagger_with_POS(train_set):\n",
    "    start_time = time.time()\n",
    "    tagger = CRFTaggerWithPOS()\n",
    "    tagger.train(train_set, 'model.crf.tagger')\n",
    "    end_time = time.time()\n",
    "    print(f\"Time taken to train custom CRF tagger: {end_time - start_time:.2f} seconds\")\n",
    "    return tagger  # return the trained model\n",
    "\n",
    "tagger = train_CRF_NER_tagger_with_POS(train_set)"
   ]
  },
  {
   "cell_type": "code",
   "execution_count": 24,
   "id": "435e9a3c",
   "metadata": {},
   "outputs": [
    {
     "name": "stdout",
     "output_type": "stream",
     "text": [
      "[('IL-2', 'B-DNA'), ('gene', 'I-DNA'), ('expression', 'O'), ('and', 'O'), ('NF-kappa', 'B-protein'), ('B', 'I-protein'), ('activation', 'O'), ('through', 'O'), ('CD28', 'B-protein'), ('requires', 'O'), ('reactive', 'O'), ('oxygen', 'O'), ('production', 'O'), ('by', 'O'), ('5-lipoxygenase', 'B-protein'), ('.', 'O')] \n",
      "\n",
      "[('IL-2', 'B-DNA'), ('gene', 'I-DNA'), ('expression', 'O'), ('and', 'O'), ('NF-kappa', 'B-protein'), ('B', 'I-protein'), ('activation', 'O'), ('through', 'O'), ('CD28', 'B-protein'), ('requires', 'O'), ('reactive', 'O'), ('oxygen', 'O'), ('production', 'O'), ('by', 'O'), ('5-lipoxygenase', 'B-protein'), ('.', 'O')] \n",
      "\n",
      "F1 score for class DNA = 0.6657883179622311\n",
      "F1 score for class protein = 0.7912050451678883\n",
      "F1 score for class cell_type = 0.762836185819071\n",
      "F1 score for class cell_line = 0.670391061452514\n",
      "F1 score for class RNA = 0.6475409836065573\n",
      "Macro-average f1 score = 0.7075523188016524\n"
     ]
    }
   ],
   "source": [
    "predicted_tags = tagger.tag_sents(val_tokens)\n",
    "print(predicted_tags[0], '\\n')\n",
    "print(val_set[0], '\\n')\n",
    "\n",
    "cal_span_level_f1(val_set, predicted_tags)"
   ]
  },
  {
   "cell_type": "markdown",
   "id": "17c03fb1",
   "metadata": {},
   "source": [
    "# NEED TO TEST ON TEST DATA AT THE END! "
   ]
  },
  {
   "cell_type": "code",
   "execution_count": 25,
   "id": "5cddaf95",
   "metadata": {},
   "outputs": [
    {
     "name": "stdout",
     "output_type": "stream",
     "text": [
      "[('Number', 'O'), ('of', 'O'), ('glucocorticoid', 'B-protein'), ('receptors', 'I-protein'), ('in', 'O'), ('lymphocytes', 'B-cell_type'), ('and', 'O'), ('their', 'O'), ('sensitivity', 'O'), ('to', 'O'), ('hormone', 'O'), ('action', 'O'), ('.', 'O')] \n",
      "\n",
      "[('Number', 'O'), ('of', 'O'), ('glucocorticoid', 'B-protein'), ('receptors', 'I-protein'), ('in', 'O'), ('lymphocytes', 'B-cell_type'), ('and', 'O'), ('their', 'O'), ('sensitivity', 'O'), ('to', 'O'), ('hormone', 'O'), ('action', 'O'), ('.', 'O')] \n",
      "\n",
      "F1 score for class protein = 0.7005800133117809\n",
      "F1 score for class cell_type = 0.7104580812445981\n",
      "F1 score for class DNA = 0.6435299950421419\n",
      "F1 score for class cell_line = 0.554240631163708\n",
      "F1 score for class RNA = 0.6351931330472103\n",
      "Macro-average f1 score = 0.6488003707618878\n"
     ]
    }
   ],
   "source": [
    "predicted_tags = tagger.tag_sents(test_tokens)\n",
    "print(predicted_tags[0], '\\n')\n",
    "print(test_set[0], '\\n')\n",
    "\n",
    "cal_span_level_f1(test_set, predicted_tags)"
   ]
  },
  {
   "cell_type": "code",
   "execution_count": 26,
   "id": "2c27d428",
   "metadata": {},
   "outputs": [
    {
     "name": "stdout",
     "output_type": "stream",
     "text": [
      "Sentence 1: Number of glucocorticoid receptors in lymphocytes and their sensitivity to hormone action .\n",
      "\n",
      "Tagged Sentence 1: Number/O of/O glucocorticoid/B-protein receptors/I-protein in/O lymphocytes/B-cell_type and/O their/O sensitivity/O to/O hormone/O action/O ./O\n",
      "\n",
      "------------------------------------------------------------\n",
      "Sentence 2: The study demonstrated a decreased level of glucocorticoid receptors ( GR ) in peripheral blood lymphocytes from hypercholesterolemic subjects , and an elevated level in patients with acute myocardial infarction .\n",
      "\n",
      "Tagged Sentence 2: The/O study/O demonstrated/O a/O decreased/O level/O of/O glucocorticoid/B-protein receptors/I-protein (/O GR/B-protein )/O in/O peripheral/B-cell_type blood/I-cell_type lymphocytes/I-cell_type from/O hypercholesterolemic/O subjects/O ,/O and/O an/O elevated/O level/O in/O patients/O with/O acute/O myocardial/O infarction/O ./O\n",
      "\n",
      "------------------------------------------------------------\n"
     ]
    }
   ],
   "source": [
    "# Print out the first 10 sentences and their predicted NER tags\n",
    "for i in range(2):\n",
    "    sentence = \" \".join([token for token, tag in test_set[i]])\n",
    "    tagged_sentence = \" \".join([f\"{token}/{tag}\" for token, tag in predicted_tags[i]])\n",
    "    \n",
    "    print(f\"Sentence {i+1}: {sentence}\\n\")\n",
    "    print(f\"Tagged Sentence {i+1}: {tagged_sentence}\\n\")\n",
    "    print(\"---\" * 20)"
   ]
  },
  {
   "cell_type": "code",
   "execution_count": 27,
   "id": "95a62e36",
   "metadata": {},
   "outputs": [
    {
     "data": {
      "image/png": "[encoded data removed]",
      "text/plain": [
       "<Figure size 600x400 with 1 Axes>"
      ]
     },
     "metadata": {},
     "output_type": "display_data"
    }
   ],
   "source": [
    "import matplotlib.pyplot as plt\n",
    "import pandas as pd\n",
    "\n",
    "flat_predicted_tags = [tag for sent in predicted_tags for _, tag in sent]\n",
    "\n",
    "# remove 'O' tags, they swamp the numbers\n",
    "filtered_tags = [tag for tag in flat_predicted_tags if tag != 'O']\n",
    "\n",
    "df = pd.DataFrame(filtered_tags, columns=['tags'])\n",
    "\n",
    "# frequency of each tag\n",
    "tag_counts = df['tags'].value_counts()\n",
    "\n",
    "# histogram\n",
    "plt.figure(figsize=(6,4))\n",
    "plt.bar(tag_counts.index, tag_counts.values)\n",
    "plt.title('Histogram of Entity Types (excluding O)')\n",
    "plt.xlabel('')\n",
    "plt.ylabel('Frequency')\n",
    "plt.xticks(rotation='vertical')\n",
    "plt.show()\n"
   ]
  },
  {
   "cell_type": "code",
   "execution_count": 28,
   "id": "27e11263",
   "metadata": {},
   "outputs": [
    {
     "data": {
      "image/png": "[encoded data removed]",
      "text/plain": [
       "<Figure size 1000x700 with 1 Axes>"
      ]
     },
     "metadata": {},
     "output_type": "display_data"
    }
   ],
   "source": [
    "import pandas as pd\n",
    "import matplotlib.pyplot as plt\n",
    "\n",
    "# Define the data\n",
    "data = {\n",
    "    \"PHASE\": [\"PHASE1\", \"PHASE2\", \"PHASE3\", \"FINAL\"],\n",
    "    \"DNA\": [0.61, 0.63, 0.61, 0.78],\n",
    "    \"protein\": [0.41, 0.45, 0.41, 0.72],\n",
    "    \"cell_type\": [0.61, 0.63, 0.61, 0.59],\n",
    "    \"cell_line\": [0.41, 0.45, 0.40, 0.54],\n",
    "    \"RNA\": [0.11, 0.05, 0.13, 0.61]\n",
    "    # \"macro_F1\": [0.53, 0.56, 0.53, 0.68],\n",
    "    # \"t\" column is removed as per your request\n",
    "}\n",
    "\n",
    "# Create a DataFrame\n",
    "df = pd.DataFrame(data)\n",
    "\n",
    "# Set the index to be the PHASE column\n",
    "df.set_index('PHASE', inplace=True)\n",
    "\n",
    "# Plot the DataFrame\n",
    "df.plot(kind='bar', figsize=(10,7))\n",
    "plt.title('F1 Scores and Training Time Results')\n",
    "plt.ylabel('Scores')\n",
    "plt.xlabel('Phase')\n",
    "plt.show()\n",
    "\n"
   ]
  },
  {
   "cell_type": "code",
   "execution_count": null,
   "id": "a8dfbf58",
   "metadata": {},
   "outputs": [],
   "source": []
  }
 ],
 "metadata": {
  "kernelspec": {
   "display_name": "data_analytics",
   "language": "python",
   "name": "data_analytics"
  },
  "language_info": {
   "codemirror_mode": {
    "name": "ipython",
    "version": 3
   },
   "file_extension": ".py",
   "mimetype": "text/x-python",
   "name": "python",
   "nbconvert_exporter": "python",
   "pygments_lexer": "ipython3",
   "version": "3.9.16"
  }
 },
 "nbformat": 4,
 "nbformat_minor": 5
}
